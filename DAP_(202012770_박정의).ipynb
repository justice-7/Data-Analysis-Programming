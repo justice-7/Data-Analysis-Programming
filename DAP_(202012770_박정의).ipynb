{
  "nbformat": 4,
  "nbformat_minor": 0,
  "metadata": {
    "colab": {
      "name": "DAP (202012770_박정의).ipynb",
      "provenance": [],
      "collapsed_sections": [
        "IfxlsYocIunm"
      ],
      "authorship_tag": "ABX9TyPtE8Wr8JYRpsGDGqYqDHW/",
      "include_colab_link": true
    },
    "kernelspec": {
      "name": "python3",
      "display_name": "Python 3"
    },
    "language_info": {
      "name": "python"
    }
  },
  "cells": [
    {
      "cell_type": "markdown",
      "metadata": {
        "id": "view-in-github",
        "colab_type": "text"
      },
      "source": [
        "<a href=\"https://colab.research.google.com/github/justice-7/Data-Analysis-Programming/blob/main/DAP_(202012770_%EB%B0%95%EC%A0%95%EC%9D%98).ipynb\" target=\"_parent\"><img src=\"https://colab.research.google.com/assets/colab-badge.svg\" alt=\"Open In Colab\"/></a>"
      ]
    },
    {
      "cell_type": "markdown",
      "source": [
        "# **주식**\n",
        "1. 코스피와 코스닥의 차이\n",
        "2. 상장 주식 수와 거래량과 현재가의 상관관계\n",
        "3. 삼성전자의 매수 타이밍과 매도 타이밍"
      ],
      "metadata": {
        "id": "pOUPKqxsl1eM"
      }
    },
    {
      "cell_type": "code",
      "source": [
        "import time\n",
        "import xlwt\n",
        "import glob  \n",
        "import sys\n",
        "import os\n",
        "\n",
        "import numpy as np \n",
        "import pandas as pd\n",
        "import matplotlib as mpl\n",
        "import matplotlib.pylab as plb\n",
        "import matplotlib.pyplot as plt\n",
        "import sklearn as sk\n",
        "import seaborn as sns\n",
        "import scipy.stats as stats"
      ],
      "metadata": {
        "id": "o_9Fg6Jeg00U"
      },
      "execution_count": 1,
      "outputs": []
    },
    {
      "cell_type": "markdown",
      "source": [
        "한글 폰트 설치\n",
        "\n",
        "https://velog.io/@heiswicked/%EC%84%B8%ED%8C%85%EC%9D%B4-%EB%B0%98%EC%9D%B4%EB%8B%A4-Google-COLAB-%ED%95%9C%EA%B8%80%ED%8F%B0%ED%8A%B8%ED%8E%B8"
      ],
      "metadata": {
        "id": "XmTu0Sa02ROp"
      }
    },
    {
      "cell_type": "code",
      "source": [
        "!sudo apt-get install -y fonts-nanum\n",
        "!sudo fc-cache -fv\n",
        "!rm ~/.cache/matplotlib -rf"
      ],
      "metadata": {
        "id": "mEvWnXFiwtPr"
      },
      "execution_count": null,
      "outputs": []
    },
    {
      "cell_type": "code",
      "source": [
        "%matplotlib inline\n",
        "\n",
        "%config InlineBackend.figure_format = 'retina'\n",
        "\n",
        "plt.rc('font', family='NanumBarunGothic') \n",
        "\n",
        "mpl.rc('axes', unicode_minus=False)"
      ],
      "metadata": {
        "id": "oBl47QLq2QOP"
      },
      "execution_count": 3,
      "outputs": []
    },
    {
      "cell_type": "markdown",
      "source": [
        "# 코스피 종목 정보 크롤링\n",
        "\n",
        "시가총액 상위 200개\n",
        "\n",
        "참고:\n",
        "https://blog.naver.com/PostView.nhn?isHttpsRedirect=true&blogId=ym7596&logNo=222056342589&categoryNo=0&parentCategoryNo=0&viewDate=&currentPage=1&postListTopCurrentPage=1&from=postView"
      ],
      "metadata": {
        "id": "ORr1SMHYrx8s"
      }
    },
    {
      "cell_type": "code",
      "execution_count": null,
      "metadata": {
        "id": "GP9ht6rJZy4F"
      },
      "outputs": [],
      "source": [
        "!pip install selenium\n",
        "!pip install --upgrade beautifulsoup4\n",
        "!apt install chromium-chromedriver\n",
        "!cp /usr/lib/chromium-browser/chromedriver /usr/bin"
      ]
    },
    {
      "cell_type": "code",
      "source": [
        "from bs4 import BeautifulSoup\n",
        "from selenium import webdriver\n",
        "from selenium.webdriver.support.ui import Select"
      ],
      "metadata": {
        "id": "ioHj-2HB_WxD"
      },
      "execution_count": 5,
      "outputs": []
    },
    {
      "cell_type": "code",
      "source": [
        "options = webdriver.ChromeOptions()\n",
        "options.add_argument('--headless')       \n",
        "options.add_argument('--no-sandbox')\n",
        "options.add_argument('--disable-dev-shm-usage')\n",
        "driver = webdriver.Chrome('chromedriver', options=options)\n",
        "\n",
        "def get_items(prod_items):\n",
        "    prod_data = []\n",
        "    for prod_item in prod_items:\n",
        "        if len(prod_item) <= 1:\n",
        "            continue\n",
        "    \n",
        "        try:\n",
        "            name = prod_item.select('td')[1].text.strip()\n",
        "        except:\n",
        "            name = '\\0'\n",
        "        try:\n",
        "            price = int(prod_item.select('td')[2].text.strip().replace(\",\",\"\"))\n",
        "        except:\n",
        "            price = '\\0'\n",
        "        try:\n",
        "             georae= int(prod_item.select('td')[6].text.strip().replace(\",\",\"\"))\n",
        "        except:\n",
        "            georae = '\\0'\n",
        "        try:\n",
        "            stockCnt = int(prod_item.select('td')[7].text.strip().replace(\",\",\"\"))\n",
        "        except:\n",
        "            stockCnt = '\\0'\n",
        "        try:\n",
        "            eps = int(prod_item.select('td')[8].text.strip().replace(\",\",\"\"))\n",
        "        except:\n",
        "            eps = '\\0'\n",
        "        try:\n",
        "            per = float(prod_item.select('td')[9].text.strip())\n",
        "        except:\n",
        "            per = '\\0'\n",
        "        try:\n",
        "            roe = float(prod_item.select('td')[10].text.strip())\n",
        "        except:\n",
        "            roe = '\\0'\n",
        "        try:\n",
        "            pbr = float(prod_item.select('td')[11].text.strip())\n",
        "        except:\n",
        "            pbr = '\\0'\n",
        "        \n",
        "   \n",
        "        prod_data.append([name,price,georae,stockCnt,eps,per,roe,pbr])\n",
        "    return prod_data\n",
        "\n",
        "[os.remove(f) for f in glob.glob(\"./KOSPI*.csv\")] # 만들어진 파일 삭제\n",
        "\n",
        "for i in range(1,5):\n",
        "    url='https://finance.naver.com/sise/sise_market_sum.naver?&page='+str(i)\n",
        "    driver.get(url)\n",
        "    time.sleep(2)\n",
        "\n",
        "    if(i==1):\n",
        "        #원하는 항목을 체크 후 적용하기 클릭\n",
        "        driver.find_element_by_id('option4').click()\n",
        "        driver.find_element_by_id('option15').click()\n",
        "        driver.find_element_by_id('option23').click()\n",
        "        driver.find_element_by_id('option24').click()\n",
        "        driver.find_element_by_xpath('/html/body/div[3]/div[2]/div[2]/div[1]/div[2]/form/div/div/div/a[1]/img').click()\n",
        "\n",
        "    time.sleep(2)\n",
        "\n",
        "    html = driver.page_source\n",
        "    soup = BeautifulSoup(html,'html.parser')\n",
        "\n",
        "    prod_items = soup.select('table.type_2 > tbody > tr')\n",
        "\n",
        "    prod_data_fin = get_items(prod_items)\n",
        "\n",
        "    data = pd.DataFrame(prod_data_fin)\n",
        "\n",
        "    data.columns = ['종목명','현재가','거래량','상장주식수','주당순이익','PER','ROE','PBR']\n",
        "\n",
        "    data.to_csv('./KOSPI'+str(i)+'.csv')\n",
        "\n",
        "    time.sleep(2)\n",
        "\n",
        "all_data = []  \n",
        "for f in glob.glob('./KOSPI*.csv'):\n",
        "    df = pd.read_csv(f)  \n",
        "    all_data.append(df)\n",
        "\n",
        "dataCombine = pd.concat(all_data, axis=0, ignore_index=True)\n",
        " \n",
        "dataCombine.to_csv(\"./KOSPI.csv\", index=False)"
      ],
      "metadata": {
        "id": "I67GYtxbZ9Pc",
        "colab": {
          "base_uri": "https://localhost:8080/"
        },
        "outputId": "5a794f3a-4404-49a3-ae25-a17c791e3b9b"
      },
      "execution_count": 6,
      "outputs": [
        {
          "output_type": "stream",
          "name": "stderr",
          "text": [
            "/usr/local/lib/python3.7/dist-packages/ipykernel_launcher.py:59: DeprecationWarning: find_element_by_* commands are deprecated. Please use find_element() instead\n",
            "/usr/local/lib/python3.7/dist-packages/ipykernel_launcher.py:60: DeprecationWarning: find_element_by_* commands are deprecated. Please use find_element() instead\n",
            "/usr/local/lib/python3.7/dist-packages/ipykernel_launcher.py:61: DeprecationWarning: find_element_by_* commands are deprecated. Please use find_element() instead\n",
            "/usr/local/lib/python3.7/dist-packages/ipykernel_launcher.py:62: DeprecationWarning: find_element_by_* commands are deprecated. Please use find_element() instead\n",
            "/usr/local/lib/python3.7/dist-packages/ipykernel_launcher.py:63: DeprecationWarning: find_element_by_* commands are deprecated. Please use find_element() instead\n"
          ]
        }
      ]
    },
    {
      "cell_type": "code",
      "source": [
        "dfKospi=pd.read_csv('./KOSPI.csv')\n",
        "dfKospi=dfKospi[['종목명','현재가','거래량','상장주식수','주당순이익','PER','ROE','PBR']]\n",
        "dfKospi"
      ],
      "metadata": {
        "colab": {
          "base_uri": "https://localhost:8080/",
          "height": 423
        },
        "id": "_ssyFvTAaLvL",
        "outputId": "4f84f3f9-41d0-420d-bcd1-94c84ead49f1"
      },
      "execution_count": 7,
      "outputs": [
        {
          "output_type": "execute_result",
          "data": {
            "text/html": [
              "\n",
              "  <div id=\"df-a28a97b1-df74-4541-b004-9b56b31a44c4\">\n",
              "    <div class=\"colab-df-container\">\n",
              "      <div>\n",
              "<style scoped>\n",
              "    .dataframe tbody tr th:only-of-type {\n",
              "        vertical-align: middle;\n",
              "    }\n",
              "\n",
              "    .dataframe tbody tr th {\n",
              "        vertical-align: top;\n",
              "    }\n",
              "\n",
              "    .dataframe thead th {\n",
              "        text-align: right;\n",
              "    }\n",
              "</style>\n",
              "<table border=\"1\" class=\"dataframe\">\n",
              "  <thead>\n",
              "    <tr style=\"text-align: right;\">\n",
              "      <th></th>\n",
              "      <th>종목명</th>\n",
              "      <th>현재가</th>\n",
              "      <th>거래량</th>\n",
              "      <th>상장주식수</th>\n",
              "      <th>주당순이익</th>\n",
              "      <th>PER</th>\n",
              "      <th>ROE</th>\n",
              "      <th>PBR</th>\n",
              "    </tr>\n",
              "  </thead>\n",
              "  <tbody>\n",
              "    <tr>\n",
              "      <th>0</th>\n",
              "      <td>LG이노텍</td>\n",
              "      <td>335500</td>\n",
              "      <td>660728</td>\n",
              "      <td>23667</td>\n",
              "      <td>31557.0</td>\n",
              "      <td>10.63</td>\n",
              "      <td>10.20</td>\n",
              "      <td>2.56</td>\n",
              "    </tr>\n",
              "    <tr>\n",
              "      <th>1</th>\n",
              "      <td>롯데케미칼</td>\n",
              "      <td>229500</td>\n",
              "      <td>98199</td>\n",
              "      <td>34275</td>\n",
              "      <td>39751.0</td>\n",
              "      <td>5.77</td>\n",
              "      <td>1.22</td>\n",
              "      <td>0.55</td>\n",
              "    </tr>\n",
              "    <tr>\n",
              "      <th>2</th>\n",
              "      <td>SK바이오팜</td>\n",
              "      <td>97600</td>\n",
              "      <td>146720</td>\n",
              "      <td>78313</td>\n",
              "      <td>-516.0</td>\n",
              "      <td>-189.15</td>\n",
              "      <td>-135.18</td>\n",
              "      <td>19.30</td>\n",
              "    </tr>\n",
              "    <tr>\n",
              "      <th>3</th>\n",
              "      <td>한온시스템</td>\n",
              "      <td>13300</td>\n",
              "      <td>463500</td>\n",
              "      <td>533800</td>\n",
              "      <td>548.0</td>\n",
              "      <td>24.27</td>\n",
              "      <td>5.09</td>\n",
              "      <td>3.09</td>\n",
              "    </tr>\n",
              "    <tr>\n",
              "      <th>4</th>\n",
              "      <td>F&amp;F</td>\n",
              "      <td>885000</td>\n",
              "      <td>30354</td>\n",
              "      <td>7661</td>\n",
              "      <td>NaN</td>\n",
              "      <td>NaN</td>\n",
              "      <td>NaN</td>\n",
              "      <td>16.01</td>\n",
              "    </tr>\n",
              "    <tr>\n",
              "      <th>...</th>\n",
              "      <td>...</td>\n",
              "      <td>...</td>\n",
              "      <td>...</td>\n",
              "      <td>...</td>\n",
              "      <td>...</td>\n",
              "      <td>...</td>\n",
              "      <td>...</td>\n",
              "      <td>...</td>\n",
              "    </tr>\n",
              "    <tr>\n",
              "      <th>195</th>\n",
              "      <td>SK스퀘어</td>\n",
              "      <td>60900</td>\n",
              "      <td>2566044</td>\n",
              "      <td>141468</td>\n",
              "      <td>NaN</td>\n",
              "      <td>NaN</td>\n",
              "      <td>NaN</td>\n",
              "      <td>NaN</td>\n",
              "    </tr>\n",
              "    <tr>\n",
              "      <th>196</th>\n",
              "      <td>KT</td>\n",
              "      <td>32250</td>\n",
              "      <td>893894</td>\n",
              "      <td>261112</td>\n",
              "      <td>3914.0</td>\n",
              "      <td>8.24</td>\n",
              "      <td>4.76</td>\n",
              "      <td>0.52</td>\n",
              "    </tr>\n",
              "    <tr>\n",
              "      <th>197</th>\n",
              "      <td>현대중공업</td>\n",
              "      <td>94000</td>\n",
              "      <td>409225</td>\n",
              "      <td>88773</td>\n",
              "      <td>-9163.0</td>\n",
              "      <td>-10.26</td>\n",
              "      <td>-7.86</td>\n",
              "      <td>1.36</td>\n",
              "    </tr>\n",
              "    <tr>\n",
              "      <th>198</th>\n",
              "      <td>기업은행</td>\n",
              "      <td>11200</td>\n",
              "      <td>1010008</td>\n",
              "      <td>744301</td>\n",
              "      <td>2702.0</td>\n",
              "      <td>4.15</td>\n",
              "      <td>6.44</td>\n",
              "      <td>0.31</td>\n",
              "    </tr>\n",
              "    <tr>\n",
              "      <th>199</th>\n",
              "      <td>LG디스플레이</td>\n",
              "      <td>22250</td>\n",
              "      <td>2006233</td>\n",
              "      <td>357816</td>\n",
              "      <td>4413.0</td>\n",
              "      <td>5.04</td>\n",
              "      <td>-0.79</td>\n",
              "      <td>0.61</td>\n",
              "    </tr>\n",
              "  </tbody>\n",
              "</table>\n",
              "<p>200 rows × 8 columns</p>\n",
              "</div>\n",
              "      <button class=\"colab-df-convert\" onclick=\"convertToInteractive('df-a28a97b1-df74-4541-b004-9b56b31a44c4')\"\n",
              "              title=\"Convert this dataframe to an interactive table.\"\n",
              "              style=\"display:none;\">\n",
              "        \n",
              "  <svg xmlns=\"http://www.w3.org/2000/svg\" height=\"24px\"viewBox=\"0 0 24 24\"\n",
              "       width=\"24px\">\n",
              "    <path d=\"M0 0h24v24H0V0z\" fill=\"none\"/>\n",
              "    <path d=\"M18.56 5.44l.94 2.06.94-2.06 2.06-.94-2.06-.94-.94-2.06-.94 2.06-2.06.94zm-11 1L8.5 8.5l.94-2.06 2.06-.94-2.06-.94L8.5 2.5l-.94 2.06-2.06.94zm10 10l.94 2.06.94-2.06 2.06-.94-2.06-.94-.94-2.06-.94 2.06-2.06.94z\"/><path d=\"M17.41 7.96l-1.37-1.37c-.4-.4-.92-.59-1.43-.59-.52 0-1.04.2-1.43.59L10.3 9.45l-7.72 7.72c-.78.78-.78 2.05 0 2.83L4 21.41c.39.39.9.59 1.41.59.51 0 1.02-.2 1.41-.59l7.78-7.78 2.81-2.81c.8-.78.8-2.07 0-2.86zM5.41 20L4 18.59l7.72-7.72 1.47 1.35L5.41 20z\"/>\n",
              "  </svg>\n",
              "      </button>\n",
              "      \n",
              "  <style>\n",
              "    .colab-df-container {\n",
              "      display:flex;\n",
              "      flex-wrap:wrap;\n",
              "      gap: 12px;\n",
              "    }\n",
              "\n",
              "    .colab-df-convert {\n",
              "      background-color: #E8F0FE;\n",
              "      border: none;\n",
              "      border-radius: 50%;\n",
              "      cursor: pointer;\n",
              "      display: none;\n",
              "      fill: #1967D2;\n",
              "      height: 32px;\n",
              "      padding: 0 0 0 0;\n",
              "      width: 32px;\n",
              "    }\n",
              "\n",
              "    .colab-df-convert:hover {\n",
              "      background-color: #E2EBFA;\n",
              "      box-shadow: 0px 1px 2px rgba(60, 64, 67, 0.3), 0px 1px 3px 1px rgba(60, 64, 67, 0.15);\n",
              "      fill: #174EA6;\n",
              "    }\n",
              "\n",
              "    [theme=dark] .colab-df-convert {\n",
              "      background-color: #3B4455;\n",
              "      fill: #D2E3FC;\n",
              "    }\n",
              "\n",
              "    [theme=dark] .colab-df-convert:hover {\n",
              "      background-color: #434B5C;\n",
              "      box-shadow: 0px 1px 3px 1px rgba(0, 0, 0, 0.15);\n",
              "      filter: drop-shadow(0px 1px 2px rgba(0, 0, 0, 0.3));\n",
              "      fill: #FFFFFF;\n",
              "    }\n",
              "  </style>\n",
              "\n",
              "      <script>\n",
              "        const buttonEl =\n",
              "          document.querySelector('#df-a28a97b1-df74-4541-b004-9b56b31a44c4 button.colab-df-convert');\n",
              "        buttonEl.style.display =\n",
              "          google.colab.kernel.accessAllowed ? 'block' : 'none';\n",
              "\n",
              "        async function convertToInteractive(key) {\n",
              "          const element = document.querySelector('#df-a28a97b1-df74-4541-b004-9b56b31a44c4');\n",
              "          const dataTable =\n",
              "            await google.colab.kernel.invokeFunction('convertToInteractive',\n",
              "                                                     [key], {});\n",
              "          if (!dataTable) return;\n",
              "\n",
              "          const docLinkHtml = 'Like what you see? Visit the ' +\n",
              "            '<a target=\"_blank\" href=https://colab.research.google.com/notebooks/data_table.ipynb>data table notebook</a>'\n",
              "            + ' to learn more about interactive tables.';\n",
              "          element.innerHTML = '';\n",
              "          dataTable['output_type'] = 'display_data';\n",
              "          await google.colab.output.renderOutput(dataTable, element);\n",
              "          const docLink = document.createElement('div');\n",
              "          docLink.innerHTML = docLinkHtml;\n",
              "          element.appendChild(docLink);\n",
              "        }\n",
              "      </script>\n",
              "    </div>\n",
              "  </div>\n",
              "  "
            ],
            "text/plain": [
              "         종목명     현재가      거래량   상장주식수    주당순이익     PER     ROE    PBR\n",
              "0      LG이노텍  335500   660728   23667  31557.0   10.63   10.20   2.56\n",
              "1      롯데케미칼  229500    98199   34275  39751.0    5.77    1.22   0.55\n",
              "2     SK바이오팜   97600   146720   78313   -516.0 -189.15 -135.18  19.30\n",
              "3      한온시스템   13300   463500  533800    548.0   24.27    5.09   3.09\n",
              "4        F&F  885000    30354    7661      NaN     NaN     NaN  16.01\n",
              "..       ...     ...      ...     ...      ...     ...     ...    ...\n",
              "195    SK스퀘어   60900  2566044  141468      NaN     NaN     NaN    NaN\n",
              "196       KT   32250   893894  261112   3914.0    8.24    4.76   0.52\n",
              "197    현대중공업   94000   409225   88773  -9163.0  -10.26   -7.86   1.36\n",
              "198     기업은행   11200  1010008  744301   2702.0    4.15    6.44   0.31\n",
              "199  LG디스플레이   22250  2006233  357816   4413.0    5.04   -0.79   0.61\n",
              "\n",
              "[200 rows x 8 columns]"
            ]
          },
          "metadata": {},
          "execution_count": 7
        }
      ]
    },
    {
      "cell_type": "markdown",
      "source": [
        "# 코스닥 종목 정보 크롤링"
      ],
      "metadata": {
        "id": "5084KU0XsTgi"
      }
    },
    {
      "cell_type": "code",
      "source": [
        "options = webdriver.ChromeOptions()\n",
        "options.add_argument('--headless')       \n",
        "options.add_argument('--no-sandbox')\n",
        "options.add_argument('--disable-dev-shm-usage')\n",
        "driver = webdriver.Chrome('chromedriver', options=options)\n",
        "\n",
        "def get_items(prod_items):\n",
        "    prod_data = []\n",
        "    for prod_item in prod_items:\n",
        "        if len(prod_item) <= 1:\n",
        "            continue\n",
        "    \n",
        "        try:\n",
        "            name = prod_item.select('td')[1].text.strip()\n",
        "        except:\n",
        "            name = '\\0'\n",
        "        try:\n",
        "            price = int(prod_item.select('td')[2].text.strip().replace(\",\",\"\"))\n",
        "        except:\n",
        "            price = '\\0'\n",
        "        try:\n",
        "             georae= int(prod_item.select('td')[6].text.strip().replace(\",\",\"\"))\n",
        "        except:\n",
        "            georae = '\\0'\n",
        "        try:\n",
        "            stockCnt = int(prod_item.select('td')[7].text.strip().replace(\",\",\"\"))\n",
        "        except:\n",
        "            stockCnt = '\\0'\n",
        "        try:\n",
        "            eps = int(prod_item.select('td')[8].text.strip().replace(\",\",\"\"))\n",
        "        except:\n",
        "            eps = '\\0'\n",
        "        try:\n",
        "            per = float(prod_item.select('td')[9].text.strip())\n",
        "        except:\n",
        "            per = '\\0'\n",
        "        try:\n",
        "            roe = float(prod_item.select('td')[10].text.strip())\n",
        "        except:\n",
        "            roe = '\\0'\n",
        "        try:\n",
        "            pbr = float(prod_item.select('td')[11].text.strip())\n",
        "        except:\n",
        "            pbr = '\\0'\n",
        "        \n",
        "   \n",
        "        prod_data.append([name,price,georae,stockCnt,eps,per,roe,pbr])\n",
        "    return prod_data\n",
        "\n",
        "[os.remove(f) for f in glob.glob(\"./KOSDAQ*.csv\")]\n",
        "\n",
        "for i in range(1,5):\n",
        "    url=' https://finance.naver.com/sise/sise_market_sum.naver?sosok=1&page='+str(i)\n",
        "    driver.get(url)\n",
        "    time.sleep(2)\n",
        "\n",
        "    if(i==1):\n",
        "        #원하는 항목을 체크 후 적용하기 클릭\n",
        "        driver.find_element_by_id('option4').click()\n",
        "        driver.find_element_by_id('option15').click()\n",
        "        driver.find_element_by_id('option23').click()\n",
        "        driver.find_element_by_id('option24').click()\n",
        "        driver.find_element_by_xpath('/html/body/div[3]/div[2]/div[2]/div[1]/div[2]/form/div/div/div/a[1]/img').click()\n",
        "\n",
        "    time.sleep(2)\n",
        "\n",
        "    html = driver.page_source\n",
        "    soup = BeautifulSoup(html,'html.parser')\n",
        "\n",
        "    prod_items = soup.select('table.type_2 > tbody > tr')\n",
        "\n",
        "    prod_data_fin = get_items(prod_items)\n",
        "\n",
        "    data = pd.DataFrame(prod_data_fin)\n",
        "\n",
        "    data.columns = ['종목명','현재가','거래량','상장주식수','주당순이익','PER','ROE','PBR']\n",
        "\n",
        "    data.to_csv('./KOSDAQ'+str(i)+'.csv')\n",
        "\n",
        "    time.sleep(2)\n",
        "\n",
        "all_data = []  \n",
        "for f in glob.glob('./KOSDAQ*.csv'): \n",
        "    df = pd.read_csv(f)  \n",
        "    all_data.append(df)\n",
        "\n",
        "dataCombine = pd.concat(all_data, axis=0, ignore_index=True)\n",
        "\n",
        "dataCombine.to_csv(\"./KOSDAQ.csv\", index=False)"
      ],
      "metadata": {
        "colab": {
          "base_uri": "https://localhost:8080/"
        },
        "id": "GxpKsHwRsRq0",
        "outputId": "85b47d21-4740-4ab9-e247-7497bfc80066"
      },
      "execution_count": 8,
      "outputs": [
        {
          "output_type": "stream",
          "name": "stderr",
          "text": [
            "/usr/local/lib/python3.7/dist-packages/ipykernel_launcher.py:59: DeprecationWarning: find_element_by_* commands are deprecated. Please use find_element() instead\n",
            "/usr/local/lib/python3.7/dist-packages/ipykernel_launcher.py:60: DeprecationWarning: find_element_by_* commands are deprecated. Please use find_element() instead\n",
            "/usr/local/lib/python3.7/dist-packages/ipykernel_launcher.py:61: DeprecationWarning: find_element_by_* commands are deprecated. Please use find_element() instead\n",
            "/usr/local/lib/python3.7/dist-packages/ipykernel_launcher.py:62: DeprecationWarning: find_element_by_* commands are deprecated. Please use find_element() instead\n",
            "/usr/local/lib/python3.7/dist-packages/ipykernel_launcher.py:63: DeprecationWarning: find_element_by_* commands are deprecated. Please use find_element() instead\n"
          ]
        }
      ]
    },
    {
      "cell_type": "code",
      "source": [
        "dfKosdaq=pd.read_csv('./KOSDAQ.csv')\n",
        "dfKosdaq=dfKosdaq[['종목명','현재가','거래량','상장주식수','주당순이익','PER','ROE','PBR']]\n",
        "dfKosdaq"
      ],
      "metadata": {
        "id": "FD_x5jJXa8yV",
        "colab": {
          "base_uri": "https://localhost:8080/",
          "height": 423
        },
        "outputId": "33543e12-a44d-49d2-e2f4-9ca563e35067"
      },
      "execution_count": 9,
      "outputs": [
        {
          "output_type": "execute_result",
          "data": {
            "text/html": [
              "\n",
              "  <div id=\"df-aae0d9aa-53fd-437c-90db-318cb8496749\">\n",
              "    <div class=\"colab-df-container\">\n",
              "      <div>\n",
              "<style scoped>\n",
              "    .dataframe tbody tr th:only-of-type {\n",
              "        vertical-align: middle;\n",
              "    }\n",
              "\n",
              "    .dataframe tbody tr th {\n",
              "        vertical-align: top;\n",
              "    }\n",
              "\n",
              "    .dataframe thead th {\n",
              "        text-align: right;\n",
              "    }\n",
              "</style>\n",
              "<table border=\"1\" class=\"dataframe\">\n",
              "  <thead>\n",
              "    <tr style=\"text-align: right;\">\n",
              "      <th></th>\n",
              "      <th>종목명</th>\n",
              "      <th>현재가</th>\n",
              "      <th>거래량</th>\n",
              "      <th>상장주식수</th>\n",
              "      <th>주당순이익</th>\n",
              "      <th>PER</th>\n",
              "      <th>ROE</th>\n",
              "      <th>PBR</th>\n",
              "    </tr>\n",
              "  </thead>\n",
              "  <tbody>\n",
              "    <tr>\n",
              "      <th>0</th>\n",
              "      <td>클래시스</td>\n",
              "      <td>18950</td>\n",
              "      <td>154125</td>\n",
              "      <td>64717</td>\n",
              "      <td>732.0</td>\n",
              "      <td>25.89</td>\n",
              "      <td>36.06</td>\n",
              "      <td>7.96</td>\n",
              "    </tr>\n",
              "    <tr>\n",
              "      <th>1</th>\n",
              "      <td>하나머티리얼즈</td>\n",
              "      <td>62100</td>\n",
              "      <td>177790</td>\n",
              "      <td>19738</td>\n",
              "      <td>2954.0</td>\n",
              "      <td>21.02</td>\n",
              "      <td>22.82</td>\n",
              "      <td>5.21</td>\n",
              "    </tr>\n",
              "    <tr>\n",
              "      <th>2</th>\n",
              "      <td>SFA반도체</td>\n",
              "      <td>7310</td>\n",
              "      <td>5033059</td>\n",
              "      <td>164460</td>\n",
              "      <td>250.0</td>\n",
              "      <td>29.24</td>\n",
              "      <td>5.22</td>\n",
              "      <td>3.11</td>\n",
              "    </tr>\n",
              "    <tr>\n",
              "      <th>3</th>\n",
              "      <td>NHN한국사이버결제</td>\n",
              "      <td>33300</td>\n",
              "      <td>320344</td>\n",
              "      <td>36016</td>\n",
              "      <td>935.0</td>\n",
              "      <td>35.61</td>\n",
              "      <td>21.35</td>\n",
              "      <td>6.50</td>\n",
              "    </tr>\n",
              "    <tr>\n",
              "      <th>4</th>\n",
              "      <td>에이치엘비생명과학</td>\n",
              "      <td>12450</td>\n",
              "      <td>1191789</td>\n",
              "      <td>95498</td>\n",
              "      <td>-302.0</td>\n",
              "      <td>-41.23</td>\n",
              "      <td>-17.97</td>\n",
              "      <td>3.88</td>\n",
              "    </tr>\n",
              "    <tr>\n",
              "      <th>...</th>\n",
              "      <td>...</td>\n",
              "      <td>...</td>\n",
              "      <td>...</td>\n",
              "      <td>...</td>\n",
              "      <td>...</td>\n",
              "      <td>...</td>\n",
              "      <td>...</td>\n",
              "      <td>...</td>\n",
              "    </tr>\n",
              "    <tr>\n",
              "      <th>195</th>\n",
              "      <td>유바이오로직스</td>\n",
              "      <td>35950</td>\n",
              "      <td>520398</td>\n",
              "      <td>36274</td>\n",
              "      <td>-616.0</td>\n",
              "      <td>-58.36</td>\n",
              "      <td>-91.23</td>\n",
              "      <td>10.97</td>\n",
              "    </tr>\n",
              "    <tr>\n",
              "      <th>196</th>\n",
              "      <td>에스에프에이</td>\n",
              "      <td>36300</td>\n",
              "      <td>51724</td>\n",
              "      <td>35909</td>\n",
              "      <td>2849.0</td>\n",
              "      <td>12.74</td>\n",
              "      <td>11.33</td>\n",
              "      <td>1.21</td>\n",
              "    </tr>\n",
              "    <tr>\n",
              "      <th>197</th>\n",
              "      <td>바이오니아</td>\n",
              "      <td>50500</td>\n",
              "      <td>3520433</td>\n",
              "      <td>25810</td>\n",
              "      <td>2276.0</td>\n",
              "      <td>22.19</td>\n",
              "      <td>65.71</td>\n",
              "      <td>7.57</td>\n",
              "    </tr>\n",
              "    <tr>\n",
              "      <th>198</th>\n",
              "      <td>메드팩토</td>\n",
              "      <td>62300</td>\n",
              "      <td>441811</td>\n",
              "      <td>20510</td>\n",
              "      <td>-850.0</td>\n",
              "      <td>-73.29</td>\n",
              "      <td>-37.72</td>\n",
              "      <td>25.81</td>\n",
              "    </tr>\n",
              "    <tr>\n",
              "      <th>199</th>\n",
              "      <td>신라젠</td>\n",
              "      <td>12100</td>\n",
              "      <td>0</td>\n",
              "      <td>102867</td>\n",
              "      <td>-170.0</td>\n",
              "      <td>-71.18</td>\n",
              "      <td>-114.04</td>\n",
              "      <td>10.78</td>\n",
              "    </tr>\n",
              "  </tbody>\n",
              "</table>\n",
              "<p>200 rows × 8 columns</p>\n",
              "</div>\n",
              "      <button class=\"colab-df-convert\" onclick=\"convertToInteractive('df-aae0d9aa-53fd-437c-90db-318cb8496749')\"\n",
              "              title=\"Convert this dataframe to an interactive table.\"\n",
              "              style=\"display:none;\">\n",
              "        \n",
              "  <svg xmlns=\"http://www.w3.org/2000/svg\" height=\"24px\"viewBox=\"0 0 24 24\"\n",
              "       width=\"24px\">\n",
              "    <path d=\"M0 0h24v24H0V0z\" fill=\"none\"/>\n",
              "    <path d=\"M18.56 5.44l.94 2.06.94-2.06 2.06-.94-2.06-.94-.94-2.06-.94 2.06-2.06.94zm-11 1L8.5 8.5l.94-2.06 2.06-.94-2.06-.94L8.5 2.5l-.94 2.06-2.06.94zm10 10l.94 2.06.94-2.06 2.06-.94-2.06-.94-.94-2.06-.94 2.06-2.06.94z\"/><path d=\"M17.41 7.96l-1.37-1.37c-.4-.4-.92-.59-1.43-.59-.52 0-1.04.2-1.43.59L10.3 9.45l-7.72 7.72c-.78.78-.78 2.05 0 2.83L4 21.41c.39.39.9.59 1.41.59.51 0 1.02-.2 1.41-.59l7.78-7.78 2.81-2.81c.8-.78.8-2.07 0-2.86zM5.41 20L4 18.59l7.72-7.72 1.47 1.35L5.41 20z\"/>\n",
              "  </svg>\n",
              "      </button>\n",
              "      \n",
              "  <style>\n",
              "    .colab-df-container {\n",
              "      display:flex;\n",
              "      flex-wrap:wrap;\n",
              "      gap: 12px;\n",
              "    }\n",
              "\n",
              "    .colab-df-convert {\n",
              "      background-color: #E8F0FE;\n",
              "      border: none;\n",
              "      border-radius: 50%;\n",
              "      cursor: pointer;\n",
              "      display: none;\n",
              "      fill: #1967D2;\n",
              "      height: 32px;\n",
              "      padding: 0 0 0 0;\n",
              "      width: 32px;\n",
              "    }\n",
              "\n",
              "    .colab-df-convert:hover {\n",
              "      background-color: #E2EBFA;\n",
              "      box-shadow: 0px 1px 2px rgba(60, 64, 67, 0.3), 0px 1px 3px 1px rgba(60, 64, 67, 0.15);\n",
              "      fill: #174EA6;\n",
              "    }\n",
              "\n",
              "    [theme=dark] .colab-df-convert {\n",
              "      background-color: #3B4455;\n",
              "      fill: #D2E3FC;\n",
              "    }\n",
              "\n",
              "    [theme=dark] .colab-df-convert:hover {\n",
              "      background-color: #434B5C;\n",
              "      box-shadow: 0px 1px 3px 1px rgba(0, 0, 0, 0.15);\n",
              "      filter: drop-shadow(0px 1px 2px rgba(0, 0, 0, 0.3));\n",
              "      fill: #FFFFFF;\n",
              "    }\n",
              "  </style>\n",
              "\n",
              "      <script>\n",
              "        const buttonEl =\n",
              "          document.querySelector('#df-aae0d9aa-53fd-437c-90db-318cb8496749 button.colab-df-convert');\n",
              "        buttonEl.style.display =\n",
              "          google.colab.kernel.accessAllowed ? 'block' : 'none';\n",
              "\n",
              "        async function convertToInteractive(key) {\n",
              "          const element = document.querySelector('#df-aae0d9aa-53fd-437c-90db-318cb8496749');\n",
              "          const dataTable =\n",
              "            await google.colab.kernel.invokeFunction('convertToInteractive',\n",
              "                                                     [key], {});\n",
              "          if (!dataTable) return;\n",
              "\n",
              "          const docLinkHtml = 'Like what you see? Visit the ' +\n",
              "            '<a target=\"_blank\" href=https://colab.research.google.com/notebooks/data_table.ipynb>data table notebook</a>'\n",
              "            + ' to learn more about interactive tables.';\n",
              "          element.innerHTML = '';\n",
              "          dataTable['output_type'] = 'display_data';\n",
              "          await google.colab.output.renderOutput(dataTable, element);\n",
              "          const docLink = document.createElement('div');\n",
              "          docLink.innerHTML = docLinkHtml;\n",
              "          element.appendChild(docLink);\n",
              "        }\n",
              "      </script>\n",
              "    </div>\n",
              "  </div>\n",
              "  "
            ],
            "text/plain": [
              "            종목명    현재가      거래량   상장주식수   주당순이익    PER     ROE    PBR\n",
              "0          클래시스  18950   154125   64717   732.0  25.89   36.06   7.96\n",
              "1       하나머티리얼즈  62100   177790   19738  2954.0  21.02   22.82   5.21\n",
              "2        SFA반도체   7310  5033059  164460   250.0  29.24    5.22   3.11\n",
              "3    NHN한국사이버결제  33300   320344   36016   935.0  35.61   21.35   6.50\n",
              "4     에이치엘비생명과학  12450  1191789   95498  -302.0 -41.23  -17.97   3.88\n",
              "..          ...    ...      ...     ...     ...    ...     ...    ...\n",
              "195     유바이오로직스  35950   520398   36274  -616.0 -58.36  -91.23  10.97\n",
              "196      에스에프에이  36300    51724   35909  2849.0  12.74   11.33   1.21\n",
              "197       바이오니아  50500  3520433   25810  2276.0  22.19   65.71   7.57\n",
              "198        메드팩토  62300   441811   20510  -850.0 -73.29  -37.72  25.81\n",
              "199         신라젠  12100        0  102867  -170.0 -71.18 -114.04  10.78\n",
              "\n",
              "[200 rows x 8 columns]"
            ]
          },
          "metadata": {},
          "execution_count": 9
        }
      ]
    },
    {
      "cell_type": "markdown",
      "source": [
        "# 코스피와 코스닥의 차이"
      ],
      "metadata": {
        "id": "afH0XcXEvf5h"
      }
    },
    {
      "cell_type": "code",
      "source": [
        "dfKospi_num=dfKospi[['현재가','거래량','상장주식수','주당순이익','PER','ROE','PBR']]\n",
        "dfKosdaq_num=dfKosdaq[['현재가','거래량','상장주식수','주당순이익','PER','ROE','PBR']]"
      ],
      "metadata": {
        "id": "zFbOKsb3zZXU"
      },
      "execution_count": 10,
      "outputs": []
    },
    {
      "cell_type": "markdown",
      "source": [
        "### 정규화"
      ],
      "metadata": {
        "id": "5X7kBwe-xiRF"
      }
    },
    {
      "cell_type": "code",
      "source": [
        "from sklearn.preprocessing import MinMaxScaler\n",
        "def min_max_scaling(df):\n",
        "    scaler = MinMaxScaler()\n",
        "    df_norm=pd.DataFrame(scaler.fit_transform(df), columns=df.columns)\n",
        "\n",
        "    return df_norm\n",
        "\n",
        "dfKospi_norm=min_max_scaling(dfKospi_num)\n",
        "dfKosdaq_norm=min_max_scaling(dfKosdaq_num)"
      ],
      "metadata": {
        "id": "DHB7tADGy3wv"
      },
      "execution_count": 11,
      "outputs": []
    },
    {
      "cell_type": "markdown",
      "source": [
        "### 결측값 대체(knn)\n",
        "k값: https://ichi.pro/ko/python-mich-knneulo-nulag-doen-deiteoleul-cheolihaneun-bangbeob-53388502705981\n",
        "\n",
        "그래프: https://codetorial.net/matplotlib/double_y_axis.html\n",
        "https://pydole.tistory.com/entry/Python-matplotlib-%EA%B7%B8%EB%9E%98%ED%94%84%EC%97%90-%EA%B0%92-%ED%91%9C%EC%8B%9C-%ED%95%98%EA%B8%B0\n"
      ],
      "metadata": {
        "id": "qQQYkYzJ4Bfv"
      }
    },
    {
      "cell_type": "code",
      "source": [
        "# 결측값 존재\n",
        "print(\"- 코스피\")\n",
        "print(dfKospi_norm.isnull().sum())\n",
        "\n",
        "print(\"\\n- 코스닥\")\n",
        "print(dfKosdaq_norm.isnull().sum())"
      ],
      "metadata": {
        "colab": {
          "base_uri": "https://localhost:8080/"
        },
        "id": "O88Yp5KY_8Ww",
        "outputId": "d599619a-e835-4b10-d6e1-235c157212d5"
      },
      "execution_count": 12,
      "outputs": [
        {
          "output_type": "stream",
          "name": "stdout",
          "text": [
            "- 코스피\n",
            "현재가       0\n",
            "거래량       0\n",
            "상장주식수     0\n",
            "주당순이익    17\n",
            "PER      20\n",
            "ROE      25\n",
            "PBR      15\n",
            "dtype: int64\n",
            "\n",
            "- 코스닥\n",
            "현재가       0\n",
            "거래량       0\n",
            "상장주식수     0\n",
            "주당순이익     3\n",
            "PER       6\n",
            "ROE      11\n",
            "PBR       2\n",
            "dtype: int64\n"
          ]
        }
      ]
    },
    {
      "cell_type": "markdown",
      "source": [
        "최적 k값 구하기"
      ],
      "metadata": {
        "id": "5Np9yU3c3dRn"
      }
    },
    {
      "cell_type": "code",
      "source": [
        "from sklearn.impute import KNNImputer\n",
        "from sklearn.model_selection import train_test_split\n",
        "from sklearn.ensemble import RandomForestRegressor\n",
        "from sklearn.metrics import mean_squared_error\n",
        "\n",
        "rmse = lambda y, yhat: np.sqrt(mean_squared_error(y, yhat))\n",
        "\n",
        "def optimize_k(data, target):\n",
        "    errors = []\n",
        "    for k in range(1, 10, 2):\n",
        "        imputer = KNNImputer(n_neighbors=k)\n",
        "        imputed = imputer.fit_transform(data)\n",
        "        df_imputed = pd.DataFrame(imputed, columns=data.columns)\n",
        "        \n",
        "        X = df_imputed.drop(target, axis=1)\n",
        "        y = df_imputed[target]\n",
        "        X_train, X_test, y_train, y_test = train_test_split(X, y, test_size=0.2, random_state=42)\n",
        "        model = RandomForestRegressor()\n",
        "        model.fit(X_train, y_train)\n",
        "        preds = model.predict(X_test)\n",
        "        error = rmse(y_test, preds)\n",
        "        errors.append({'K': k, 'RMSE': error})\n",
        "        \n",
        "    return errors\n",
        "\n",
        "kospi_errors = optimize_k(data=dfKospi_norm, target='상장주식수')\n",
        "kosdaq_errors = optimize_k(data=dfKosdaq_norm, target='상장주식수')\n",
        "print(\"kospi\", kospi_errors)\n",
        "print(\"kosdaq\", kosdaq_errors)"
      ],
      "metadata": {
        "colab": {
          "base_uri": "https://localhost:8080/"
        },
        "id": "QeNv3_6L9orO",
        "outputId": "9dcba5d2-9505-46d9-be51-63b5d18844cf"
      },
      "execution_count": 22,
      "outputs": [
        {
          "output_type": "stream",
          "name": "stdout",
          "text": [
            "kospi [{'K': 1, 'RMSE': 0.14612352922607505}, {'K': 3, 'RMSE': 0.14784101431336205}, {'K': 5, 'RMSE': 0.14506534496039025}, {'K': 7, 'RMSE': 0.14553962170023482}, {'K': 9, 'RMSE': 0.14853200308621417}]\n",
            "kosdaq [{'K': 1, 'RMSE': 0.13171187619329214}, {'K': 3, 'RMSE': 0.13095633057993325}, {'K': 5, 'RMSE': 0.13129865550621028}, {'K': 7, 'RMSE': 0.1320406674381502}, {'K': 9, 'RMSE': 0.13130666930103238}]\n"
          ]
        }
      ]
    },
    {
      "cell_type": "code",
      "source": [
        "x=[]\n",
        "y=[]\n",
        "for i in kospi_errors:\n",
        "    x.append(i.get('K'))\n",
        "    y.append(i.get('RMSE'))\n",
        "\n",
        "fig, ax=plt.subplots()\n",
        "ax.plot(x, y, label='KOSPI', color='C4')\n",
        "plt.xticks(x)\n",
        "\n",
        "x2=[]\n",
        "y2=[]\n",
        "for i in kosdaq_errors:\n",
        "    x2.append(i.get('K'))\n",
        "    y2.append(i.get('RMSE'))\n",
        "\n",
        "ax2=ax.twinx()\n",
        "ax2.plot(x2, y2, label='KOSDAQ', color='C8')\n",
        "\n",
        "ax.set_xlabel(\"K값\")\n",
        "ax.set_ylabel(\"RMSE\")\n",
        "\n",
        "ax.legend(loc='lower right')\n",
        "ax2.legend(loc='upper right')\n",
        "\n",
        "ax.text(x[y.index(min(y))],min(y), 'Min', color='C4', \n",
        "        horizontalalignment='center', verticalalignment='top')\n",
        "ax2.text(x2[y2.index(min(y2))],min(y2), 'Min', color='C8', \n",
        "        horizontalalignment='center', verticalalignment='top')\n",
        "\n",
        "plt.show()\n",
        "\n",
        "kospiMinK=x[y.index(min(y))]\n",
        "kosdaqMinK=x2[y2.index(min(y2))]\n",
        "\n",
        "print(\"kospi K값:\", kospiMinK)\n",
        "print(\"kosdaq K값:\", kosdaqMinK)\n"
      ],
      "metadata": {
        "colab": {
          "base_uri": "https://localhost:8080/",
          "height": 318
        },
        "id": "VMYsq8z79ITy",
        "outputId": "103555f4-e826-45a8-d29d-fcb2e99c10b6"
      },
      "execution_count": 23,
      "outputs": [
        {
          "output_type": "display_data",
          "data": {
            "image/png": "[encoded data removed]",
            "text/plain": [
              "<Figure size 432x288 with 2 Axes>"
            ]
          },
          "metadata": {
            "image/png": {
              "width": 442,
              "height": 264
            },
            "needs_background": "light"
          }
        },
        {
          "output_type": "stream",
          "name": "stdout",
          "text": [
            "kospi K값: 5\n",
            "kosdaq K값: 3\n"
          ]
        }
      ]
    },
    {
      "cell_type": "code",
      "source": [
        "# 데이터 null값 knn으로 채우기\n",
        "from sklearn.impute import KNNImputer\n",
        "def knn(df,k):\n",
        "    imputer=KNNImputer(n_neighbors=k, weights=\"uniform\")\n",
        "\n",
        "    imputer.fit_transform(df)\n",
        "    return pd.DataFrame(imputer.fit_transform(df), columns=df.columns)\n",
        "\n",
        "kospi= knn(dfKospi_num, kospiMinK)\n",
        "kosdaq= knn(dfKosdaq_num, kosdaqMinK)"
      ],
      "metadata": {
        "id": "jRBpu0UaUPE5"
      },
      "execution_count": 24,
      "outputs": []
    },
    {
      "cell_type": "code",
      "source": [
        "# 결측값 X\n",
        "print(\"- 코스피\")\n",
        "print(kospi.isnull().sum())\n",
        "\n",
        "print(\"\\n- 코스닥\")\n",
        "print(kosdaq.isnull().sum())"
      ],
      "metadata": {
        "colab": {
          "base_uri": "https://localhost:8080/"
        },
        "id": "FZyNGzmlTR4x",
        "outputId": "cff9bef4-5a14-499f-c234-565384aaeb58"
      },
      "execution_count": 25,
      "outputs": [
        {
          "output_type": "stream",
          "name": "stdout",
          "text": [
            "- 코스피\n",
            "현재가      0\n",
            "거래량      0\n",
            "상장주식수    0\n",
            "주당순이익    0\n",
            "PER      0\n",
            "ROE      0\n",
            "PBR      0\n",
            "dtype: int64\n",
            "\n",
            "- 코스닥\n",
            "현재가      0\n",
            "거래량      0\n",
            "상장주식수    0\n",
            "주당순이익    0\n",
            "PER      0\n",
            "ROE      0\n",
            "PBR      0\n",
            "dtype: int64\n"
          ]
        }
      ]
    },
    {
      "cell_type": "markdown",
      "source": [
        "코스피 코스닥 그래프"
      ],
      "metadata": {
        "id": "NxtXRuyP1O-D"
      }
    },
    {
      "cell_type": "code",
      "source": [
        "labels = ['현재가','거래량','상장주식수','주당순이익','PER','ROE','PBR']\n",
        "\n",
        "kospiData = []\n",
        "kosdaqData = []\n",
        "for i in  labels:\n",
        "    kospiData.append(kospi[i].mean())\n",
        "    kosdaqData.append(kosdaq[i].mean())\n",
        "\n",
        "x = np.arange(len(labels))\n",
        "width=0.4\n",
        "\n",
        "fig, ax1= plt.subplots()\n",
        "ax1.bar(x - width/2, kospiData, width, label='KOSPI')\n",
        "ax1.bar(x + width/2, kosdaqData, width, label='KOSDAQ')\n",
        "\n",
        "plt.title('KOSPI와 KOSDAQ 비교')\n",
        "\n",
        "ax1.legend()\n",
        "ax1.set_xticks(x)\n",
        "ax1.set_xticklabels(labels)\n",
        "\n",
        "plt.yscale(\"log\")\n",
        "\n",
        "fig.tight_layout()\n",
        "plt.show()"
      ],
      "metadata": {
        "colab": {
          "base_uri": "https://localhost:8080/",
          "height": 299
        },
        "id": "aK6gRvIbtwND",
        "outputId": "3cc813f4-80dd-42b1-ed38-1a7348b5bfcf"
      },
      "execution_count": 26,
      "outputs": [
        {
          "output_type": "display_data",
          "data": {
            "image/png": "[encoded data removed]",
            "text/plain": [
              "<Figure size 432x288 with 1 Axes>"
            ]
          },
          "metadata": {
            "image/png": {
              "width": 423,
              "height": 282
            },
            "needs_background": "light"
          }
        }
      ]
    },
    {
      "cell_type": "markdown",
      "source": [
        "결론\n",
        "*   주당순이익(EPS)을 보면 코스닥 기업에 비해 코스피 기업의 투자가치가 더 높다는 것을 알 수있다.\n",
        "*   PER과 PBR을 봤을 때 코스피 기업에 비해 코스닥 기업이 고평가되었다는 것을 알 수 있다.\n",
        "*  ROE를 보면 코스피 기업에 비해 코스닥 기업이 더 효율적인 영업활동을 했다는 것을 알 수 있다.\n",
        "*  현재가, 거래량, 상장주식수는 코스피가 코스닥에 비해 높다.\n"
      ],
      "metadata": {
        "id": "0_S9FAEcCm7z"
      }
    },
    {
      "cell_type": "markdown",
      "source": [
        "# 현재가, 거래량, 상장주식수의 상관계수 분석\n",
        "가설\n",
        "*   상장주식수가 많으면 거래량이 많을 것이다.\n",
        "*   현재가가 높으면(비싸면) 거래량이 적을 것이다."
      ],
      "metadata": {
        "id": "l3LB68wrWmK8"
      }
    },
    {
      "cell_type": "code",
      "source": [
        "codfKospi=dfKospi[['현재가','거래량','상장주식수']]"
      ],
      "metadata": {
        "id": "Whz2ITwwbT9B"
      },
      "execution_count": 27,
      "outputs": []
    },
    {
      "cell_type": "code",
      "source": [
        "ax=sns.relplot(x='상장주식수', y='거래량', data=codfKospi)"
      ],
      "metadata": {
        "colab": {
          "base_uri": "https://localhost:8080/",
          "height": 372
        },
        "id": "GFImBsdUpCER",
        "outputId": "cbcfedf0-649a-42ec-9614-cc24939a942e"
      },
      "execution_count": 28,
      "outputs": [
        {
          "output_type": "display_data",
          "data": {
            "image/png": "[encoded data removed]",
            "text/plain": [
              "<Figure size 360x360 with 1 Axes>"
            ]
          },
          "metadata": {
            "image/png": {
              "width": 353,
              "height": 355
            },
            "needs_background": "light"
          }
        }
      ]
    },
    {
      "cell_type": "markdown",
      "source": [
        ">이상치 제거가 필요해보인다."
      ],
      "metadata": {
        "id": "58iNKIqopHTp"
      }
    },
    {
      "cell_type": "markdown",
      "source": [
        "### 이상치 탐지 & 제거\n",
        "\n",
        "https://claryk.tistory.com/4"
      ],
      "metadata": {
        "id": "L6h5RjjHlOLH"
      }
    },
    {
      "cell_type": "code",
      "source": [
        "def outlier_iqr(data, column):     \n",
        "    Q1, Q3 = np.quantile(data[column], 0.25), np.quantile(data[column], 0.75)          \n",
        "    \n",
        "    # IQR 계산하기     \n",
        "    iqr = Q3 - Q1    \n",
        "    \n",
        "    # outlier cutoff 계산하기     \n",
        "    cut_off = iqr * 1.5          \n",
        "    \n",
        "    # lower와 upper bound 값 구하기     \n",
        "    lower, upper = Q1 - cut_off, Q3 + cut_off     \n",
        "    \n",
        "    print('IQR:',iqr)     \n",
        "    print('lower bound 값:', lower)     \n",
        "    print('upper bound 값:', upper)    \n",
        "    \n",
        "    # 1사 분위와 4사 분위에 속해있는 데이터 각각 저장하기     \n",
        "    data1 = data[data[column] > upper]     \n",
        "    data2 = data[data[column] < lower]    \n",
        "    \n",
        "    print('총 이상치 개수:', data1.shape[0] + data2.shape[0])\n",
        "\n",
        "    return upper, lower\n",
        "\n",
        "upper, lower = outlier_iqr(codfKospi,'거래량')"
      ],
      "metadata": {
        "id": "Ms6Vdb_7ewRg",
        "colab": {
          "base_uri": "https://localhost:8080/"
        },
        "outputId": "dd6ce8d4-57a7-4951-88c2-1b0fe82cf297"
      },
      "execution_count": 29,
      "outputs": [
        {
          "output_type": "stream",
          "name": "stdout",
          "text": [
            "IQR: 457284.0\n",
            "lower bound 값: -604896.25\n",
            "upper bound 값: 1224239.75\n",
            "총 이상치 개수: 19\n"
          ]
        }
      ]
    },
    {
      "cell_type": "code",
      "source": [
        "#이상치 제거\n",
        "codfKospi = codfKospi[(codfKospi['거래량'] < upper) & (codfKospi['거래량'] > lower)]"
      ],
      "metadata": {
        "id": "vUHzHCdEspBK"
      },
      "execution_count": 30,
      "outputs": []
    },
    {
      "cell_type": "code",
      "source": [
        "ax=sns.relplot(x='상장주식수', y='거래량', data=codfKospi)"
      ],
      "metadata": {
        "colab": {
          "base_uri": "https://localhost:8080/",
          "height": 372
        },
        "id": "dCbeQpJ7eweX",
        "outputId": "b68e1796-ab27-4522-b9a5-c380f2d86996"
      },
      "execution_count": 31,
      "outputs": [
        {
          "output_type": "display_data",
          "data": {
            "image/png": "[encoded data removed]",
            "text/plain": [
              "<Figure size 360x360 with 1 Axes>"
            ]
          },
          "metadata": {
            "image/png": {
              "width": 353,
              "height": 355
            },
            "needs_background": "light"
          }
        }
      ]
    },
    {
      "cell_type": "code",
      "source": [
        "corr = codfKospi.corr(method = 'pearson') \n",
        "sns.heatmap(corr, annot=True, annot_kws={'size' : 20},square = 'True')"
      ],
      "metadata": {
        "colab": {
          "base_uri": "https://localhost:8080/",
          "height": 288
        },
        "id": "EzPrEAoQUlom",
        "outputId": "966e4161-f432-44dc-f994-f29fb08de372"
      },
      "execution_count": 33,
      "outputs": [
        {
          "output_type": "execute_result",
          "data": {
            "text/plain": [
              "<matplotlib.axes._subplots.AxesSubplot at 0x7f8253714e10>"
            ]
          },
          "metadata": {},
          "execution_count": 33
        },
        {
          "output_type": "display_data",
          "data": {
            "image/png": "[encoded data removed]",
            "text/plain": [
              "<Figure size 432x288 with 2 Axes>"
            ]
          },
          "metadata": {
            "image/png": {
              "width": 304,
              "height": 253
            },
            "needs_background": "light"
          }
        }
      ]
    },
    {
      "cell_type": "markdown",
      "source": [
        "결론\n",
        "*   상장주식수와 거래량은 강한 양적 상관관계를 나타낸다.\n",
        "*   현재가와 거래량, 현재가와 상장주식수는 거의 관계가 없다고 볼 수 있다."
      ],
      "metadata": {
        "id": "hgvj7q11p1KV"
      }
    },
    {
      "cell_type": "markdown",
      "source": [
        "# 삼성전자\n",
        "매수 타이밍과 매도 타이밍을 알아보자\n",
        "\n",
        "데이터 출처: http://data.krx.co.kr/contents/MDC/MDI/mdiLoader/index.cmd?menuId=MDC0201\n",
        "\n",
        "파일 업로드:https://velog.io/@moksu/colab%EC%97%90%EC%84%9C-%EB%8D%B0%EC%9D%B4%ED%84%B0-%EB%B6%88%EB%9F%AC%EC%98%A4%EA%B8%B0\n",
        "\n",
        "그래프:https://coding-kindergarten.tistory.com/124\n",
        "https://blog.naver.com/sssrew1/221840758486"
      ],
      "metadata": {
        "id": "3ntyZNK9Yjdl"
      }
    },
    {
      "cell_type": "code",
      "source": [
        "from google.colab import files\n",
        "uploaded = files.upload()"
      ],
      "metadata": {
        "colab": {
          "resources": {
            "http://localhost:8080/nbextensions/google.colab/files.js": {
              "data": "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",
              "ok": true,
              "headers": [
                [
                  "content-type",
                  "application/javascript"
                ]
              ],
              "status": 200,
              "status_text": ""
            }
          },
          "base_uri": "https://localhost:8080/",
          "height": 77
        },
        "id": "uHc7PaOm2_bH",
        "outputId": "d6e071cc-e3f1-470b-8fc7-b2415a15503c"
      },
      "execution_count": 37,
      "outputs": [
        {
          "output_type": "display_data",
          "data": {
            "text/html": [
              "\n",
              "     <input type=\"file\" id=\"files-fc12881a-d15e-4c81-b933-8cddc37f3532\" name=\"files[]\" multiple disabled\n",
              "        style=\"border:none\" />\n",
              "     <output id=\"result-fc12881a-d15e-4c81-b933-8cddc37f3532\">\n",
              "      Upload widget is only available when the cell has been executed in the\n",
              "      current browser session. Please rerun this cell to enable.\n",
              "      </output>\n",
              "      <script src=\"/nbextensions/google.colab/files.js\"></script> "
            ],
            "text/plain": [
              "<IPython.core.display.HTML object>"
            ]
          },
          "metadata": {}
        },
        {
          "output_type": "stream",
          "name": "stdout",
          "text": [
            "Saving s_2021_2.csv to s_2021_2.csv\n"
          ]
        }
      ]
    },
    {
      "cell_type": "markdown",
      "source": [
        "삼성전자 2019.1월 - 2021.12월 데이터 사용\n"
      ],
      "metadata": {
        "id": "ZKhTB3-5ABNQ"
      }
    },
    {
      "cell_type": "code",
      "source": [
        "dfSamsungM = pd.read_csv('samsungM.csv', encoding='cp949',parse_dates=['연월'])\n",
        "dfSamsungM.head()"
      ],
      "metadata": {
        "colab": {
          "base_uri": "https://localhost:8080/",
          "height": 206
        },
        "id": "ipYn7xP2xynb",
        "outputId": "f9541c80-d03e-456f-ac57-1030ad1fcd7c"
      },
      "execution_count": 38,
      "outputs": [
        {
          "output_type": "execute_result",
          "data": {
            "text/html": [
              "\n",
              "  <div id=\"df-650ba582-ab4d-400e-abf5-bdaf6b38cc61\">\n",
              "    <div class=\"colab-df-container\">\n",
              "      <div>\n",
              "<style scoped>\n",
              "    .dataframe tbody tr th:only-of-type {\n",
              "        vertical-align: middle;\n",
              "    }\n",
              "\n",
              "    .dataframe tbody tr th {\n",
              "        vertical-align: top;\n",
              "    }\n",
              "\n",
              "    .dataframe thead th {\n",
              "        text-align: right;\n",
              "    }\n",
              "</style>\n",
              "<table border=\"1\" class=\"dataframe\">\n",
              "  <thead>\n",
              "    <tr style=\"text-align: right;\">\n",
              "      <th></th>\n",
              "      <th>연월</th>\n",
              "      <th>종가</th>\n",
              "      <th>최고가(종가)</th>\n",
              "      <th>최저가(종가)</th>\n",
              "      <th>거래량_합계</th>\n",
              "      <th>거래량_일평균</th>\n",
              "      <th>거래대금_합계</th>\n",
              "      <th>거래대금_일평균</th>\n",
              "    </tr>\n",
              "  </thead>\n",
              "  <tbody>\n",
              "    <tr>\n",
              "      <th>0</th>\n",
              "      <td>2021-12-01</td>\n",
              "      <td>77100</td>\n",
              "      <td>78200</td>\n",
              "      <td>74400</td>\n",
              "      <td>223849157</td>\n",
              "      <td>15363084</td>\n",
              "      <td>17103243049046</td>\n",
              "      <td>1174441922670</td>\n",
              "    </tr>\n",
              "    <tr>\n",
              "      <th>1</th>\n",
              "      <td>2021-11-01</td>\n",
              "      <td>71300</td>\n",
              "      <td>75300</td>\n",
              "      <td>69900</td>\n",
              "      <td>313117871</td>\n",
              "      <td>14232631</td>\n",
              "      <td>22547542441544</td>\n",
              "      <td>1024888292797</td>\n",
              "    </tr>\n",
              "    <tr>\n",
              "      <th>2</th>\n",
              "      <td>2021-10-01</td>\n",
              "      <td>69800</td>\n",
              "      <td>73200</td>\n",
              "      <td>68800</td>\n",
              "      <td>300193653</td>\n",
              "      <td>15799666</td>\n",
              "      <td>21198019167368</td>\n",
              "      <td>1115685219335</td>\n",
              "    </tr>\n",
              "    <tr>\n",
              "      <th>3</th>\n",
              "      <td>2021-09-01</td>\n",
              "      <td>74100</td>\n",
              "      <td>77700</td>\n",
              "      <td>74100</td>\n",
              "      <td>281233337</td>\n",
              "      <td>14801755</td>\n",
              "      <td>21441192047022</td>\n",
              "      <td>1128483791949</td>\n",
              "    </tr>\n",
              "    <tr>\n",
              "      <th>4</th>\n",
              "      <td>2021-08-01</td>\n",
              "      <td>76700</td>\n",
              "      <td>82900</td>\n",
              "      <td>72700</td>\n",
              "      <td>499862582</td>\n",
              "      <td>23802980</td>\n",
              "      <td>38387973028676</td>\n",
              "      <td>1827998715651</td>\n",
              "    </tr>\n",
              "  </tbody>\n",
              "</table>\n",
              "</div>\n",
              "      <button class=\"colab-df-convert\" onclick=\"convertToInteractive('df-650ba582-ab4d-400e-abf5-bdaf6b38cc61')\"\n",
              "              title=\"Convert this dataframe to an interactive table.\"\n",
              "              style=\"display:none;\">\n",
              "        \n",
              "  <svg xmlns=\"http://www.w3.org/2000/svg\" height=\"24px\"viewBox=\"0 0 24 24\"\n",
              "       width=\"24px\">\n",
              "    <path d=\"M0 0h24v24H0V0z\" fill=\"none\"/>\n",
              "    <path d=\"M18.56 5.44l.94 2.06.94-2.06 2.06-.94-2.06-.94-.94-2.06-.94 2.06-2.06.94zm-11 1L8.5 8.5l.94-2.06 2.06-.94-2.06-.94L8.5 2.5l-.94 2.06-2.06.94zm10 10l.94 2.06.94-2.06 2.06-.94-2.06-.94-.94-2.06-.94 2.06-2.06.94z\"/><path d=\"M17.41 7.96l-1.37-1.37c-.4-.4-.92-.59-1.43-.59-.52 0-1.04.2-1.43.59L10.3 9.45l-7.72 7.72c-.78.78-.78 2.05 0 2.83L4 21.41c.39.39.9.59 1.41.59.51 0 1.02-.2 1.41-.59l7.78-7.78 2.81-2.81c.8-.78.8-2.07 0-2.86zM5.41 20L4 18.59l7.72-7.72 1.47 1.35L5.41 20z\"/>\n",
              "  </svg>\n",
              "      </button>\n",
              "      \n",
              "  <style>\n",
              "    .colab-df-container {\n",
              "      display:flex;\n",
              "      flex-wrap:wrap;\n",
              "      gap: 12px;\n",
              "    }\n",
              "\n",
              "    .colab-df-convert {\n",
              "      background-color: #E8F0FE;\n",
              "      border: none;\n",
              "      border-radius: 50%;\n",
              "      cursor: pointer;\n",
              "      display: none;\n",
              "      fill: #1967D2;\n",
              "      height: 32px;\n",
              "      padding: 0 0 0 0;\n",
              "      width: 32px;\n",
              "    }\n",
              "\n",
              "    .colab-df-convert:hover {\n",
              "      background-color: #E2EBFA;\n",
              "      box-shadow: 0px 1px 2px rgba(60, 64, 67, 0.3), 0px 1px 3px 1px rgba(60, 64, 67, 0.15);\n",
              "      fill: #174EA6;\n",
              "    }\n",
              "\n",
              "    [theme=dark] .colab-df-convert {\n",
              "      background-color: #3B4455;\n",
              "      fill: #D2E3FC;\n",
              "    }\n",
              "\n",
              "    [theme=dark] .colab-df-convert:hover {\n",
              "      background-color: #434B5C;\n",
              "      box-shadow: 0px 1px 3px 1px rgba(0, 0, 0, 0.15);\n",
              "      filter: drop-shadow(0px 1px 2px rgba(0, 0, 0, 0.3));\n",
              "      fill: #FFFFFF;\n",
              "    }\n",
              "  </style>\n",
              "\n",
              "      <script>\n",
              "        const buttonEl =\n",
              "          document.querySelector('#df-650ba582-ab4d-400e-abf5-bdaf6b38cc61 button.colab-df-convert');\n",
              "        buttonEl.style.display =\n",
              "          google.colab.kernel.accessAllowed ? 'block' : 'none';\n",
              "\n",
              "        async function convertToInteractive(key) {\n",
              "          const element = document.querySelector('#df-650ba582-ab4d-400e-abf5-bdaf6b38cc61');\n",
              "          const dataTable =\n",
              "            await google.colab.kernel.invokeFunction('convertToInteractive',\n",
              "                                                     [key], {});\n",
              "          if (!dataTable) return;\n",
              "\n",
              "          const docLinkHtml = 'Like what you see? Visit the ' +\n",
              "            '<a target=\"_blank\" href=https://colab.research.google.com/notebooks/data_table.ipynb>data table notebook</a>'\n",
              "            + ' to learn more about interactive tables.';\n",
              "          element.innerHTML = '';\n",
              "          dataTable['output_type'] = 'display_data';\n",
              "          await google.colab.output.renderOutput(dataTable, element);\n",
              "          const docLink = document.createElement('div');\n",
              "          docLink.innerHTML = docLinkHtml;\n",
              "          element.appendChild(docLink);\n",
              "        }\n",
              "      </script>\n",
              "    </div>\n",
              "  </div>\n",
              "  "
            ],
            "text/plain": [
              "          연월     종가  최고가(종가)  ...   거래량_일평균         거래대금_합계       거래대금_일평균\n",
              "0 2021-12-01  77100    78200  ...  15363084  17103243049046  1174441922670\n",
              "1 2021-11-01  71300    75300  ...  14232631  22547542441544  1024888292797\n",
              "2 2021-10-01  69800    73200  ...  15799666  21198019167368  1115685219335\n",
              "3 2021-09-01  74100    77700  ...  14801755  21441192047022  1128483791949\n",
              "4 2021-08-01  76700    82900  ...  23802980  38387973028676  1827998715651\n",
              "\n",
              "[5 rows x 8 columns]"
            ]
          },
          "metadata": {},
          "execution_count": 38
        }
      ]
    },
    {
      "cell_type": "code",
      "source": [
        "def graph(df):\n",
        "    일자=[]\n",
        "    종가=[]\n",
        "    거래량=[]\n",
        "    for i in range(0, len(df)):\n",
        "        일자.append(df.연월[i])\n",
        "        종가.append(int(df.종가[i]))\n",
        "        거래량.append(int(df.거래량_일평균[i]))\n",
        "\n",
        "    fig = plt.figure(figsize=(12, 8))\n",
        "    top_axes = plt.subplot2grid((4,4), (0,0), rowspan=3, colspan=4)\n",
        "    bottom_axes = plt.subplot2grid((4,4), (3,0), rowspan=1, colspan=4)\n",
        "    top_axes.plot(일자,종가)\n",
        "    bottom_axes.bar(일자, 거래량, width=20)\n",
        "    plt.show()\n",
        "    return 일자, 종가, 거래량\n",
        "일자, 종가, 거래량=graph(dfSamsungM)"
      ],
      "metadata": {
        "colab": {
          "base_uri": "https://localhost:8080/",
          "height": 484
        },
        "id": "NGSppm2LfrM3",
        "outputId": "22e476e6-071e-497b-bd3c-4c2d2c49a8b8"
      },
      "execution_count": 43,
      "outputs": [
        {
          "output_type": "display_data",
          "data": {
            "image/png": "[encoded data removed]",
            "text/plain": [
              "<Figure size 864x576 with 2 Axes>"
            ]
          },
          "metadata": {
            "image/png": {
              "width": 727,
              "height": 467
            },
            "needs_background": "light"
          }
        }
      ]
    },
    {
      "cell_type": "markdown",
      "source": [
        "저점: 19년 5월 / 고점: 21년 2월"
      ],
      "metadata": {
        "id": "pV8Z-HhX9KoR"
      }
    },
    {
      "cell_type": "code",
      "source": [
        "월종가=종가.copy()\n",
        "월종가=sorted(월종가)\n",
        "print(\"min\", dfSamsungM.연월[종가.index(월종가[0])])\n",
        "print(\"max\", dfSamsungM.연월[종가.index(월종가[len(종가)-1])])"
      ],
      "metadata": {
        "colab": {
          "base_uri": "https://localhost:8080/"
        },
        "id": "n3wfkoj7Bse4",
        "outputId": "099e9485-69cd-45b0-82b7-b479b36eb660"
      },
      "execution_count": 44,
      "outputs": [
        {
          "output_type": "stream",
          "name": "stdout",
          "text": [
            "min 2019-05-01 00:00:00\n",
            "max 2021-02-01 00:00:00\n"
          ]
        }
      ]
    },
    {
      "cell_type": "code",
      "source": [
        "s2019_5=pd.read_csv('s_2019_5.csv', encoding='cp949',parse_dates=['일자'])\n",
        "s2019_5=s2019_5[['EPS','PER','BPS','PBR']]\n",
        "s2019_5.head()"
      ],
      "metadata": {
        "colab": {
          "base_uri": "https://localhost:8080/",
          "height": 206
        },
        "id": "1vkFmEOM0Exh",
        "outputId": "a04627cf-9c19-4b5b-857f-899175f22b2f"
      },
      "execution_count": 45,
      "outputs": [
        {
          "output_type": "execute_result",
          "data": {
            "text/html": [
              "\n",
              "  <div id=\"df-a6fe3a57-645e-447b-adf7-64fa6fa8d5c6\">\n",
              "    <div class=\"colab-df-container\">\n",
              "      <div>\n",
              "<style scoped>\n",
              "    .dataframe tbody tr th:only-of-type {\n",
              "        vertical-align: middle;\n",
              "    }\n",
              "\n",
              "    .dataframe tbody tr th {\n",
              "        vertical-align: top;\n",
              "    }\n",
              "\n",
              "    .dataframe thead th {\n",
              "        text-align: right;\n",
              "    }\n",
              "</style>\n",
              "<table border=\"1\" class=\"dataframe\">\n",
              "  <thead>\n",
              "    <tr style=\"text-align: right;\">\n",
              "      <th></th>\n",
              "      <th>EPS</th>\n",
              "      <th>PER</th>\n",
              "      <th>BPS</th>\n",
              "      <th>PBR</th>\n",
              "    </tr>\n",
              "  </thead>\n",
              "  <tbody>\n",
              "    <tr>\n",
              "      <th>0</th>\n",
              "      <td>6461</td>\n",
              "      <td>6.58</td>\n",
              "      <td>35342</td>\n",
              "      <td>1.20</td>\n",
              "    </tr>\n",
              "    <tr>\n",
              "      <th>1</th>\n",
              "      <td>6461</td>\n",
              "      <td>6.59</td>\n",
              "      <td>35342</td>\n",
              "      <td>1.20</td>\n",
              "    </tr>\n",
              "    <tr>\n",
              "      <th>2</th>\n",
              "      <td>6461</td>\n",
              "      <td>6.47</td>\n",
              "      <td>35342</td>\n",
              "      <td>1.18</td>\n",
              "    </tr>\n",
              "    <tr>\n",
              "      <th>3</th>\n",
              "      <td>6461</td>\n",
              "      <td>6.59</td>\n",
              "      <td>35342</td>\n",
              "      <td>1.20</td>\n",
              "    </tr>\n",
              "    <tr>\n",
              "      <th>4</th>\n",
              "      <td>6461</td>\n",
              "      <td>6.60</td>\n",
              "      <td>35342</td>\n",
              "      <td>1.21</td>\n",
              "    </tr>\n",
              "  </tbody>\n",
              "</table>\n",
              "</div>\n",
              "      <button class=\"colab-df-convert\" onclick=\"convertToInteractive('df-a6fe3a57-645e-447b-adf7-64fa6fa8d5c6')\"\n",
              "              title=\"Convert this dataframe to an interactive table.\"\n",
              "              style=\"display:none;\">\n",
              "        \n",
              "  <svg xmlns=\"http://www.w3.org/2000/svg\" height=\"24px\"viewBox=\"0 0 24 24\"\n",
              "       width=\"24px\">\n",
              "    <path d=\"M0 0h24v24H0V0z\" fill=\"none\"/>\n",
              "    <path d=\"M18.56 5.44l.94 2.06.94-2.06 2.06-.94-2.06-.94-.94-2.06-.94 2.06-2.06.94zm-11 1L8.5 8.5l.94-2.06 2.06-.94-2.06-.94L8.5 2.5l-.94 2.06-2.06.94zm10 10l.94 2.06.94-2.06 2.06-.94-2.06-.94-.94-2.06-.94 2.06-2.06.94z\"/><path d=\"M17.41 7.96l-1.37-1.37c-.4-.4-.92-.59-1.43-.59-.52 0-1.04.2-1.43.59L10.3 9.45l-7.72 7.72c-.78.78-.78 2.05 0 2.83L4 21.41c.39.39.9.59 1.41.59.51 0 1.02-.2 1.41-.59l7.78-7.78 2.81-2.81c.8-.78.8-2.07 0-2.86zM5.41 20L4 18.59l7.72-7.72 1.47 1.35L5.41 20z\"/>\n",
              "  </svg>\n",
              "      </button>\n",
              "      \n",
              "  <style>\n",
              "    .colab-df-container {\n",
              "      display:flex;\n",
              "      flex-wrap:wrap;\n",
              "      gap: 12px;\n",
              "    }\n",
              "\n",
              "    .colab-df-convert {\n",
              "      background-color: #E8F0FE;\n",
              "      border: none;\n",
              "      border-radius: 50%;\n",
              "      cursor: pointer;\n",
              "      display: none;\n",
              "      fill: #1967D2;\n",
              "      height: 32px;\n",
              "      padding: 0 0 0 0;\n",
              "      width: 32px;\n",
              "    }\n",
              "\n",
              "    .colab-df-convert:hover {\n",
              "      background-color: #E2EBFA;\n",
              "      box-shadow: 0px 1px 2px rgba(60, 64, 67, 0.3), 0px 1px 3px 1px rgba(60, 64, 67, 0.15);\n",
              "      fill: #174EA6;\n",
              "    }\n",
              "\n",
              "    [theme=dark] .colab-df-convert {\n",
              "      background-color: #3B4455;\n",
              "      fill: #D2E3FC;\n",
              "    }\n",
              "\n",
              "    [theme=dark] .colab-df-convert:hover {\n",
              "      background-color: #434B5C;\n",
              "      box-shadow: 0px 1px 3px 1px rgba(0, 0, 0, 0.15);\n",
              "      filter: drop-shadow(0px 1px 2px rgba(0, 0, 0, 0.3));\n",
              "      fill: #FFFFFF;\n",
              "    }\n",
              "  </style>\n",
              "\n",
              "      <script>\n",
              "        const buttonEl =\n",
              "          document.querySelector('#df-a6fe3a57-645e-447b-adf7-64fa6fa8d5c6 button.colab-df-convert');\n",
              "        buttonEl.style.display =\n",
              "          google.colab.kernel.accessAllowed ? 'block' : 'none';\n",
              "\n",
              "        async function convertToInteractive(key) {\n",
              "          const element = document.querySelector('#df-a6fe3a57-645e-447b-adf7-64fa6fa8d5c6');\n",
              "          const dataTable =\n",
              "            await google.colab.kernel.invokeFunction('convertToInteractive',\n",
              "                                                     [key], {});\n",
              "          if (!dataTable) return;\n",
              "\n",
              "          const docLinkHtml = 'Like what you see? Visit the ' +\n",
              "            '<a target=\"_blank\" href=https://colab.research.google.com/notebooks/data_table.ipynb>data table notebook</a>'\n",
              "            + ' to learn more about interactive tables.';\n",
              "          element.innerHTML = '';\n",
              "          dataTable['output_type'] = 'display_data';\n",
              "          await google.colab.output.renderOutput(dataTable, element);\n",
              "          const docLink = document.createElement('div');\n",
              "          docLink.innerHTML = docLinkHtml;\n",
              "          element.appendChild(docLink);\n",
              "        }\n",
              "      </script>\n",
              "    </div>\n",
              "  </div>\n",
              "  "
            ],
            "text/plain": [
              "    EPS   PER    BPS   PBR\n",
              "0  6461  6.58  35342  1.20\n",
              "1  6461  6.59  35342  1.20\n",
              "2  6461  6.47  35342  1.18\n",
              "3  6461  6.59  35342  1.20\n",
              "4  6461  6.60  35342  1.21"
            ]
          },
          "metadata": {},
          "execution_count": 45
        }
      ]
    },
    {
      "cell_type": "code",
      "source": [
        "s2021_2=pd.read_csv('s_2021_2.csv', encoding='cp949',parse_dates=['일자'])\n",
        "s2021_2=s2021_2[['EPS','PER','BPS','PBR']]\n",
        "s2021_2.head()"
      ],
      "metadata": {
        "colab": {
          "base_uri": "https://localhost:8080/",
          "height": 206
        },
        "id": "PRnlLkpiDAqE",
        "outputId": "e0488aa0-5dc8-4dbc-d846-f6f3183c9da0"
      },
      "execution_count": 50,
      "outputs": [
        {
          "output_type": "execute_result",
          "data": {
            "text/html": [
              "\n",
              "  <div id=\"df-51015986-088e-4f61-98e5-fc95b390d497\">\n",
              "    <div class=\"colab-df-container\">\n",
              "      <div>\n",
              "<style scoped>\n",
              "    .dataframe tbody tr th:only-of-type {\n",
              "        vertical-align: middle;\n",
              "    }\n",
              "\n",
              "    .dataframe tbody tr th {\n",
              "        vertical-align: top;\n",
              "    }\n",
              "\n",
              "    .dataframe thead th {\n",
              "        text-align: right;\n",
              "    }\n",
              "</style>\n",
              "<table border=\"1\" class=\"dataframe\">\n",
              "  <thead>\n",
              "    <tr style=\"text-align: right;\">\n",
              "      <th></th>\n",
              "      <th>EPS</th>\n",
              "      <th>PER</th>\n",
              "      <th>BPS</th>\n",
              "      <th>PBR</th>\n",
              "    </tr>\n",
              "  </thead>\n",
              "  <tbody>\n",
              "    <tr>\n",
              "      <th>0</th>\n",
              "      <td>3166</td>\n",
              "      <td>26.06</td>\n",
              "      <td>37528</td>\n",
              "      <td>2.20</td>\n",
              "    </tr>\n",
              "    <tr>\n",
              "      <th>1</th>\n",
              "      <td>3166</td>\n",
              "      <td>26.94</td>\n",
              "      <td>37528</td>\n",
              "      <td>2.27</td>\n",
              "    </tr>\n",
              "    <tr>\n",
              "      <th>2</th>\n",
              "      <td>3166</td>\n",
              "      <td>25.90</td>\n",
              "      <td>37528</td>\n",
              "      <td>2.19</td>\n",
              "    </tr>\n",
              "    <tr>\n",
              "      <th>3</th>\n",
              "      <td>3166</td>\n",
              "      <td>25.90</td>\n",
              "      <td>37528</td>\n",
              "      <td>2.19</td>\n",
              "    </tr>\n",
              "    <tr>\n",
              "      <th>4</th>\n",
              "      <td>3166</td>\n",
              "      <td>25.96</td>\n",
              "      <td>37528</td>\n",
              "      <td>2.19</td>\n",
              "    </tr>\n",
              "  </tbody>\n",
              "</table>\n",
              "</div>\n",
              "      <button class=\"colab-df-convert\" onclick=\"convertToInteractive('df-51015986-088e-4f61-98e5-fc95b390d497')\"\n",
              "              title=\"Convert this dataframe to an interactive table.\"\n",
              "              style=\"display:none;\">\n",
              "        \n",
              "  <svg xmlns=\"http://www.w3.org/2000/svg\" height=\"24px\"viewBox=\"0 0 24 24\"\n",
              "       width=\"24px\">\n",
              "    <path d=\"M0 0h24v24H0V0z\" fill=\"none\"/>\n",
              "    <path d=\"M18.56 5.44l.94 2.06.94-2.06 2.06-.94-2.06-.94-.94-2.06-.94 2.06-2.06.94zm-11 1L8.5 8.5l.94-2.06 2.06-.94-2.06-.94L8.5 2.5l-.94 2.06-2.06.94zm10 10l.94 2.06.94-2.06 2.06-.94-2.06-.94-.94-2.06-.94 2.06-2.06.94z\"/><path d=\"M17.41 7.96l-1.37-1.37c-.4-.4-.92-.59-1.43-.59-.52 0-1.04.2-1.43.59L10.3 9.45l-7.72 7.72c-.78.78-.78 2.05 0 2.83L4 21.41c.39.39.9.59 1.41.59.51 0 1.02-.2 1.41-.59l7.78-7.78 2.81-2.81c.8-.78.8-2.07 0-2.86zM5.41 20L4 18.59l7.72-7.72 1.47 1.35L5.41 20z\"/>\n",
              "  </svg>\n",
              "      </button>\n",
              "      \n",
              "  <style>\n",
              "    .colab-df-container {\n",
              "      display:flex;\n",
              "      flex-wrap:wrap;\n",
              "      gap: 12px;\n",
              "    }\n",
              "\n",
              "    .colab-df-convert {\n",
              "      background-color: #E8F0FE;\n",
              "      border: none;\n",
              "      border-radius: 50%;\n",
              "      cursor: pointer;\n",
              "      display: none;\n",
              "      fill: #1967D2;\n",
              "      height: 32px;\n",
              "      padding: 0 0 0 0;\n",
              "      width: 32px;\n",
              "    }\n",
              "\n",
              "    .colab-df-convert:hover {\n",
              "      background-color: #E2EBFA;\n",
              "      box-shadow: 0px 1px 2px rgba(60, 64, 67, 0.3), 0px 1px 3px 1px rgba(60, 64, 67, 0.15);\n",
              "      fill: #174EA6;\n",
              "    }\n",
              "\n",
              "    [theme=dark] .colab-df-convert {\n",
              "      background-color: #3B4455;\n",
              "      fill: #D2E3FC;\n",
              "    }\n",
              "\n",
              "    [theme=dark] .colab-df-convert:hover {\n",
              "      background-color: #434B5C;\n",
              "      box-shadow: 0px 1px 3px 1px rgba(0, 0, 0, 0.15);\n",
              "      filter: drop-shadow(0px 1px 2px rgba(0, 0, 0, 0.3));\n",
              "      fill: #FFFFFF;\n",
              "    }\n",
              "  </style>\n",
              "\n",
              "      <script>\n",
              "        const buttonEl =\n",
              "          document.querySelector('#df-51015986-088e-4f61-98e5-fc95b390d497 button.colab-df-convert');\n",
              "        buttonEl.style.display =\n",
              "          google.colab.kernel.accessAllowed ? 'block' : 'none';\n",
              "\n",
              "        async function convertToInteractive(key) {\n",
              "          const element = document.querySelector('#df-51015986-088e-4f61-98e5-fc95b390d497');\n",
              "          const dataTable =\n",
              "            await google.colab.kernel.invokeFunction('convertToInteractive',\n",
              "                                                     [key], {});\n",
              "          if (!dataTable) return;\n",
              "\n",
              "          const docLinkHtml = 'Like what you see? Visit the ' +\n",
              "            '<a target=\"_blank\" href=https://colab.research.google.com/notebooks/data_table.ipynb>data table notebook</a>'\n",
              "            + ' to learn more about interactive tables.';\n",
              "          element.innerHTML = '';\n",
              "          dataTable['output_type'] = 'display_data';\n",
              "          await google.colab.output.renderOutput(dataTable, element);\n",
              "          const docLink = document.createElement('div');\n",
              "          docLink.innerHTML = docLinkHtml;\n",
              "          element.appendChild(docLink);\n",
              "        }\n",
              "      </script>\n",
              "    </div>\n",
              "  </div>\n",
              "  "
            ],
            "text/plain": [
              "    EPS    PER    BPS   PBR\n",
              "0  3166  26.06  37528  2.20\n",
              "1  3166  26.94  37528  2.27\n",
              "2  3166  25.90  37528  2.19\n",
              "3  3166  25.90  37528  2.19\n",
              "4  3166  25.96  37528  2.19"
            ]
          },
          "metadata": {},
          "execution_count": 50
        }
      ]
    },
    {
      "cell_type": "code",
      "source": [
        "labels=['EPS','PER','BPS','PBR']\n",
        "smin=[]\n",
        "smax=[]\n",
        "for i in labels:\n",
        "    smin.append(s2019_5[i].mean())\n",
        "    smax.append(s2021_2[i].mean())\n",
        "\n",
        "print(\"- 저점: 매수 타이밍\")\n",
        "for j in range (len(labels)):\n",
        "    print(labels[j],\": \", smin[j])\n",
        "\n",
        "print(\"\\n- 고점: 매도 타이밍\")\n",
        "for j in range (len(labels)):\n",
        "    print(labels[j],\": \", smax[j])"
      ],
      "metadata": {
        "colab": {
          "base_uri": "https://localhost:8080/"
        },
        "id": "9z9TyWbK-fFc",
        "outputId": "50394b6e-c742-472b-abd4-5f444aced885"
      },
      "execution_count": 51,
      "outputs": [
        {
          "output_type": "stream",
          "name": "stdout",
          "text": [
            "- 저점: 매수 타이밍\n",
            "EPS :  6461.0\n",
            "PER :  6.659523809523808\n",
            "BPS :  35342.0\n",
            "PBR :  1.2171428571428573\n",
            "\n",
            "- 고점: 매도 타이밍\n",
            "EPS :  3166.0\n",
            "PER :  26.256666666666668\n",
            "BPS :  37528.0\n",
            "PBR :  2.2150000000000003\n"
          ]
        }
      ]
    },
    {
      "cell_type": "markdown",
      "source": [
        "결론\n",
        "*   삼성전자는 PER이 7이고 PBR이 1일 때 사는 것이 좋다.\n",
        "*   PER이 26이고 PBR이 2일 때는 파는 것이 좋다. "
      ],
      "metadata": {
        "id": "mb7WegsTFD-P"
      }
    }
  ]
}