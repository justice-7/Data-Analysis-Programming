{
  "nbformat": 4,
  "nbformat_minor": 0,
  "metadata": {
    "colab": {
      "name": "DAP_Final(202012770_박정의).ipynb",
      "provenance": [],
      "collapsed_sections": [],
      "authorship_tag": "ABX9TyP5r+RHu7dfLY56wsIOb2bX",
      "include_colab_link": true
    },
    "kernelspec": {
      "name": "python3",
      "display_name": "Python 3"
    },
    "language_info": {
      "name": "python"
    }
  },
  "cells": [
    {
      "cell_type": "markdown",
      "metadata": {
        "id": "view-in-github",
        "colab_type": "text"
      },
      "source": [
        "<a href=\"https://colab.research.google.com/github/justice-7/Data-Analysis-Programming/blob/main/DAP_Final(202012770_%EB%B0%95%EC%A0%95%EC%9D%98).ipynb\" target=\"_parent\"><img src=\"https://colab.research.google.com/assets/colab-badge.svg\" alt=\"Open In Colab\"/></a>"
      ]
    },
    {
      "cell_type": "markdown",
      "source": [
        "# **주식**\n",
        "1. 코스피와 코스닥의 차이\n",
        "2. 상장 주식 수, 거래량, 현재가의 상관관계\n",
        "3. 삼성전자의 매수 타이밍과 매도 타이밍"
      ],
      "metadata": {
        "id": "pOUPKqxsl1eM"
      }
    },
    {
      "cell_type": "code",
      "source": [
        "import time\n",
        "import xlwt\n",
        "import glob  \n",
        "import sys\n",
        "import os\n",
        "\n",
        "import numpy as np \n",
        "import pandas as pd\n",
        "import matplotlib as mpl\n",
        "import matplotlib.pylab as plb\n",
        "import matplotlib.pyplot as plt\n",
        "import sklearn as sk\n",
        "import seaborn as sns\n",
        "import scipy.stats as stats"
      ],
      "metadata": {
        "id": "o_9Fg6Jeg00U"
      },
      "execution_count": 1,
      "outputs": []
    },
    {
      "cell_type": "code",
      "source": [
        "!pip install -U finance-datareader\n",
        "!pip install bokeh\n",
        "\n",
        "!pip install dash\n",
        "!pip install jupyter_dash"
      ],
      "metadata": {
        "id": "YYXKZMShCGfs"
      },
      "execution_count": null,
      "outputs": []
    },
    {
      "cell_type": "markdown",
      "source": [
        "한글 폰트 설치\n",
        "\n",
        "https://velog.io/@heiswicked/%EC%84%B8%ED%8C%85%EC%9D%B4-%EB%B0%98%EC%9D%B4%EB%8B%A4-Google-COLAB-%ED%95%9C%EA%B8%80%ED%8F%B0%ED%8A%B8%ED%8E%B8"
      ],
      "metadata": {
        "id": "XmTu0Sa02ROp"
      }
    },
    {
      "cell_type": "code",
      "source": [
        "!sudo apt-get install -y fonts-nanum\n",
        "!sudo fc-cache -fv\n",
        "!rm ~/.cache/matplotlib -rf"
      ],
      "metadata": {
        "id": "mEvWnXFiwtPr"
      },
      "execution_count": null,
      "outputs": []
    },
    {
      "cell_type": "code",
      "source": [
        "%matplotlib inline\n",
        "\n",
        "%config InlineBackend.figure_format = 'retina'\n",
        "\n",
        "plt.rc('font', family='NanumBarunGothic') \n",
        "\n",
        "mpl.rc('axes', unicode_minus=False)"
      ],
      "metadata": {
        "id": "oBl47QLq2QOP"
      },
      "execution_count": 4,
      "outputs": []
    },
    {
      "cell_type": "markdown",
      "source": [
        "\n",
        "\n",
        "---\n",
        "\n",
        "\n",
        "# 코스피 종목 정보 크롤링\n",
        "\n",
        "네이버 금융 시가총액 상위 200개 종목 크롤링\n",
        "\n",
        "참고:\n",
        "https://blog.naver.com/PostView.nhn?isHttpsRedirect=true&blogId=ym7596&logNo=222056342589&categoryNo=0&parentCategoryNo=0&viewDate=&currentPage=1&postListTopCurrentPage=1&from=postView"
      ],
      "metadata": {
        "id": "ORr1SMHYrx8s"
      }
    },
    {
      "cell_type": "code",
      "execution_count": null,
      "metadata": {
        "id": "GP9ht6rJZy4F"
      },
      "outputs": [],
      "source": [
        "!pip install selenium\n",
        "!pip install --upgrade beautifulsoup4\n",
        "!apt install chromium-chromedriver\n",
        "!cp /usr/lib/chromium-browser/chromedriver /usr/bin"
      ]
    },
    {
      "cell_type": "code",
      "source": [
        "from bs4 import BeautifulSoup\n",
        "from selenium import webdriver\n",
        "from selenium.webdriver.support.ui import Select"
      ],
      "metadata": {
        "id": "ioHj-2HB_WxD"
      },
      "execution_count": 6,
      "outputs": []
    },
    {
      "cell_type": "code",
      "source": [
        "options = webdriver.ChromeOptions()\n",
        "options.add_argument('--headless')       \n",
        "options.add_argument('--no-sandbox')\n",
        "options.add_argument('--disable-dev-shm-usage')\n",
        "driver = webdriver.Chrome('chromedriver', options=options)\n",
        "\n",
        "def get_items(prod_items):\n",
        "    prod_data = []\n",
        "    for prod_item in prod_items:\n",
        "        if len(prod_item) <= 1:\n",
        "            continue\n",
        "    \n",
        "        try:\n",
        "            name = prod_item.select('td')[1].text.strip()\n",
        "        except:\n",
        "            name = '\\0'\n",
        "        try:\n",
        "            price = int(prod_item.select('td')[2].text.strip().replace(\",\",\"\"))\n",
        "        except:\n",
        "            price = '\\0'\n",
        "        try:\n",
        "             georae= int(prod_item.select('td')[6].text.strip().replace(\",\",\"\"))\n",
        "        except:\n",
        "            georae = '\\0'\n",
        "        try:\n",
        "            stockCnt = int(prod_item.select('td')[7].text.strip().replace(\",\",\"\"))\n",
        "        except:\n",
        "            stockCnt = '\\0'\n",
        "        try:\n",
        "            eps = int(prod_item.select('td')[8].text.strip().replace(\",\",\"\"))\n",
        "        except:\n",
        "            eps = '\\0'\n",
        "        try:\n",
        "            per = float(prod_item.select('td')[9].text.strip())\n",
        "        except:\n",
        "            per = '\\0'\n",
        "        try:\n",
        "            roe = float(prod_item.select('td')[10].text.strip())\n",
        "        except:\n",
        "            roe = '\\0'\n",
        "        try:\n",
        "            pbr = float(prod_item.select('td')[11].text.strip())\n",
        "        except:\n",
        "            pbr = '\\0'\n",
        "        \n",
        "   \n",
        "        prod_data.append([name,price,georae,stockCnt,eps,per,roe,pbr])\n",
        "    return prod_data\n",
        "\n",
        "[os.remove(f) for f in glob.glob(\"./KOSPI*.csv\")] # 만들어진 파일 삭제\n",
        "\n",
        "for i in range(1,5):\n",
        "    url='https://finance.naver.com/sise/sise_market_sum.naver?&page='+str(i)\n",
        "    driver.get(url)\n",
        "    time.sleep(2)\n",
        "\n",
        "    if(i==1):\n",
        "        #원하는 항목을 체크 후 적용하기 클릭\n",
        "        driver.find_element_by_id('option4').click()\n",
        "        driver.find_element_by_id('option15').click()\n",
        "        driver.find_element_by_id('option23').click()\n",
        "        driver.find_element_by_id('option24').click()\n",
        "        driver.find_element_by_xpath('/html/body/div[3]/div[2]/div[2]/div[1]/div[2]/form/div/div/div/a[1]/img').click()\n",
        "\n",
        "    time.sleep(2)\n",
        "\n",
        "    html = driver.page_source\n",
        "    soup = BeautifulSoup(html,'html.parser')\n",
        "\n",
        "    prod_items = soup.select('table.type_2 > tbody > tr')\n",
        "\n",
        "    prod_data_fin = get_items(prod_items)\n",
        "\n",
        "    data = pd.DataFrame(prod_data_fin)\n",
        "\n",
        "    data.columns = ['종목명','현재가','거래량','상장주식수','주당순이익','PER','ROE','PBR']\n",
        "\n",
        "    data.to_csv('./KOSPI'+str(i)+'.csv')\n",
        "\n",
        "    time.sleep(2)\n",
        "\n",
        "all_data = []  \n",
        "for f in glob.glob('./KOSPI*.csv'):\n",
        "    df = pd.read_csv(f)  \n",
        "    all_data.append(df)\n",
        "\n",
        "dataCombine = pd.concat(all_data, axis=0, ignore_index=True)\n",
        " \n",
        "dataCombine.to_csv(\"./KOSPI.csv\", index=False)"
      ],
      "metadata": {
        "id": "I67GYtxbZ9Pc",
        "colab": {
          "base_uri": "https://localhost:8080/"
        },
        "outputId": "e8d9d745-ae60-4ba7-92a0-aad5400feb17"
      },
      "execution_count": 7,
      "outputs": [
        {
          "output_type": "stream",
          "name": "stderr",
          "text": [
            "/usr/local/lib/python3.7/dist-packages/ipykernel_launcher.py:59: DeprecationWarning: find_element_by_* commands are deprecated. Please use find_element() instead\n",
            "/usr/local/lib/python3.7/dist-packages/ipykernel_launcher.py:60: DeprecationWarning: find_element_by_* commands are deprecated. Please use find_element() instead\n",
            "/usr/local/lib/python3.7/dist-packages/ipykernel_launcher.py:61: DeprecationWarning: find_element_by_* commands are deprecated. Please use find_element() instead\n",
            "/usr/local/lib/python3.7/dist-packages/ipykernel_launcher.py:62: DeprecationWarning: find_element_by_* commands are deprecated. Please use find_element() instead\n",
            "/usr/local/lib/python3.7/dist-packages/ipykernel_launcher.py:63: DeprecationWarning: find_element_by_* commands are deprecated. Please use find_element() instead\n"
          ]
        }
      ]
    },
    {
      "cell_type": "code",
      "source": [
        "dfKospi=pd.read_csv('./KOSPI.csv')\n",
        "dfKospi=dfKospi[['종목명','현재가','거래량','상장주식수','주당순이익','PER','ROE','PBR']]\n",
        "dfKospi"
      ],
      "metadata": {
        "colab": {
          "base_uri": "https://localhost:8080/",
          "height": 423
        },
        "id": "_ssyFvTAaLvL",
        "outputId": "2d0bde79-4da6-4406-a454-f53d8a374e4f"
      },
      "execution_count": 8,
      "outputs": [
        {
          "output_type": "execute_result",
          "data": {
            "text/html": [
              "\n",
              "  <div id=\"df-4613b3d5-609d-4866-b7bc-c88e15238ce2\">\n",
              "    <div class=\"colab-df-container\">\n",
              "      <div>\n",
              "<style scoped>\n",
              "    .dataframe tbody tr th:only-of-type {\n",
              "        vertical-align: middle;\n",
              "    }\n",
              "\n",
              "    .dataframe tbody tr th {\n",
              "        vertical-align: top;\n",
              "    }\n",
              "\n",
              "    .dataframe thead th {\n",
              "        text-align: right;\n",
              "    }\n",
              "</style>\n",
              "<table border=\"1\" class=\"dataframe\">\n",
              "  <thead>\n",
              "    <tr style=\"text-align: right;\">\n",
              "      <th></th>\n",
              "      <th>종목명</th>\n",
              "      <th>현재가</th>\n",
              "      <th>거래량</th>\n",
              "      <th>상장주식수</th>\n",
              "      <th>주당순이익</th>\n",
              "      <th>PER</th>\n",
              "      <th>ROE</th>\n",
              "      <th>PBR</th>\n",
              "    </tr>\n",
              "  </thead>\n",
              "  <tbody>\n",
              "    <tr>\n",
              "      <th>0</th>\n",
              "      <td>LG이노텍</td>\n",
              "      <td>335500</td>\n",
              "      <td>660728</td>\n",
              "      <td>23667</td>\n",
              "      <td>31557.0</td>\n",
              "      <td>10.63</td>\n",
              "      <td>10.20</td>\n",
              "      <td>2.56</td>\n",
              "    </tr>\n",
              "    <tr>\n",
              "      <th>1</th>\n",
              "      <td>롯데케미칼</td>\n",
              "      <td>229500</td>\n",
              "      <td>98199</td>\n",
              "      <td>34275</td>\n",
              "      <td>39751.0</td>\n",
              "      <td>5.77</td>\n",
              "      <td>1.22</td>\n",
              "      <td>0.55</td>\n",
              "    </tr>\n",
              "    <tr>\n",
              "      <th>2</th>\n",
              "      <td>SK바이오팜</td>\n",
              "      <td>97600</td>\n",
              "      <td>146720</td>\n",
              "      <td>78313</td>\n",
              "      <td>-516.0</td>\n",
              "      <td>-189.15</td>\n",
              "      <td>-135.18</td>\n",
              "      <td>19.30</td>\n",
              "    </tr>\n",
              "    <tr>\n",
              "      <th>3</th>\n",
              "      <td>한온시스템</td>\n",
              "      <td>13300</td>\n",
              "      <td>463500</td>\n",
              "      <td>533800</td>\n",
              "      <td>548.0</td>\n",
              "      <td>24.27</td>\n",
              "      <td>5.09</td>\n",
              "      <td>3.09</td>\n",
              "    </tr>\n",
              "    <tr>\n",
              "      <th>4</th>\n",
              "      <td>F&amp;F</td>\n",
              "      <td>885000</td>\n",
              "      <td>30354</td>\n",
              "      <td>7661</td>\n",
              "      <td>NaN</td>\n",
              "      <td>NaN</td>\n",
              "      <td>NaN</td>\n",
              "      <td>16.01</td>\n",
              "    </tr>\n",
              "    <tr>\n",
              "      <th>...</th>\n",
              "      <td>...</td>\n",
              "      <td>...</td>\n",
              "      <td>...</td>\n",
              "      <td>...</td>\n",
              "      <td>...</td>\n",
              "      <td>...</td>\n",
              "      <td>...</td>\n",
              "      <td>...</td>\n",
              "    </tr>\n",
              "    <tr>\n",
              "      <th>195</th>\n",
              "      <td>SK스퀘어</td>\n",
              "      <td>60900</td>\n",
              "      <td>2566044</td>\n",
              "      <td>141468</td>\n",
              "      <td>NaN</td>\n",
              "      <td>NaN</td>\n",
              "      <td>NaN</td>\n",
              "      <td>NaN</td>\n",
              "    </tr>\n",
              "    <tr>\n",
              "      <th>196</th>\n",
              "      <td>KT</td>\n",
              "      <td>32250</td>\n",
              "      <td>893894</td>\n",
              "      <td>261112</td>\n",
              "      <td>3914.0</td>\n",
              "      <td>8.24</td>\n",
              "      <td>4.76</td>\n",
              "      <td>0.52</td>\n",
              "    </tr>\n",
              "    <tr>\n",
              "      <th>197</th>\n",
              "      <td>현대중공업</td>\n",
              "      <td>94000</td>\n",
              "      <td>409225</td>\n",
              "      <td>88773</td>\n",
              "      <td>-9163.0</td>\n",
              "      <td>-10.26</td>\n",
              "      <td>-7.86</td>\n",
              "      <td>1.36</td>\n",
              "    </tr>\n",
              "    <tr>\n",
              "      <th>198</th>\n",
              "      <td>기업은행</td>\n",
              "      <td>11200</td>\n",
              "      <td>1010008</td>\n",
              "      <td>744301</td>\n",
              "      <td>2702.0</td>\n",
              "      <td>4.15</td>\n",
              "      <td>6.44</td>\n",
              "      <td>0.31</td>\n",
              "    </tr>\n",
              "    <tr>\n",
              "      <th>199</th>\n",
              "      <td>LG디스플레이</td>\n",
              "      <td>22250</td>\n",
              "      <td>2006233</td>\n",
              "      <td>357816</td>\n",
              "      <td>4413.0</td>\n",
              "      <td>5.04</td>\n",
              "      <td>-0.79</td>\n",
              "      <td>0.61</td>\n",
              "    </tr>\n",
              "  </tbody>\n",
              "</table>\n",
              "<p>200 rows × 8 columns</p>\n",
              "</div>\n",
              "      <button class=\"colab-df-convert\" onclick=\"convertToInteractive('df-4613b3d5-609d-4866-b7bc-c88e15238ce2')\"\n",
              "              title=\"Convert this dataframe to an interactive table.\"\n",
              "              style=\"display:none;\">\n",
              "        \n",
              "  <svg xmlns=\"http://www.w3.org/2000/svg\" height=\"24px\"viewBox=\"0 0 24 24\"\n",
              "       width=\"24px\">\n",
              "    <path d=\"M0 0h24v24H0V0z\" fill=\"none\"/>\n",
              "    <path d=\"M18.56 5.44l.94 2.06.94-2.06 2.06-.94-2.06-.94-.94-2.06-.94 2.06-2.06.94zm-11 1L8.5 8.5l.94-2.06 2.06-.94-2.06-.94L8.5 2.5l-.94 2.06-2.06.94zm10 10l.94 2.06.94-2.06 2.06-.94-2.06-.94-.94-2.06-.94 2.06-2.06.94z\"/><path d=\"M17.41 7.96l-1.37-1.37c-.4-.4-.92-.59-1.43-.59-.52 0-1.04.2-1.43.59L10.3 9.45l-7.72 7.72c-.78.78-.78 2.05 0 2.83L4 21.41c.39.39.9.59 1.41.59.51 0 1.02-.2 1.41-.59l7.78-7.78 2.81-2.81c.8-.78.8-2.07 0-2.86zM5.41 20L4 18.59l7.72-7.72 1.47 1.35L5.41 20z\"/>\n",
              "  </svg>\n",
              "      </button>\n",
              "      \n",
              "  <style>\n",
              "    .colab-df-container {\n",
              "      display:flex;\n",
              "      flex-wrap:wrap;\n",
              "      gap: 12px;\n",
              "    }\n",
              "\n",
              "    .colab-df-convert {\n",
              "      background-color: #E8F0FE;\n",
              "      border: none;\n",
              "      border-radius: 50%;\n",
              "      cursor: pointer;\n",
              "      display: none;\n",
              "      fill: #1967D2;\n",
              "      height: 32px;\n",
              "      padding: 0 0 0 0;\n",
              "      width: 32px;\n",
              "    }\n",
              "\n",
              "    .colab-df-convert:hover {\n",
              "      background-color: #E2EBFA;\n",
              "      box-shadow: 0px 1px 2px rgba(60, 64, 67, 0.3), 0px 1px 3px 1px rgba(60, 64, 67, 0.15);\n",
              "      fill: #174EA6;\n",
              "    }\n",
              "\n",
              "    [theme=dark] .colab-df-convert {\n",
              "      background-color: #3B4455;\n",
              "      fill: #D2E3FC;\n",
              "    }\n",
              "\n",
              "    [theme=dark] .colab-df-convert:hover {\n",
              "      background-color: #434B5C;\n",
              "      box-shadow: 0px 1px 3px 1px rgba(0, 0, 0, 0.15);\n",
              "      filter: drop-shadow(0px 1px 2px rgba(0, 0, 0, 0.3));\n",
              "      fill: #FFFFFF;\n",
              "    }\n",
              "  </style>\n",
              "\n",
              "      <script>\n",
              "        const buttonEl =\n",
              "          document.querySelector('#df-4613b3d5-609d-4866-b7bc-c88e15238ce2 button.colab-df-convert');\n",
              "        buttonEl.style.display =\n",
              "          google.colab.kernel.accessAllowed ? 'block' : 'none';\n",
              "\n",
              "        async function convertToInteractive(key) {\n",
              "          const element = document.querySelector('#df-4613b3d5-609d-4866-b7bc-c88e15238ce2');\n",
              "          const dataTable =\n",
              "            await google.colab.kernel.invokeFunction('convertToInteractive',\n",
              "                                                     [key], {});\n",
              "          if (!dataTable) return;\n",
              "\n",
              "          const docLinkHtml = 'Like what you see? Visit the ' +\n",
              "            '<a target=\"_blank\" href=https://colab.research.google.com/notebooks/data_table.ipynb>data table notebook</a>'\n",
              "            + ' to learn more about interactive tables.';\n",
              "          element.innerHTML = '';\n",
              "          dataTable['output_type'] = 'display_data';\n",
              "          await google.colab.output.renderOutput(dataTable, element);\n",
              "          const docLink = document.createElement('div');\n",
              "          docLink.innerHTML = docLinkHtml;\n",
              "          element.appendChild(docLink);\n",
              "        }\n",
              "      </script>\n",
              "    </div>\n",
              "  </div>\n",
              "  "
            ],
            "text/plain": [
              "         종목명     현재가      거래량   상장주식수    주당순이익     PER     ROE    PBR\n",
              "0      LG이노텍  335500   660728   23667  31557.0   10.63   10.20   2.56\n",
              "1      롯데케미칼  229500    98199   34275  39751.0    5.77    1.22   0.55\n",
              "2     SK바이오팜   97600   146720   78313   -516.0 -189.15 -135.18  19.30\n",
              "3      한온시스템   13300   463500  533800    548.0   24.27    5.09   3.09\n",
              "4        F&F  885000    30354    7661      NaN     NaN     NaN  16.01\n",
              "..       ...     ...      ...     ...      ...     ...     ...    ...\n",
              "195    SK스퀘어   60900  2566044  141468      NaN     NaN     NaN    NaN\n",
              "196       KT   32250   893894  261112   3914.0    8.24    4.76   0.52\n",
              "197    현대중공업   94000   409225   88773  -9163.0  -10.26   -7.86   1.36\n",
              "198     기업은행   11200  1010008  744301   2702.0    4.15    6.44   0.31\n",
              "199  LG디스플레이   22250  2006233  357816   4413.0    5.04   -0.79   0.61\n",
              "\n",
              "[200 rows x 8 columns]"
            ]
          },
          "metadata": {},
          "execution_count": 8
        }
      ]
    },
    {
      "cell_type": "markdown",
      "source": [
        "# 코스닥 종목 정보 크롤링"
      ],
      "metadata": {
        "id": "5084KU0XsTgi"
      }
    },
    {
      "cell_type": "code",
      "source": [
        "options = webdriver.ChromeOptions()\n",
        "options.add_argument('--headless')       \n",
        "options.add_argument('--no-sandbox')\n",
        "options.add_argument('--disable-dev-shm-usage')\n",
        "driver = webdriver.Chrome('chromedriver', options=options)\n",
        "\n",
        "def get_items(prod_items):\n",
        "    prod_data = []\n",
        "    for prod_item in prod_items:\n",
        "        if len(prod_item) <= 1:\n",
        "            continue\n",
        "    \n",
        "        try:\n",
        "            name = prod_item.select('td')[1].text.strip()\n",
        "        except:\n",
        "            name = '\\0'\n",
        "        try:\n",
        "            price = int(prod_item.select('td')[2].text.strip().replace(\",\",\"\"))\n",
        "        except:\n",
        "            price = '\\0'\n",
        "        try:\n",
        "             georae= int(prod_item.select('td')[6].text.strip().replace(\",\",\"\"))\n",
        "        except:\n",
        "            georae = '\\0'\n",
        "        try:\n",
        "            stockCnt = int(prod_item.select('td')[7].text.strip().replace(\",\",\"\"))\n",
        "        except:\n",
        "            stockCnt = '\\0'\n",
        "        try:\n",
        "            eps = int(prod_item.select('td')[8].text.strip().replace(\",\",\"\"))\n",
        "        except:\n",
        "            eps = '\\0'\n",
        "        try:\n",
        "            per = float(prod_item.select('td')[9].text.strip())\n",
        "        except:\n",
        "            per = '\\0'\n",
        "        try:\n",
        "            roe = float(prod_item.select('td')[10].text.strip())\n",
        "        except:\n",
        "            roe = '\\0'\n",
        "        try:\n",
        "            pbr = float(prod_item.select('td')[11].text.strip())\n",
        "        except:\n",
        "            pbr = '\\0'\n",
        "        \n",
        "   \n",
        "        prod_data.append([name,price,georae,stockCnt,eps,per,roe,pbr])\n",
        "    return prod_data\n",
        "\n",
        "[os.remove(f) for f in glob.glob(\"./KOSDAQ*.csv\")]\n",
        "\n",
        "for i in range(1,5):\n",
        "    url=' https://finance.naver.com/sise/sise_market_sum.naver?sosok=1&page='+str(i)\n",
        "    driver.get(url)\n",
        "    time.sleep(2)\n",
        "\n",
        "    if(i==1):\n",
        "        #원하는 항목을 체크 후 적용하기 클릭\n",
        "        driver.find_element_by_id('option4').click()\n",
        "        driver.find_element_by_id('option15').click()\n",
        "        driver.find_element_by_id('option23').click()\n",
        "        driver.find_element_by_id('option24').click()\n",
        "        driver.find_element_by_xpath('/html/body/div[3]/div[2]/div[2]/div[1]/div[2]/form/div/div/div/a[1]/img').click()\n",
        "\n",
        "    time.sleep(2)\n",
        "\n",
        "    html = driver.page_source\n",
        "    soup = BeautifulSoup(html,'html.parser')\n",
        "\n",
        "    prod_items = soup.select('table.type_2 > tbody > tr')\n",
        "\n",
        "    prod_data_fin = get_items(prod_items)\n",
        "\n",
        "    data = pd.DataFrame(prod_data_fin)\n",
        "\n",
        "    data.columns = ['종목명','현재가','거래량','상장주식수','주당순이익','PER','ROE','PBR']\n",
        "\n",
        "    data.to_csv('./KOSDAQ'+str(i)+'.csv')\n",
        "\n",
        "    time.sleep(2)\n",
        "\n",
        "all_data = []  \n",
        "for f in glob.glob('./KOSDAQ*.csv'): \n",
        "    df = pd.read_csv(f)  \n",
        "    all_data.append(df)\n",
        "\n",
        "dataCombine = pd.concat(all_data, axis=0, ignore_index=True)\n",
        "\n",
        "dataCombine.to_csv(\"./KOSDAQ.csv\", index=False)"
      ],
      "metadata": {
        "colab": {
          "base_uri": "https://localhost:8080/"
        },
        "id": "GxpKsHwRsRq0",
        "outputId": "c314ca73-cb68-4d59-be9e-64d201fa2673"
      },
      "execution_count": 9,
      "outputs": [
        {
          "output_type": "stream",
          "name": "stderr",
          "text": [
            "/usr/local/lib/python3.7/dist-packages/ipykernel_launcher.py:59: DeprecationWarning: find_element_by_* commands are deprecated. Please use find_element() instead\n",
            "/usr/local/lib/python3.7/dist-packages/ipykernel_launcher.py:60: DeprecationWarning: find_element_by_* commands are deprecated. Please use find_element() instead\n",
            "/usr/local/lib/python3.7/dist-packages/ipykernel_launcher.py:61: DeprecationWarning: find_element_by_* commands are deprecated. Please use find_element() instead\n",
            "/usr/local/lib/python3.7/dist-packages/ipykernel_launcher.py:62: DeprecationWarning: find_element_by_* commands are deprecated. Please use find_element() instead\n",
            "/usr/local/lib/python3.7/dist-packages/ipykernel_launcher.py:63: DeprecationWarning: find_element_by_* commands are deprecated. Please use find_element() instead\n"
          ]
        }
      ]
    },
    {
      "cell_type": "code",
      "source": [
        "dfKosdaq=pd.read_csv('./KOSDAQ.csv')\n",
        "dfKosdaq=dfKosdaq[['종목명','현재가','거래량','상장주식수','주당순이익','PER','ROE','PBR']]\n",
        "dfKosdaq"
      ],
      "metadata": {
        "id": "FD_x5jJXa8yV",
        "colab": {
          "base_uri": "https://localhost:8080/",
          "height": 423
        },
        "outputId": "90db7f43-c822-4537-dc69-500a0677c9b9"
      },
      "execution_count": 10,
      "outputs": [
        {
          "output_type": "execute_result",
          "data": {
            "text/html": [
              "\n",
              "  <div id=\"df-66123da7-45b7-458c-8160-2c1a731e2c99\">\n",
              "    <div class=\"colab-df-container\">\n",
              "      <div>\n",
              "<style scoped>\n",
              "    .dataframe tbody tr th:only-of-type {\n",
              "        vertical-align: middle;\n",
              "    }\n",
              "\n",
              "    .dataframe tbody tr th {\n",
              "        vertical-align: top;\n",
              "    }\n",
              "\n",
              "    .dataframe thead th {\n",
              "        text-align: right;\n",
              "    }\n",
              "</style>\n",
              "<table border=\"1\" class=\"dataframe\">\n",
              "  <thead>\n",
              "    <tr style=\"text-align: right;\">\n",
              "      <th></th>\n",
              "      <th>종목명</th>\n",
              "      <th>현재가</th>\n",
              "      <th>거래량</th>\n",
              "      <th>상장주식수</th>\n",
              "      <th>주당순이익</th>\n",
              "      <th>PER</th>\n",
              "      <th>ROE</th>\n",
              "      <th>PBR</th>\n",
              "    </tr>\n",
              "  </thead>\n",
              "  <tbody>\n",
              "    <tr>\n",
              "      <th>0</th>\n",
              "      <td>클래시스</td>\n",
              "      <td>18950</td>\n",
              "      <td>154125</td>\n",
              "      <td>64717</td>\n",
              "      <td>732.0</td>\n",
              "      <td>25.89</td>\n",
              "      <td>36.06</td>\n",
              "      <td>7.96</td>\n",
              "    </tr>\n",
              "    <tr>\n",
              "      <th>1</th>\n",
              "      <td>하나머티리얼즈</td>\n",
              "      <td>62100</td>\n",
              "      <td>177790</td>\n",
              "      <td>19738</td>\n",
              "      <td>2954.0</td>\n",
              "      <td>21.02</td>\n",
              "      <td>22.82</td>\n",
              "      <td>5.21</td>\n",
              "    </tr>\n",
              "    <tr>\n",
              "      <th>2</th>\n",
              "      <td>SFA반도체</td>\n",
              "      <td>7310</td>\n",
              "      <td>5033059</td>\n",
              "      <td>164460</td>\n",
              "      <td>250.0</td>\n",
              "      <td>29.24</td>\n",
              "      <td>5.22</td>\n",
              "      <td>3.11</td>\n",
              "    </tr>\n",
              "    <tr>\n",
              "      <th>3</th>\n",
              "      <td>NHN한국사이버결제</td>\n",
              "      <td>33300</td>\n",
              "      <td>320344</td>\n",
              "      <td>36016</td>\n",
              "      <td>935.0</td>\n",
              "      <td>35.61</td>\n",
              "      <td>21.35</td>\n",
              "      <td>6.50</td>\n",
              "    </tr>\n",
              "    <tr>\n",
              "      <th>4</th>\n",
              "      <td>에이치엘비생명과학</td>\n",
              "      <td>12450</td>\n",
              "      <td>1191789</td>\n",
              "      <td>95498</td>\n",
              "      <td>-302.0</td>\n",
              "      <td>-41.23</td>\n",
              "      <td>-17.97</td>\n",
              "      <td>3.88</td>\n",
              "    </tr>\n",
              "    <tr>\n",
              "      <th>...</th>\n",
              "      <td>...</td>\n",
              "      <td>...</td>\n",
              "      <td>...</td>\n",
              "      <td>...</td>\n",
              "      <td>...</td>\n",
              "      <td>...</td>\n",
              "      <td>...</td>\n",
              "      <td>...</td>\n",
              "    </tr>\n",
              "    <tr>\n",
              "      <th>195</th>\n",
              "      <td>유바이오로직스</td>\n",
              "      <td>35950</td>\n",
              "      <td>520398</td>\n",
              "      <td>36274</td>\n",
              "      <td>-616.0</td>\n",
              "      <td>-58.36</td>\n",
              "      <td>-91.23</td>\n",
              "      <td>10.97</td>\n",
              "    </tr>\n",
              "    <tr>\n",
              "      <th>196</th>\n",
              "      <td>에스에프에이</td>\n",
              "      <td>36300</td>\n",
              "      <td>51724</td>\n",
              "      <td>35909</td>\n",
              "      <td>2849.0</td>\n",
              "      <td>12.74</td>\n",
              "      <td>11.33</td>\n",
              "      <td>1.21</td>\n",
              "    </tr>\n",
              "    <tr>\n",
              "      <th>197</th>\n",
              "      <td>바이오니아</td>\n",
              "      <td>50500</td>\n",
              "      <td>3520433</td>\n",
              "      <td>25810</td>\n",
              "      <td>2276.0</td>\n",
              "      <td>22.19</td>\n",
              "      <td>65.71</td>\n",
              "      <td>7.57</td>\n",
              "    </tr>\n",
              "    <tr>\n",
              "      <th>198</th>\n",
              "      <td>메드팩토</td>\n",
              "      <td>62300</td>\n",
              "      <td>441811</td>\n",
              "      <td>20510</td>\n",
              "      <td>-850.0</td>\n",
              "      <td>-73.29</td>\n",
              "      <td>-37.72</td>\n",
              "      <td>25.81</td>\n",
              "    </tr>\n",
              "    <tr>\n",
              "      <th>199</th>\n",
              "      <td>신라젠</td>\n",
              "      <td>12100</td>\n",
              "      <td>0</td>\n",
              "      <td>102867</td>\n",
              "      <td>-170.0</td>\n",
              "      <td>-71.18</td>\n",
              "      <td>-114.04</td>\n",
              "      <td>10.78</td>\n",
              "    </tr>\n",
              "  </tbody>\n",
              "</table>\n",
              "<p>200 rows × 8 columns</p>\n",
              "</div>\n",
              "      <button class=\"colab-df-convert\" onclick=\"convertToInteractive('df-66123da7-45b7-458c-8160-2c1a731e2c99')\"\n",
              "              title=\"Convert this dataframe to an interactive table.\"\n",
              "              style=\"display:none;\">\n",
              "        \n",
              "  <svg xmlns=\"http://www.w3.org/2000/svg\" height=\"24px\"viewBox=\"0 0 24 24\"\n",
              "       width=\"24px\">\n",
              "    <path d=\"M0 0h24v24H0V0z\" fill=\"none\"/>\n",
              "    <path d=\"M18.56 5.44l.94 2.06.94-2.06 2.06-.94-2.06-.94-.94-2.06-.94 2.06-2.06.94zm-11 1L8.5 8.5l.94-2.06 2.06-.94-2.06-.94L8.5 2.5l-.94 2.06-2.06.94zm10 10l.94 2.06.94-2.06 2.06-.94-2.06-.94-.94-2.06-.94 2.06-2.06.94z\"/><path d=\"M17.41 7.96l-1.37-1.37c-.4-.4-.92-.59-1.43-.59-.52 0-1.04.2-1.43.59L10.3 9.45l-7.72 7.72c-.78.78-.78 2.05 0 2.83L4 21.41c.39.39.9.59 1.41.59.51 0 1.02-.2 1.41-.59l7.78-7.78 2.81-2.81c.8-.78.8-2.07 0-2.86zM5.41 20L4 18.59l7.72-7.72 1.47 1.35L5.41 20z\"/>\n",
              "  </svg>\n",
              "      </button>\n",
              "      \n",
              "  <style>\n",
              "    .colab-df-container {\n",
              "      display:flex;\n",
              "      flex-wrap:wrap;\n",
              "      gap: 12px;\n",
              "    }\n",
              "\n",
              "    .colab-df-convert {\n",
              "      background-color: #E8F0FE;\n",
              "      border: none;\n",
              "      border-radius: 50%;\n",
              "      cursor: pointer;\n",
              "      display: none;\n",
              "      fill: #1967D2;\n",
              "      height: 32px;\n",
              "      padding: 0 0 0 0;\n",
              "      width: 32px;\n",
              "    }\n",
              "\n",
              "    .colab-df-convert:hover {\n",
              "      background-color: #E2EBFA;\n",
              "      box-shadow: 0px 1px 2px rgba(60, 64, 67, 0.3), 0px 1px 3px 1px rgba(60, 64, 67, 0.15);\n",
              "      fill: #174EA6;\n",
              "    }\n",
              "\n",
              "    [theme=dark] .colab-df-convert {\n",
              "      background-color: #3B4455;\n",
              "      fill: #D2E3FC;\n",
              "    }\n",
              "\n",
              "    [theme=dark] .colab-df-convert:hover {\n",
              "      background-color: #434B5C;\n",
              "      box-shadow: 0px 1px 3px 1px rgba(0, 0, 0, 0.15);\n",
              "      filter: drop-shadow(0px 1px 2px rgba(0, 0, 0, 0.3));\n",
              "      fill: #FFFFFF;\n",
              "    }\n",
              "  </style>\n",
              "\n",
              "      <script>\n",
              "        const buttonEl =\n",
              "          document.querySelector('#df-66123da7-45b7-458c-8160-2c1a731e2c99 button.colab-df-convert');\n",
              "        buttonEl.style.display =\n",
              "          google.colab.kernel.accessAllowed ? 'block' : 'none';\n",
              "\n",
              "        async function convertToInteractive(key) {\n",
              "          const element = document.querySelector('#df-66123da7-45b7-458c-8160-2c1a731e2c99');\n",
              "          const dataTable =\n",
              "            await google.colab.kernel.invokeFunction('convertToInteractive',\n",
              "                                                     [key], {});\n",
              "          if (!dataTable) return;\n",
              "\n",
              "          const docLinkHtml = 'Like what you see? Visit the ' +\n",
              "            '<a target=\"_blank\" href=https://colab.research.google.com/notebooks/data_table.ipynb>data table notebook</a>'\n",
              "            + ' to learn more about interactive tables.';\n",
              "          element.innerHTML = '';\n",
              "          dataTable['output_type'] = 'display_data';\n",
              "          await google.colab.output.renderOutput(dataTable, element);\n",
              "          const docLink = document.createElement('div');\n",
              "          docLink.innerHTML = docLinkHtml;\n",
              "          element.appendChild(docLink);\n",
              "        }\n",
              "      </script>\n",
              "    </div>\n",
              "  </div>\n",
              "  "
            ],
            "text/plain": [
              "            종목명    현재가      거래량   상장주식수   주당순이익    PER     ROE    PBR\n",
              "0          클래시스  18950   154125   64717   732.0  25.89   36.06   7.96\n",
              "1       하나머티리얼즈  62100   177790   19738  2954.0  21.02   22.82   5.21\n",
              "2        SFA반도체   7310  5033059  164460   250.0  29.24    5.22   3.11\n",
              "3    NHN한국사이버결제  33300   320344   36016   935.0  35.61   21.35   6.50\n",
              "4     에이치엘비생명과학  12450  1191789   95498  -302.0 -41.23  -17.97   3.88\n",
              "..          ...    ...      ...     ...     ...    ...     ...    ...\n",
              "195     유바이오로직스  35950   520398   36274  -616.0 -58.36  -91.23  10.97\n",
              "196      에스에프에이  36300    51724   35909  2849.0  12.74   11.33   1.21\n",
              "197       바이오니아  50500  3520433   25810  2276.0  22.19   65.71   7.57\n",
              "198        메드팩토  62300   441811   20510  -850.0 -73.29  -37.72  25.81\n",
              "199         신라젠  12100        0  102867  -170.0 -71.18 -114.04  10.78\n",
              "\n",
              "[200 rows x 8 columns]"
            ]
          },
          "metadata": {},
          "execution_count": 10
        }
      ]
    },
    {
      "cell_type": "markdown",
      "source": [
        "# 코스피와 코스닥의 차이"
      ],
      "metadata": {
        "id": "afH0XcXEvf5h"
      }
    },
    {
      "cell_type": "code",
      "source": [
        "dfKospi_num=dfKospi[['현재가','거래량','상장주식수','주당순이익','PER','ROE','PBR']]\n",
        "dfKosdaq_num=dfKosdaq[['현재가','거래량','상장주식수','주당순이익','PER','ROE','PBR']]"
      ],
      "metadata": {
        "id": "zFbOKsb3zZXU"
      },
      "execution_count": 11,
      "outputs": []
    },
    {
      "cell_type": "markdown",
      "source": [
        "### 정규화"
      ],
      "metadata": {
        "id": "5X7kBwe-xiRF"
      }
    },
    {
      "cell_type": "code",
      "source": [
        "from sklearn.preprocessing import MinMaxScaler\n",
        "def min_max_scaling(df):\n",
        "    scaler = MinMaxScaler()\n",
        "    df_norm=pd.DataFrame(scaler.fit_transform(df), columns=df.columns)\n",
        "\n",
        "    return df_norm\n",
        "\n",
        "dfKospi_norm=min_max_scaling(dfKospi_num)\n",
        "dfKosdaq_norm=min_max_scaling(dfKosdaq_num)"
      ],
      "metadata": {
        "id": "DHB7tADGy3wv"
      },
      "execution_count": 12,
      "outputs": []
    },
    {
      "cell_type": "markdown",
      "source": [
        "### 결측값 대체(K-NN Imputation)\n",
        "\n",
        "\n",
        "k값: https://ichi.pro/ko/python-mich-knneulo-nulag-doen-deiteoleul-cheolihaneun-bangbeob-53388502705981\n",
        "\n",
        "그래프: https://codetorial.net/matplotlib/double_y_axis.html\n",
        "https://pydole.tistory.com/entry/Python-matplotlib-%EA%B7%B8%EB%9E%98%ED%94%84%EC%97%90-%EA%B0%92-%ED%91%9C%EC%8B%9C-%ED%95%98%EA%B8%B0\n"
      ],
      "metadata": {
        "id": "qQQYkYzJ4Bfv"
      }
    },
    {
      "cell_type": "code",
      "source": [
        "# 결측값 존재\n",
        "print(\"- 코스피\")\n",
        "print(dfKospi_norm.isnull().sum())\n",
        "\n",
        "print(\"\\n- 코스닥\")\n",
        "print(dfKosdaq_norm.isnull().sum())"
      ],
      "metadata": {
        "colab": {
          "base_uri": "https://localhost:8080/"
        },
        "id": "O88Yp5KY_8Ww",
        "outputId": "156ca6ca-37c1-46d3-a743-a3c7c7e750d9"
      },
      "execution_count": 13,
      "outputs": [
        {
          "output_type": "stream",
          "name": "stdout",
          "text": [
            "- 코스피\n",
            "현재가       0\n",
            "거래량       0\n",
            "상장주식수     0\n",
            "주당순이익    17\n",
            "PER      20\n",
            "ROE      25\n",
            "PBR      15\n",
            "dtype: int64\n",
            "\n",
            "- 코스닥\n",
            "현재가       0\n",
            "거래량       0\n",
            "상장주식수     0\n",
            "주당순이익     3\n",
            "PER       6\n",
            "ROE      11\n",
            "PBR       2\n",
            "dtype: int64\n"
          ]
        }
      ]
    },
    {
      "cell_type": "markdown",
      "source": [
        "k값에 따른 오차 구하기(RandomForestRegressor)"
      ],
      "metadata": {
        "id": "5Np9yU3c3dRn"
      }
    },
    {
      "cell_type": "code",
      "source": [
        "from sklearn.impute import KNNImputer\n",
        "from sklearn.model_selection import train_test_split\n",
        "from sklearn.ensemble import RandomForestRegressor\n",
        "from sklearn.metrics import mean_squared_error\n",
        "\n",
        "rmse = lambda y, yhat: np.sqrt(mean_squared_error(y, yhat))\n",
        "\n",
        "def optimize_k(data, target):\n",
        "    errors = []\n",
        "    for k in range(1, 10, 2):\n",
        "        imputer = KNNImputer(n_neighbors=k)\n",
        "        imputed = imputer.fit_transform(data)\n",
        "        df_imputed = pd.DataFrame(imputed, columns=data.columns)\n",
        "        \n",
        "        X = df_imputed.drop(target, axis=1)\n",
        "        y = df_imputed[target]\n",
        "        X_train, X_test, y_train, y_test = train_test_split(X, y, test_size=0.2, random_state=42)\n",
        "        model = RandomForestRegressor()\n",
        "        model.fit(X_train, y_train)\n",
        "        preds = model.predict(X_test)\n",
        "        error = rmse(y_test, preds)\n",
        "        errors.append({'K': k, 'RMSE': error})\n",
        "        \n",
        "    return errors\n",
        "\n",
        "kospi_errors = optimize_k(data=dfKospi_norm, target='상장주식수')\n",
        "kosdaq_errors = optimize_k(data=dfKosdaq_norm, target='상장주식수')\n",
        "print(\"kospi\", kospi_errors)\n",
        "print(\"kosdaq\", kosdaq_errors)"
      ],
      "metadata": {
        "colab": {
          "base_uri": "https://localhost:8080/"
        },
        "id": "QeNv3_6L9orO",
        "outputId": "5373c34d-e5f4-4a49-cf9d-710ab89f34a5"
      },
      "execution_count": 14,
      "outputs": [
        {
          "output_type": "stream",
          "name": "stdout",
          "text": [
            "kospi [{'K': 1, 'RMSE': 0.14507490170514478}, {'K': 3, 'RMSE': 0.14690370211080067}, {'K': 5, 'RMSE': 0.1450669149821654}, {'K': 7, 'RMSE': 0.14649488518304438}, {'K': 9, 'RMSE': 0.14708836560711838}]\n",
            "kosdaq [{'K': 1, 'RMSE': 0.1317479180511834}, {'K': 3, 'RMSE': 0.12998315035111033}, {'K': 5, 'RMSE': 0.13244529705114472}, {'K': 7, 'RMSE': 0.13258701205063145}, {'K': 9, 'RMSE': 0.13188661410184174}]\n"
          ]
        }
      ]
    },
    {
      "cell_type": "markdown",
      "source": [
        "최적 k값 구하기(오차가 최소인 값)"
      ],
      "metadata": {
        "id": "N5E42e75_20I"
      }
    },
    {
      "cell_type": "code",
      "source": [
        "x=[]\n",
        "y=[]\n",
        "for i in kospi_errors:\n",
        "    x.append(i.get('K'))\n",
        "    y.append(i.get('RMSE'))\n",
        "\n",
        "fig, ax=plt.subplots()\n",
        "ax.plot(x, y, label='KOSPI', color='C4')\n",
        "plt.xticks(x)\n",
        "\n",
        "x2=[]\n",
        "y2=[]\n",
        "for i in kosdaq_errors:\n",
        "    x2.append(i.get('K'))\n",
        "    y2.append(i.get('RMSE'))\n",
        "\n",
        "ax2=ax.twinx()\n",
        "ax2.plot(x2, y2, label='KOSDAQ', color='C8')\n",
        "\n",
        "ax.set_xlabel(\"K값\")\n",
        "ax.set_ylabel(\"RMSE\")\n",
        "\n",
        "ax.legend(loc='lower right')\n",
        "ax2.legend(loc='upper right')\n",
        "\n",
        "ax.text(x[y.index(min(y))],min(y), 'Min', color='C4', \n",
        "        horizontalalignment='center', verticalalignment='top')\n",
        "ax2.text(x2[y2.index(min(y2))],min(y2), 'Min', color='C8', \n",
        "        horizontalalignment='center', verticalalignment='top')\n",
        "\n",
        "plt.show()\n",
        "\n",
        "kospiMinK=x[y.index(min(y))]\n",
        "kosdaqMinK=x2[y2.index(min(y2))]\n",
        "\n",
        "print(\"kospi의 K값:\", kospiMinK)\n",
        "print(\"kosdaq의 K값:\", kosdaqMinK)\n"
      ],
      "metadata": {
        "colab": {
          "base_uri": "https://localhost:8080/",
          "height": 318
        },
        "id": "VMYsq8z79ITy",
        "outputId": "2649f1a0-d8d5-4680-c2cf-e64e1520c36d"
      },
      "execution_count": 39,
      "outputs": [
        {
          "output_type": "display_data",
          "data": {
            "image/png": "[encoded data removed]",
            "text/plain": [
              "<Figure size 432x288 with 2 Axes>"
            ]
          },
          "metadata": {
            "image/png": {
              "width": 448,
              "height": 264
            },
            "needs_background": "light"
          }
        },
        {
          "output_type": "stream",
          "name": "stdout",
          "text": [
            "kospi의 K값: 5\n",
            "kosdaq의 K값: 3\n"
          ]
        }
      ]
    },
    {
      "cell_type": "code",
      "source": [
        "# 데이터 null값 knn으로 채우기\n",
        "from sklearn.impute import KNNImputer\n",
        "def knn(df,k):\n",
        "    imputer=KNNImputer(n_neighbors=k, weights=\"uniform\")\n",
        "\n",
        "    imputer.fit_transform(df)\n",
        "    return pd.DataFrame(imputer.fit_transform(df), columns=df.columns)\n",
        "\n",
        "kospi= knn(dfKospi_num, kospiMinK)\n",
        "kosdaq= knn(dfKosdaq_num, kosdaqMinK)"
      ],
      "metadata": {
        "id": "jRBpu0UaUPE5"
      },
      "execution_count": 16,
      "outputs": []
    },
    {
      "cell_type": "code",
      "source": [
        "# 결측값 X\n",
        "print(\"- 코스피\")\n",
        "print(kospi.isnull().sum())\n",
        "\n",
        "print(\"\\n- 코스닥\")\n",
        "print(kosdaq.isnull().sum())"
      ],
      "metadata": {
        "colab": {
          "base_uri": "https://localhost:8080/"
        },
        "id": "FZyNGzmlTR4x",
        "outputId": "7f9f2711-8fbe-4add-8926-25edc83e33e0"
      },
      "execution_count": 17,
      "outputs": [
        {
          "output_type": "stream",
          "name": "stdout",
          "text": [
            "- 코스피\n",
            "현재가      0\n",
            "거래량      0\n",
            "상장주식수    0\n",
            "주당순이익    0\n",
            "PER      0\n",
            "ROE      0\n",
            "PBR      0\n",
            "dtype: int64\n",
            "\n",
            "- 코스닥\n",
            "현재가      0\n",
            "거래량      0\n",
            "상장주식수    0\n",
            "주당순이익    0\n",
            "PER      0\n",
            "ROE      0\n",
            "PBR      0\n",
            "dtype: int64\n"
          ]
        }
      ]
    },
    {
      "cell_type": "markdown",
      "source": [
        "코스피 코스닥 그래프"
      ],
      "metadata": {
        "id": "NxtXRuyP1O-D"
      }
    },
    {
      "cell_type": "code",
      "source": [
        "labels = ['현재가','거래량','상장주식수','주당순이익','PER','ROE','PBR']\n",
        "\n",
        "kospiData = []\n",
        "kosdaqData = []\n",
        "for i in  labels:\n",
        "    kospiData.append(kospi[i].mean())\n",
        "    kosdaqData.append(kosdaq[i].mean())\n",
        "\n",
        "x = np.arange(len(labels))\n",
        "width=0.4\n",
        "\n",
        "fig, ax1= plt.subplots()\n",
        "ax1.bar(x - width/2, kospiData, width, label='KOSPI')\n",
        "ax1.bar(x + width/2, kosdaqData, width, label='KOSDAQ')\n",
        "\n",
        "plt.title('KOSPI와 KOSDAQ 비교')\n",
        "\n",
        "ax1.legend()\n",
        "ax1.set_xticks(x)\n",
        "ax1.set_xticklabels(labels)\n",
        "\n",
        "plt.yscale(\"log\")\n",
        "\n",
        "fig.tight_layout()\n",
        "plt.show()"
      ],
      "metadata": {
        "colab": {
          "base_uri": "https://localhost:8080/",
          "height": 299
        },
        "id": "aK6gRvIbtwND",
        "outputId": "21df7a34-cbf2-4b7a-ffe7-aab772bb933e"
      },
      "execution_count": 18,
      "outputs": [
        {
          "output_type": "display_data",
          "data": {
            "image/png": "[encoded data removed]",
            "text/plain": [
              "<Figure size 432x288 with 1 Axes>"
            ]
          },
          "metadata": {
            "image/png": {
              "width": 423,
              "height": 282
            },
            "needs_background": "light"
          }
        }
      ]
    },
    {
      "cell_type": "markdown",
      "source": [
        "결론\n",
        "*   주당순이익(EPS)을 보면 코스닥 기업에 비해 코스피 기업의 투자가치가 더 높다는 것을 알 수있다.\n",
        "*   PER과 PBR을 봤을 때 코스피 기업에 비해 코스닥 기업이 고평가되었다는 것을 알 수 있다.\n",
        "*  ROE를 보면 코스피 기업에 비해 코스닥 기업이 더 효율적인 영업활동을 했다는 것을 알 수 있다.\n",
        "*  현재가, 거래량, 상장주식수는 코스피가 코스닥에 비해 높다.\n"
      ],
      "metadata": {
        "id": "0_S9FAEcCm7z"
      }
    },
    {
      "cell_type": "markdown",
      "source": [
        "\n",
        "\n",
        "---\n",
        "\n",
        "\n",
        "# 상장주식수, 거래량, 현재가의 상관관계\n",
        "가설\n",
        "*   상장주식수가 많으면 거래량이 많을 것이다.\n",
        "*   현재가가 높으면(비싸면) 거래량이 적을 것이다."
      ],
      "metadata": {
        "id": "l3LB68wrWmK8"
      }
    },
    {
      "cell_type": "code",
      "source": [
        "codfKospi=dfKospi[['현재가','거래량','상장주식수']]"
      ],
      "metadata": {
        "id": "Whz2ITwwbT9B"
      },
      "execution_count": 19,
      "outputs": []
    },
    {
      "cell_type": "code",
      "source": [
        "ax=sns.relplot(x='상장주식수', y='거래량', data=codfKospi)"
      ],
      "metadata": {
        "colab": {
          "base_uri": "https://localhost:8080/",
          "height": 372
        },
        "id": "GFImBsdUpCER",
        "outputId": "07ac1d08-fa23-464b-ca9d-e09d2f7265be"
      },
      "execution_count": 20,
      "outputs": [
        {
          "output_type": "display_data",
          "data": {
            "image/png": "[encoded data removed]",
            "text/plain": [
              "<Figure size 360x360 with 1 Axes>"
            ]
          },
          "metadata": {
            "image/png": {
              "width": 353,
              "height": 355
            },
            "needs_background": "light"
          }
        }
      ]
    },
    {
      "cell_type": "markdown",
      "source": [
        ">이상치 제거가 필요해보인다."
      ],
      "metadata": {
        "id": "58iNKIqopHTp"
      }
    },
    {
      "cell_type": "markdown",
      "source": [
        "### 이상치 탐지 & 제거\n",
        "\n",
        "https://claryk.tistory.com/4"
      ],
      "metadata": {
        "id": "L6h5RjjHlOLH"
      }
    },
    {
      "cell_type": "code",
      "source": [
        "#이상치 탐지\n",
        "def outlier_iqr(data, column):     \n",
        "    Q1, Q3 = np.quantile(data[column], 0.25), np.quantile(data[column], 0.75)          \n",
        "    \n",
        "    # IQR 계산하기     \n",
        "    iqr = Q3 - Q1    \n",
        "    \n",
        "    # outlier cutoff 계산하기     \n",
        "    cut_off = iqr * 1.5          \n",
        "    \n",
        "    # lower와 upper bound 값 구하기     \n",
        "    lower, upper = Q1 - cut_off, Q3 + cut_off     \n",
        "    \n",
        "    print('IQR:',iqr)     \n",
        "    print('lower bound 값:', lower)     \n",
        "    print('upper bound 값:', upper)    \n",
        "    \n",
        "    # 1사 분위와 4사 분위에 속해있는 데이터 각각 저장하기     \n",
        "    data1 = data[data[column] > upper]     \n",
        "    data2 = data[data[column] < lower]    \n",
        "    \n",
        "    print('총 이상치 개수:', data1.shape[0] + data2.shape[0])\n",
        "\n",
        "    return upper, lower\n",
        "\n",
        "upper, lower = outlier_iqr(codfKospi,'거래량')"
      ],
      "metadata": {
        "id": "Ms6Vdb_7ewRg",
        "colab": {
          "base_uri": "https://localhost:8080/"
        },
        "outputId": "11fa2faa-95de-4611-eca3-f956f1b3c87e"
      },
      "execution_count": 21,
      "outputs": [
        {
          "output_type": "stream",
          "name": "stdout",
          "text": [
            "IQR: 457284.0\n",
            "lower bound 값: -604896.25\n",
            "upper bound 값: 1224239.75\n",
            "총 이상치 개수: 19\n"
          ]
        }
      ]
    },
    {
      "cell_type": "code",
      "source": [
        "#이상치 제거\n",
        "codfKospi = codfKospi[(codfKospi['거래량'] < upper) & (codfKospi['거래량'] > lower)]"
      ],
      "metadata": {
        "id": "vUHzHCdEspBK"
      },
      "execution_count": 22,
      "outputs": []
    },
    {
      "cell_type": "code",
      "source": [
        "ax=sns.relplot(x='상장주식수', y='거래량', data=codfKospi)"
      ],
      "metadata": {
        "colab": {
          "base_uri": "https://localhost:8080/",
          "height": 372
        },
        "id": "dCbeQpJ7eweX",
        "outputId": "43f7c138-10f0-45be-b6db-9a09bcbe4421"
      },
      "execution_count": 23,
      "outputs": [
        {
          "output_type": "display_data",
          "data": {
            "image/png": "[encoded data removed]",
            "text/plain": [
              "<Figure size 360x360 with 1 Axes>"
            ]
          },
          "metadata": {
            "image/png": {
              "width": 353,
              "height": 355
            },
            "needs_background": "light"
          }
        }
      ]
    },
    {
      "cell_type": "code",
      "source": [
        "corr = codfKospi.corr(method = 'pearson') \n",
        "sns.heatmap(corr, annot=True, annot_kws={'size' : 20},square = 'True')"
      ],
      "metadata": {
        "colab": {
          "base_uri": "https://localhost:8080/",
          "height": 288
        },
        "id": "EzPrEAoQUlom",
        "outputId": "a4683531-0f79-45e5-a0d3-aa3bee4f4fbb"
      },
      "execution_count": 24,
      "outputs": [
        {
          "output_type": "execute_result",
          "data": {
            "text/plain": [
              "<matplotlib.axes._subplots.AxesSubplot at 0x7f10ba50ded0>"
            ]
          },
          "metadata": {},
          "execution_count": 24
        },
        {
          "output_type": "display_data",
          "data": {
            "image/png": "[encoded data removed]",
            "text/plain": [
              "<Figure size 432x288 with 2 Axes>"
            ]
          },
          "metadata": {
            "image/png": {
              "width": 304,
              "height": 253
            },
            "needs_background": "light"
          }
        }
      ]
    },
    {
      "cell_type": "markdown",
      "source": [
        "결론\n",
        "*   상장주식수와 거래량은 강한 양적 상관관계를 나타낸다.\n",
        "*   현재가와 거래량, 현재가와 상장주식수는 거의 관계가 없다고 볼 수 있다."
      ],
      "metadata": {
        "id": "hgvj7q11p1KV"
      }
    },
    {
      "cell_type": "markdown",
      "source": [
        "\n",
        "\n",
        "---\n",
        "\n",
        "\n",
        "# 삼성전자\n",
        "매수 타이밍과 매도 타이밍을 알아보자\n",
        "\n",
        "데이터 출처: http://data.krx.co.kr/contents/MDC/MDI/mdiLoader/index.cmd?menuId=MDC0201\n",
        "\n",
        "파일 업로드:https://velog.io/@moksu/colab%EC%97%90%EC%84%9C-%EB%8D%B0%EC%9D%B4%ED%84%B0-%EB%B6%88%EB%9F%AC%EC%98%A4%EA%B8%B0\n",
        "\n",
        "그래프:https://coding-kindergarten.tistory.com/124\n",
        "https://blog.naver.com/sssrew1/221840758486"
      ],
      "metadata": {
        "id": "3ntyZNK9Yjdl"
      }
    },
    {
      "cell_type": "code",
      "source": [
        "from google.colab import files\n",
        "uploaded = files.upload()"
      ],
      "metadata": {
        "colab": {
          "resources": {
            "http://localhost:8080/nbextensions/google.colab/files.js": {
              "data": "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",
              "ok": true,
              "headers": [
                [
                  "content-type",
                  "application/javascript"
                ]
              ],
              "status": 200,
              "status_text": ""
            }
          },
          "base_uri": "https://localhost:8080/",
          "height": 77
        },
        "id": "uHc7PaOm2_bH",
        "outputId": "c9f60c22-3bab-40d9-c0d0-552faa42cbef"
      },
      "execution_count": 26,
      "outputs": [
        {
          "output_type": "display_data",
          "data": {
            "text/html": [
              "\n",
              "     <input type=\"file\" id=\"files-9e2442b4-b084-452e-995c-0aed15cc07bc\" name=\"files[]\" multiple disabled\n",
              "        style=\"border:none\" />\n",
              "     <output id=\"result-9e2442b4-b084-452e-995c-0aed15cc07bc\">\n",
              "      Upload widget is only available when the cell has been executed in the\n",
              "      current browser session. Please rerun this cell to enable.\n",
              "      </output>\n",
              "      <script src=\"/nbextensions/google.colab/files.js\"></script> "
            ],
            "text/plain": [
              "<IPython.core.display.HTML object>"
            ]
          },
          "metadata": {}
        },
        {
          "output_type": "stream",
          "name": "stdout",
          "text": [
            "Saving samsungM.csv to samsungM.csv\n"
          ]
        }
      ]
    },
    {
      "cell_type": "markdown",
      "source": [
        "삼성전자: 2019.1월 - 2021.12월 데이터 사용\n"
      ],
      "metadata": {
        "id": "ZKhTB3-5ABNQ"
      }
    },
    {
      "cell_type": "code",
      "source": [
        "dfSamsungM = pd.read_csv('samsungM.csv', encoding='cp949',parse_dates=['연월'])\n",
        "dfSamsungM.head()"
      ],
      "metadata": {
        "colab": {
          "base_uri": "https://localhost:8080/",
          "height": 206
        },
        "id": "ipYn7xP2xynb",
        "outputId": "2554670b-99f0-450f-f22c-18b62c264113"
      },
      "execution_count": 27,
      "outputs": [
        {
          "output_type": "execute_result",
          "data": {
            "text/html": [
              "\n",
              "  <div id=\"df-e5c00b37-8094-434d-982b-78db5965803b\">\n",
              "    <div class=\"colab-df-container\">\n",
              "      <div>\n",
              "<style scoped>\n",
              "    .dataframe tbody tr th:only-of-type {\n",
              "        vertical-align: middle;\n",
              "    }\n",
              "\n",
              "    .dataframe tbody tr th {\n",
              "        vertical-align: top;\n",
              "    }\n",
              "\n",
              "    .dataframe thead th {\n",
              "        text-align: right;\n",
              "    }\n",
              "</style>\n",
              "<table border=\"1\" class=\"dataframe\">\n",
              "  <thead>\n",
              "    <tr style=\"text-align: right;\">\n",
              "      <th></th>\n",
              "      <th>연월</th>\n",
              "      <th>종가</th>\n",
              "      <th>최고가(종가)</th>\n",
              "      <th>최저가(종가)</th>\n",
              "      <th>거래량_합계</th>\n",
              "      <th>거래량_일평균</th>\n",
              "      <th>거래대금_합계</th>\n",
              "      <th>거래대금_일평균</th>\n",
              "    </tr>\n",
              "  </thead>\n",
              "  <tbody>\n",
              "    <tr>\n",
              "      <th>0</th>\n",
              "      <td>2021-12-01</td>\n",
              "      <td>77100</td>\n",
              "      <td>78200</td>\n",
              "      <td>74400</td>\n",
              "      <td>223849157</td>\n",
              "      <td>15363084</td>\n",
              "      <td>17103243049046</td>\n",
              "      <td>1174441922670</td>\n",
              "    </tr>\n",
              "    <tr>\n",
              "      <th>1</th>\n",
              "      <td>2021-11-01</td>\n",
              "      <td>71300</td>\n",
              "      <td>75300</td>\n",
              "      <td>69900</td>\n",
              "      <td>313117871</td>\n",
              "      <td>14232631</td>\n",
              "      <td>22547542441544</td>\n",
              "      <td>1024888292797</td>\n",
              "    </tr>\n",
              "    <tr>\n",
              "      <th>2</th>\n",
              "      <td>2021-10-01</td>\n",
              "      <td>69800</td>\n",
              "      <td>73200</td>\n",
              "      <td>68800</td>\n",
              "      <td>300193653</td>\n",
              "      <td>15799666</td>\n",
              "      <td>21198019167368</td>\n",
              "      <td>1115685219335</td>\n",
              "    </tr>\n",
              "    <tr>\n",
              "      <th>3</th>\n",
              "      <td>2021-09-01</td>\n",
              "      <td>74100</td>\n",
              "      <td>77700</td>\n",
              "      <td>74100</td>\n",
              "      <td>281233337</td>\n",
              "      <td>14801755</td>\n",
              "      <td>21441192047022</td>\n",
              "      <td>1128483791949</td>\n",
              "    </tr>\n",
              "    <tr>\n",
              "      <th>4</th>\n",
              "      <td>2021-08-01</td>\n",
              "      <td>76700</td>\n",
              "      <td>82900</td>\n",
              "      <td>72700</td>\n",
              "      <td>499862582</td>\n",
              "      <td>23802980</td>\n",
              "      <td>38387973028676</td>\n",
              "      <td>1827998715651</td>\n",
              "    </tr>\n",
              "  </tbody>\n",
              "</table>\n",
              "</div>\n",
              "      <button class=\"colab-df-convert\" onclick=\"convertToInteractive('df-e5c00b37-8094-434d-982b-78db5965803b')\"\n",
              "              title=\"Convert this dataframe to an interactive table.\"\n",
              "              style=\"display:none;\">\n",
              "        \n",
              "  <svg xmlns=\"http://www.w3.org/2000/svg\" height=\"24px\"viewBox=\"0 0 24 24\"\n",
              "       width=\"24px\">\n",
              "    <path d=\"M0 0h24v24H0V0z\" fill=\"none\"/>\n",
              "    <path d=\"M18.56 5.44l.94 2.06.94-2.06 2.06-.94-2.06-.94-.94-2.06-.94 2.06-2.06.94zm-11 1L8.5 8.5l.94-2.06 2.06-.94-2.06-.94L8.5 2.5l-.94 2.06-2.06.94zm10 10l.94 2.06.94-2.06 2.06-.94-2.06-.94-.94-2.06-.94 2.06-2.06.94z\"/><path d=\"M17.41 7.96l-1.37-1.37c-.4-.4-.92-.59-1.43-.59-.52 0-1.04.2-1.43.59L10.3 9.45l-7.72 7.72c-.78.78-.78 2.05 0 2.83L4 21.41c.39.39.9.59 1.41.59.51 0 1.02-.2 1.41-.59l7.78-7.78 2.81-2.81c.8-.78.8-2.07 0-2.86zM5.41 20L4 18.59l7.72-7.72 1.47 1.35L5.41 20z\"/>\n",
              "  </svg>\n",
              "      </button>\n",
              "      \n",
              "  <style>\n",
              "    .colab-df-container {\n",
              "      display:flex;\n",
              "      flex-wrap:wrap;\n",
              "      gap: 12px;\n",
              "    }\n",
              "\n",
              "    .colab-df-convert {\n",
              "      background-color: #E8F0FE;\n",
              "      border: none;\n",
              "      border-radius: 50%;\n",
              "      cursor: pointer;\n",
              "      display: none;\n",
              "      fill: #1967D2;\n",
              "      height: 32px;\n",
              "      padding: 0 0 0 0;\n",
              "      width: 32px;\n",
              "    }\n",
              "\n",
              "    .colab-df-convert:hover {\n",
              "      background-color: #E2EBFA;\n",
              "      box-shadow: 0px 1px 2px rgba(60, 64, 67, 0.3), 0px 1px 3px 1px rgba(60, 64, 67, 0.15);\n",
              "      fill: #174EA6;\n",
              "    }\n",
              "\n",
              "    [theme=dark] .colab-df-convert {\n",
              "      background-color: #3B4455;\n",
              "      fill: #D2E3FC;\n",
              "    }\n",
              "\n",
              "    [theme=dark] .colab-df-convert:hover {\n",
              "      background-color: #434B5C;\n",
              "      box-shadow: 0px 1px 3px 1px rgba(0, 0, 0, 0.15);\n",
              "      filter: drop-shadow(0px 1px 2px rgba(0, 0, 0, 0.3));\n",
              "      fill: #FFFFFF;\n",
              "    }\n",
              "  </style>\n",
              "\n",
              "      <script>\n",
              "        const buttonEl =\n",
              "          document.querySelector('#df-e5c00b37-8094-434d-982b-78db5965803b button.colab-df-convert');\n",
              "        buttonEl.style.display =\n",
              "          google.colab.kernel.accessAllowed ? 'block' : 'none';\n",
              "\n",
              "        async function convertToInteractive(key) {\n",
              "          const element = document.querySelector('#df-e5c00b37-8094-434d-982b-78db5965803b');\n",
              "          const dataTable =\n",
              "            await google.colab.kernel.invokeFunction('convertToInteractive',\n",
              "                                                     [key], {});\n",
              "          if (!dataTable) return;\n",
              "\n",
              "          const docLinkHtml = 'Like what you see? Visit the ' +\n",
              "            '<a target=\"_blank\" href=https://colab.research.google.com/notebooks/data_table.ipynb>data table notebook</a>'\n",
              "            + ' to learn more about interactive tables.';\n",
              "          element.innerHTML = '';\n",
              "          dataTable['output_type'] = 'display_data';\n",
              "          await google.colab.output.renderOutput(dataTable, element);\n",
              "          const docLink = document.createElement('div');\n",
              "          docLink.innerHTML = docLinkHtml;\n",
              "          element.appendChild(docLink);\n",
              "        }\n",
              "      </script>\n",
              "    </div>\n",
              "  </div>\n",
              "  "
            ],
            "text/plain": [
              "          연월     종가  최고가(종가)  ...   거래량_일평균         거래대금_합계       거래대금_일평균\n",
              "0 2021-12-01  77100    78200  ...  15363084  17103243049046  1174441922670\n",
              "1 2021-11-01  71300    75300  ...  14232631  22547542441544  1024888292797\n",
              "2 2021-10-01  69800    73200  ...  15799666  21198019167368  1115685219335\n",
              "3 2021-09-01  74100    77700  ...  14801755  21441192047022  1128483791949\n",
              "4 2021-08-01  76700    82900  ...  23802980  38387973028676  1827998715651\n",
              "\n",
              "[5 rows x 8 columns]"
            ]
          },
          "metadata": {},
          "execution_count": 27
        }
      ]
    },
    {
      "cell_type": "code",
      "source": [
        "def graph(df):\n",
        "    일자=[]\n",
        "    종가=[]\n",
        "    거래량=[]\n",
        "    for i in range(0, len(df)):\n",
        "        일자.append(df.연월[i])\n",
        "        종가.append(int(df.종가[i]))\n",
        "        거래량.append(int(df.거래량_일평균[i]))\n",
        "\n",
        "    fig = plt.figure(figsize=(12, 8))\n",
        "    top_axes = plt.subplot2grid((4,4), (0,0), rowspan=3, colspan=4)\n",
        "    bottom_axes = plt.subplot2grid((4,4), (3,0), rowspan=1, colspan=4)\n",
        "    top_axes.plot(일자,종가)\n",
        "    bottom_axes.bar(일자, 거래량, width=20)\n",
        "    plt.show()\n",
        "    return 일자, 종가, 거래량\n",
        "일자, 종가, 거래량=graph(dfSamsungM)"
      ],
      "metadata": {
        "colab": {
          "base_uri": "https://localhost:8080/",
          "height": 484
        },
        "id": "NGSppm2LfrM3",
        "outputId": "6a13482f-63af-4b27-c8dc-a116b3357613"
      },
      "execution_count": 28,
      "outputs": [
        {
          "output_type": "display_data",
          "data": {
            "image/png": "[encoded data removed]",
            "text/plain": [
              "<Figure size 864x576 with 2 Axes>"
            ]
          },
          "metadata": {
            "image/png": {
              "width": 727,
              "height": 467
            },
            "needs_background": "light"
          }
        }
      ]
    },
    {
      "cell_type": "markdown",
      "source": [
        "저점: 19년 5월 / 고점: 21년 2월"
      ],
      "metadata": {
        "id": "pV8Z-HhX9KoR"
      }
    },
    {
      "cell_type": "code",
      "source": [
        "월종가=종가.copy()\n",
        "월종가=sorted(월종가)\n",
        "print(\"min: \", dfSamsungM.연월[종가.index(월종가[0])])\n",
        "print(\"max: \", dfSamsungM.연월[종가.index(월종가[len(종가)-1])])"
      ],
      "metadata": {
        "colab": {
          "base_uri": "https://localhost:8080/"
        },
        "id": "n3wfkoj7Bse4",
        "outputId": "6774ee97-886b-4206-b1fa-d7aad14e2db1"
      },
      "execution_count": 30,
      "outputs": [
        {
          "output_type": "stream",
          "name": "stdout",
          "text": [
            "min:  2019-05-01 00:00:00\n",
            "max:  2021-02-01 00:00:00\n"
          ]
        }
      ]
    },
    {
      "cell_type": "markdown",
      "source": [
        "삼성전자 - 2019년 5월 데이터"
      ],
      "metadata": {
        "id": "JA2IRCxwAxaV"
      }
    },
    {
      "cell_type": "code",
      "source": [
        "s2019_5=pd.read_csv('s_2019_5.csv', encoding='cp949',parse_dates=['일자'])\n",
        "s2019_5=s2019_5[['EPS','PER','BPS','PBR']]\n",
        "s2019_5.head()"
      ],
      "metadata": {
        "colab": {
          "base_uri": "https://localhost:8080/",
          "height": 206
        },
        "id": "1vkFmEOM0Exh",
        "outputId": "31387620-8bc4-48c6-f3d0-b62d8f17539b"
      },
      "execution_count": 31,
      "outputs": [
        {
          "output_type": "execute_result",
          "data": {
            "text/html": [
              "\n",
              "  <div id=\"df-94741bce-4302-492b-ac51-8406ed736cb0\">\n",
              "    <div class=\"colab-df-container\">\n",
              "      <div>\n",
              "<style scoped>\n",
              "    .dataframe tbody tr th:only-of-type {\n",
              "        vertical-align: middle;\n",
              "    }\n",
              "\n",
              "    .dataframe tbody tr th {\n",
              "        vertical-align: top;\n",
              "    }\n",
              "\n",
              "    .dataframe thead th {\n",
              "        text-align: right;\n",
              "    }\n",
              "</style>\n",
              "<table border=\"1\" class=\"dataframe\">\n",
              "  <thead>\n",
              "    <tr style=\"text-align: right;\">\n",
              "      <th></th>\n",
              "      <th>EPS</th>\n",
              "      <th>PER</th>\n",
              "      <th>BPS</th>\n",
              "      <th>PBR</th>\n",
              "    </tr>\n",
              "  </thead>\n",
              "  <tbody>\n",
              "    <tr>\n",
              "      <th>0</th>\n",
              "      <td>6461</td>\n",
              "      <td>6.58</td>\n",
              "      <td>35342</td>\n",
              "      <td>1.20</td>\n",
              "    </tr>\n",
              "    <tr>\n",
              "      <th>1</th>\n",
              "      <td>6461</td>\n",
              "      <td>6.59</td>\n",
              "      <td>35342</td>\n",
              "      <td>1.20</td>\n",
              "    </tr>\n",
              "    <tr>\n",
              "      <th>2</th>\n",
              "      <td>6461</td>\n",
              "      <td>6.47</td>\n",
              "      <td>35342</td>\n",
              "      <td>1.18</td>\n",
              "    </tr>\n",
              "    <tr>\n",
              "      <th>3</th>\n",
              "      <td>6461</td>\n",
              "      <td>6.59</td>\n",
              "      <td>35342</td>\n",
              "      <td>1.20</td>\n",
              "    </tr>\n",
              "    <tr>\n",
              "      <th>4</th>\n",
              "      <td>6461</td>\n",
              "      <td>6.60</td>\n",
              "      <td>35342</td>\n",
              "      <td>1.21</td>\n",
              "    </tr>\n",
              "  </tbody>\n",
              "</table>\n",
              "</div>\n",
              "      <button class=\"colab-df-convert\" onclick=\"convertToInteractive('df-94741bce-4302-492b-ac51-8406ed736cb0')\"\n",
              "              title=\"Convert this dataframe to an interactive table.\"\n",
              "              style=\"display:none;\">\n",
              "        \n",
              "  <svg xmlns=\"http://www.w3.org/2000/svg\" height=\"24px\"viewBox=\"0 0 24 24\"\n",
              "       width=\"24px\">\n",
              "    <path d=\"M0 0h24v24H0V0z\" fill=\"none\"/>\n",
              "    <path d=\"M18.56 5.44l.94 2.06.94-2.06 2.06-.94-2.06-.94-.94-2.06-.94 2.06-2.06.94zm-11 1L8.5 8.5l.94-2.06 2.06-.94-2.06-.94L8.5 2.5l-.94 2.06-2.06.94zm10 10l.94 2.06.94-2.06 2.06-.94-2.06-.94-.94-2.06-.94 2.06-2.06.94z\"/><path d=\"M17.41 7.96l-1.37-1.37c-.4-.4-.92-.59-1.43-.59-.52 0-1.04.2-1.43.59L10.3 9.45l-7.72 7.72c-.78.78-.78 2.05 0 2.83L4 21.41c.39.39.9.59 1.41.59.51 0 1.02-.2 1.41-.59l7.78-7.78 2.81-2.81c.8-.78.8-2.07 0-2.86zM5.41 20L4 18.59l7.72-7.72 1.47 1.35L5.41 20z\"/>\n",
              "  </svg>\n",
              "      </button>\n",
              "      \n",
              "  <style>\n",
              "    .colab-df-container {\n",
              "      display:flex;\n",
              "      flex-wrap:wrap;\n",
              "      gap: 12px;\n",
              "    }\n",
              "\n",
              "    .colab-df-convert {\n",
              "      background-color: #E8F0FE;\n",
              "      border: none;\n",
              "      border-radius: 50%;\n",
              "      cursor: pointer;\n",
              "      display: none;\n",
              "      fill: #1967D2;\n",
              "      height: 32px;\n",
              "      padding: 0 0 0 0;\n",
              "      width: 32px;\n",
              "    }\n",
              "\n",
              "    .colab-df-convert:hover {\n",
              "      background-color: #E2EBFA;\n",
              "      box-shadow: 0px 1px 2px rgba(60, 64, 67, 0.3), 0px 1px 3px 1px rgba(60, 64, 67, 0.15);\n",
              "      fill: #174EA6;\n",
              "    }\n",
              "\n",
              "    [theme=dark] .colab-df-convert {\n",
              "      background-color: #3B4455;\n",
              "      fill: #D2E3FC;\n",
              "    }\n",
              "\n",
              "    [theme=dark] .colab-df-convert:hover {\n",
              "      background-color: #434B5C;\n",
              "      box-shadow: 0px 1px 3px 1px rgba(0, 0, 0, 0.15);\n",
              "      filter: drop-shadow(0px 1px 2px rgba(0, 0, 0, 0.3));\n",
              "      fill: #FFFFFF;\n",
              "    }\n",
              "  </style>\n",
              "\n",
              "      <script>\n",
              "        const buttonEl =\n",
              "          document.querySelector('#df-94741bce-4302-492b-ac51-8406ed736cb0 button.colab-df-convert');\n",
              "        buttonEl.style.display =\n",
              "          google.colab.kernel.accessAllowed ? 'block' : 'none';\n",
              "\n",
              "        async function convertToInteractive(key) {\n",
              "          const element = document.querySelector('#df-94741bce-4302-492b-ac51-8406ed736cb0');\n",
              "          const dataTable =\n",
              "            await google.colab.kernel.invokeFunction('convertToInteractive',\n",
              "                                                     [key], {});\n",
              "          if (!dataTable) return;\n",
              "\n",
              "          const docLinkHtml = 'Like what you see? Visit the ' +\n",
              "            '<a target=\"_blank\" href=https://colab.research.google.com/notebooks/data_table.ipynb>data table notebook</a>'\n",
              "            + ' to learn more about interactive tables.';\n",
              "          element.innerHTML = '';\n",
              "          dataTable['output_type'] = 'display_data';\n",
              "          await google.colab.output.renderOutput(dataTable, element);\n",
              "          const docLink = document.createElement('div');\n",
              "          docLink.innerHTML = docLinkHtml;\n",
              "          element.appendChild(docLink);\n",
              "        }\n",
              "      </script>\n",
              "    </div>\n",
              "  </div>\n",
              "  "
            ],
            "text/plain": [
              "    EPS   PER    BPS   PBR\n",
              "0  6461  6.58  35342  1.20\n",
              "1  6461  6.59  35342  1.20\n",
              "2  6461  6.47  35342  1.18\n",
              "3  6461  6.59  35342  1.20\n",
              "4  6461  6.60  35342  1.21"
            ]
          },
          "metadata": {},
          "execution_count": 31
        }
      ]
    },
    {
      "cell_type": "markdown",
      "source": [
        "삼성전자 - 2021년 2월 데이터"
      ],
      "metadata": {
        "id": "HgG12XSEA4nc"
      }
    },
    {
      "cell_type": "code",
      "source": [
        "s2021_2=pd.read_csv('s_2021_2.csv', encoding='cp949',parse_dates=['일자'])\n",
        "s2021_2=s2021_2[['EPS','PER','BPS','PBR']]\n",
        "s2021_2.head()"
      ],
      "metadata": {
        "colab": {
          "base_uri": "https://localhost:8080/",
          "height": 206
        },
        "id": "PRnlLkpiDAqE",
        "outputId": "73f4e318-d972-47b1-e94f-97461cdbcd25"
      },
      "execution_count": 32,
      "outputs": [
        {
          "output_type": "execute_result",
          "data": {
            "text/html": [
              "\n",
              "  <div id=\"df-2b5e72f8-aaa6-4a98-93ad-5dc99a0719df\">\n",
              "    <div class=\"colab-df-container\">\n",
              "      <div>\n",
              "<style scoped>\n",
              "    .dataframe tbody tr th:only-of-type {\n",
              "        vertical-align: middle;\n",
              "    }\n",
              "\n",
              "    .dataframe tbody tr th {\n",
              "        vertical-align: top;\n",
              "    }\n",
              "\n",
              "    .dataframe thead th {\n",
              "        text-align: right;\n",
              "    }\n",
              "</style>\n",
              "<table border=\"1\" class=\"dataframe\">\n",
              "  <thead>\n",
              "    <tr style=\"text-align: right;\">\n",
              "      <th></th>\n",
              "      <th>EPS</th>\n",
              "      <th>PER</th>\n",
              "      <th>BPS</th>\n",
              "      <th>PBR</th>\n",
              "    </tr>\n",
              "  </thead>\n",
              "  <tbody>\n",
              "    <tr>\n",
              "      <th>0</th>\n",
              "      <td>3166</td>\n",
              "      <td>26.06</td>\n",
              "      <td>37528</td>\n",
              "      <td>2.20</td>\n",
              "    </tr>\n",
              "    <tr>\n",
              "      <th>1</th>\n",
              "      <td>3166</td>\n",
              "      <td>26.94</td>\n",
              "      <td>37528</td>\n",
              "      <td>2.27</td>\n",
              "    </tr>\n",
              "    <tr>\n",
              "      <th>2</th>\n",
              "      <td>3166</td>\n",
              "      <td>25.90</td>\n",
              "      <td>37528</td>\n",
              "      <td>2.19</td>\n",
              "    </tr>\n",
              "    <tr>\n",
              "      <th>3</th>\n",
              "      <td>3166</td>\n",
              "      <td>25.90</td>\n",
              "      <td>37528</td>\n",
              "      <td>2.19</td>\n",
              "    </tr>\n",
              "    <tr>\n",
              "      <th>4</th>\n",
              "      <td>3166</td>\n",
              "      <td>25.96</td>\n",
              "      <td>37528</td>\n",
              "      <td>2.19</td>\n",
              "    </tr>\n",
              "  </tbody>\n",
              "</table>\n",
              "</div>\n",
              "      <button class=\"colab-df-convert\" onclick=\"convertToInteractive('df-2b5e72f8-aaa6-4a98-93ad-5dc99a0719df')\"\n",
              "              title=\"Convert this dataframe to an interactive table.\"\n",
              "              style=\"display:none;\">\n",
              "        \n",
              "  <svg xmlns=\"http://www.w3.org/2000/svg\" height=\"24px\"viewBox=\"0 0 24 24\"\n",
              "       width=\"24px\">\n",
              "    <path d=\"M0 0h24v24H0V0z\" fill=\"none\"/>\n",
              "    <path d=\"M18.56 5.44l.94 2.06.94-2.06 2.06-.94-2.06-.94-.94-2.06-.94 2.06-2.06.94zm-11 1L8.5 8.5l.94-2.06 2.06-.94-2.06-.94L8.5 2.5l-.94 2.06-2.06.94zm10 10l.94 2.06.94-2.06 2.06-.94-2.06-.94-.94-2.06-.94 2.06-2.06.94z\"/><path d=\"M17.41 7.96l-1.37-1.37c-.4-.4-.92-.59-1.43-.59-.52 0-1.04.2-1.43.59L10.3 9.45l-7.72 7.72c-.78.78-.78 2.05 0 2.83L4 21.41c.39.39.9.59 1.41.59.51 0 1.02-.2 1.41-.59l7.78-7.78 2.81-2.81c.8-.78.8-2.07 0-2.86zM5.41 20L4 18.59l7.72-7.72 1.47 1.35L5.41 20z\"/>\n",
              "  </svg>\n",
              "      </button>\n",
              "      \n",
              "  <style>\n",
              "    .colab-df-container {\n",
              "      display:flex;\n",
              "      flex-wrap:wrap;\n",
              "      gap: 12px;\n",
              "    }\n",
              "\n",
              "    .colab-df-convert {\n",
              "      background-color: #E8F0FE;\n",
              "      border: none;\n",
              "      border-radius: 50%;\n",
              "      cursor: pointer;\n",
              "      display: none;\n",
              "      fill: #1967D2;\n",
              "      height: 32px;\n",
              "      padding: 0 0 0 0;\n",
              "      width: 32px;\n",
              "    }\n",
              "\n",
              "    .colab-df-convert:hover {\n",
              "      background-color: #E2EBFA;\n",
              "      box-shadow: 0px 1px 2px rgba(60, 64, 67, 0.3), 0px 1px 3px 1px rgba(60, 64, 67, 0.15);\n",
              "      fill: #174EA6;\n",
              "    }\n",
              "\n",
              "    [theme=dark] .colab-df-convert {\n",
              "      background-color: #3B4455;\n",
              "      fill: #D2E3FC;\n",
              "    }\n",
              "\n",
              "    [theme=dark] .colab-df-convert:hover {\n",
              "      background-color: #434B5C;\n",
              "      box-shadow: 0px 1px 3px 1px rgba(0, 0, 0, 0.15);\n",
              "      filter: drop-shadow(0px 1px 2px rgba(0, 0, 0, 0.3));\n",
              "      fill: #FFFFFF;\n",
              "    }\n",
              "  </style>\n",
              "\n",
              "      <script>\n",
              "        const buttonEl =\n",
              "          document.querySelector('#df-2b5e72f8-aaa6-4a98-93ad-5dc99a0719df button.colab-df-convert');\n",
              "        buttonEl.style.display =\n",
              "          google.colab.kernel.accessAllowed ? 'block' : 'none';\n",
              "\n",
              "        async function convertToInteractive(key) {\n",
              "          const element = document.querySelector('#df-2b5e72f8-aaa6-4a98-93ad-5dc99a0719df');\n",
              "          const dataTable =\n",
              "            await google.colab.kernel.invokeFunction('convertToInteractive',\n",
              "                                                     [key], {});\n",
              "          if (!dataTable) return;\n",
              "\n",
              "          const docLinkHtml = 'Like what you see? Visit the ' +\n",
              "            '<a target=\"_blank\" href=https://colab.research.google.com/notebooks/data_table.ipynb>data table notebook</a>'\n",
              "            + ' to learn more about interactive tables.';\n",
              "          element.innerHTML = '';\n",
              "          dataTable['output_type'] = 'display_data';\n",
              "          await google.colab.output.renderOutput(dataTable, element);\n",
              "          const docLink = document.createElement('div');\n",
              "          docLink.innerHTML = docLinkHtml;\n",
              "          element.appendChild(docLink);\n",
              "        }\n",
              "      </script>\n",
              "    </div>\n",
              "  </div>\n",
              "  "
            ],
            "text/plain": [
              "    EPS    PER    BPS   PBR\n",
              "0  3166  26.06  37528  2.20\n",
              "1  3166  26.94  37528  2.27\n",
              "2  3166  25.90  37528  2.19\n",
              "3  3166  25.90  37528  2.19\n",
              "4  3166  25.96  37528  2.19"
            ]
          },
          "metadata": {},
          "execution_count": 32
        }
      ]
    },
    {
      "cell_type": "code",
      "source": [
        "labels=['EPS','PER','BPS','PBR']\n",
        "smin=[]\n",
        "smax=[]\n",
        "for i in labels:\n",
        "    smin.append(s2019_5[i].mean())\n",
        "    smax.append(s2021_2[i].mean())\n",
        "\n",
        "print(\"- 저점: 매수 타이밍\")\n",
        "for j in range (len(labels)):\n",
        "    print(labels[j],\": \", smin[j])\n",
        "\n",
        "print(\"\\n- 고점: 매도 타이밍\")\n",
        "for j in range (len(labels)):\n",
        "    print(labels[j],\": \", smax[j])"
      ],
      "metadata": {
        "colab": {
          "base_uri": "https://localhost:8080/"
        },
        "id": "9z9TyWbK-fFc",
        "outputId": "7b8ce42f-c819-461e-db4a-ce981c24d692"
      },
      "execution_count": 34,
      "outputs": [
        {
          "output_type": "stream",
          "name": "stdout",
          "text": [
            "- 저점: 매수 타이밍\n",
            "EPS :  6461.0\n",
            "PER :  6.659523809523808\n",
            "BPS :  35342.0\n",
            "PBR :  1.2171428571428573\n",
            "\n",
            "- 고점: 매도 타이밍\n",
            "EPS :  3166.0\n",
            "PER :  26.256666666666668\n",
            "BPS :  37528.0\n",
            "PBR :  2.2150000000000003\n"
          ]
        }
      ]
    },
    {
      "cell_type": "markdown",
      "source": [
        "결론\n",
        "*   삼성전자는 PER이 7이고 PBR이 1일 때 사는 것이 좋다.\n",
        "*   삼성전자는 PER이 26이고 PBR이 2일 때는 파는 것이 좋다. "
      ],
      "metadata": {
        "id": "mb7WegsTFD-P"
      }
    },
    {
      "cell_type": "markdown",
      "source": [
        "\n",
        "\n",
        "---\n",
        "\n",
        "\n",
        "# 삼성전자, 카카오, 네이버 주가 그래프\n",
        "https://m.blog.naver.com/freed0om/221981509903"
      ],
      "metadata": {
        "id": "RV9I6ULUUmH3"
      }
    },
    {
      "cell_type": "code",
      "source": [
        "import dash\n",
        "from dash import html\n",
        "import plotly.graph_objects as go\n",
        "from dash import dcc\n",
        "import plotly.express as px\n",
        "from dash.dependencies import Input, Output\n",
        "\n",
        "from jupyter_dash import JupyterDash\n",
        "\n",
        "from plotly.subplots import make_subplots\n",
        "import FinanceDataReader as fdr\n",
        "\n",
        "# Load Dash App\n",
        "app = JupyterDash()\n",
        "\n",
        "# Define App\n",
        "app.layout = html.Div(id = 'parent',\n",
        "                      children = [html.H1(id = 'H1', children = '2021 주가',\n",
        "                                          style = {'textAlign':'center',\n",
        "                                                   'marginTop':40,\n",
        "                                                   'marginBottom':40}),\n",
        "                                  dcc.Dropdown(id='dropdown',\n",
        "                                               options=[{'label':'삼성전자', 'value':'005930'},\n",
        "                                                        {'label':'카카오', 'value':'035720'},\n",
        "                                                        {'label':'네이버', 'value':'035420'}\n",
        "                                                        ],\n",
        "                                               value='005930'\n",
        "                                               ),\n",
        "                                  dcc.Graph(id = 'plot')\n",
        "                                  ])\n",
        "\n",
        "# Define callback decorator and it's function    \n",
        "@app.callback(Output(component_id='plot', component_property= 'figure'),\n",
        "              [Input(component_id='dropdown', component_property= 'value')])\n",
        "def graph_update(dropdown_value):\n",
        "    \n",
        "    df = fdr.DataReader(dropdown_value, '2021-01-01')\n",
        "    \n",
        "    fig = make_subplots(specs=[[{'secondary_y': True}]])\n",
        "    x = df.index.tolist()\n",
        "    y = df['Close']\n",
        "    fig.add_trace(go.Scatter(mode='lines', name='2021 주가', x = x,  y = y))\n",
        "    annotations = []\n",
        "    annotations.append(dict(xref='paper', yref='paper', x=0.5, y=-0.1, xanchor='center', yanchor='top',\n",
        "                            font=dict(family='Arial', size=12, color='rgb(150,150,150)'),\n",
        "                            showarrow=False))\n",
        "    annotations.append(dict(xref='paper', x=0.95, y=y.tail(1)[0],\n",
        "                            xanchor='left', yanchor='middle',\n",
        "                            text= str(x[-1:])[12:22] +' : ' + f'{y.tail(1)[0]:,.0f}' ,\n",
        "                            font=dict(family='Arial', size=12),\n",
        "                            showarrow=False))\n",
        "\n",
        "    fig.update_layout(annotations = annotations)\n",
        "\n",
        "    return fig\n",
        "\n",
        "if __name__ == '__main__': \n",
        "    app.run_server()\n"
      ],
      "metadata": {
        "colab": {
          "base_uri": "https://localhost:8080/",
          "height": 53
        },
        "id": "ktbfiFzAFaLv",
        "outputId": "fc64191b-9fba-415b-b729-19f95e03f281"
      },
      "execution_count": 37,
      "outputs": [
        {
          "output_type": "stream",
          "name": "stdout",
          "text": [
            "Dash app running on:\n"
          ]
        },
        {
          "output_type": "display_data",
          "data": {
            "application/javascript": [
              "(async (port, path, text, element) => {\n",
              "    if (!google.colab.kernel.accessAllowed) {\n",
              "      return;\n",
              "    }\n",
              "    element.appendChild(document.createTextNode(''));\n",
              "    const url = await google.colab.kernel.proxyPort(port);\n",
              "    const anchor = document.createElement('a');\n",
              "    anchor.href = new URL(path, url).toString();\n",
              "    anchor.target = '_blank';\n",
              "    anchor.setAttribute('data-href', url + path);\n",
              "    anchor.textContent = text;\n",
              "    element.appendChild(anchor);\n",
              "  })(8050, \"/\", \"http://127.0.0.1:8050/\", window.element)"
            ],
            "text/plain": [
              "<IPython.core.display.Javascript object>"
            ]
          },
          "metadata": {}
        }
      ]
    },
    {
      "cell_type": "markdown",
      "source": [
        "삼성전자 주가, 거래량 그래프\n",
        "\n",
        "https://coding-kindergarten.tistory.com/124?category=988295"
      ],
      "metadata": {
        "id": "ZZWTLYpgWXE7"
      }
    },
    {
      "cell_type": "code",
      "source": [
        "# 삼성전자 코드: 005930\n",
        "df_samsung = fdr.DataReader('005930', '2019-01-01')\n",
        "fdr.chart.plot(df_samsung, title='삼성전자 주가(2019.1.1~현재)', ylabel='단위:KRW', width=1000, height=600)"
      ],
      "metadata": {
        "colab": {
          "base_uri": "https://localhost:8080/",
          "height": 647
        },
        "id": "Ch80nAHDDY91",
        "outputId": "783b5c59-d7e4-420b-ae42-fa323d6e2744"
      },
      "execution_count": 38,
      "outputs": [
        {
          "output_type": "display_data",
          "data": {
            "application/javascript": [
              "\n",
              "(function(root) {\n",
              "  function now() {\n",
              "    return new Date();\n",
              "  }\n",
              "\n",
              "  var force = true;\n",
              "\n",
              "  if (typeof root._bokeh_onload_callbacks === \"undefined\" || force === true) {\n",
              "    root._bokeh_onload_callbacks = [];\n",
              "    root._bokeh_is_loading = undefined;\n",
              "  }\n",
              "\n",
              "  var JS_MIME_TYPE = 'application/javascript';\n",
              "  var HTML_MIME_TYPE = 'text/html';\n",
              "  var EXEC_MIME_TYPE = 'application/vnd.bokehjs_exec.v0+json';\n",
              "  var CLASS_NAME = 'output_bokeh rendered_html';\n",
              "\n",
              "  /**\n",
              "   * Render data to the DOM node\n",
              "   */\n",
              "  function render(props, node) {\n",
              "    var script = document.createElement(\"script\");\n",
              "    node.appendChild(script);\n",
              "  }\n",
              "\n",
              "  /**\n",
              "   * Handle when an output is cleared or removed\n",
              "   */\n",
              "  function handleClearOutput(event, handle) {\n",
              "    var cell = handle.cell;\n",
              "\n",
              "    var id = cell.output_area._bokeh_element_id;\n",
              "    var server_id = cell.output_area._bokeh_server_id;\n",
              "    // Clean up Bokeh references\n",
              "    if (id != null && id in Bokeh.index) {\n",
              "      Bokeh.index[id].model.document.clear();\n",
              "      delete Bokeh.index[id];\n",
              "    }\n",
              "\n",
              "    if (server_id !== undefined) {\n",
              "      // Clean up Bokeh references\n",
              "      var cmd = \"from bokeh.io.state import curstate; print(curstate().uuid_to_server['\" + server_id + \"'].get_sessions()[0].document.roots[0]._id)\";\n",
              "      cell.notebook.kernel.execute(cmd, {\n",
              "        iopub: {\n",
              "          output: function(msg) {\n",
              "            var id = msg.content.text.trim();\n",
              "            if (id in Bokeh.index) {\n",
              "              Bokeh.index[id].model.document.clear();\n",
              "              delete Bokeh.index[id];\n",
              "            }\n",
              "          }\n",
              "        }\n",
              "      });\n",
              "      // Destroy server and session\n",
              "      var cmd = \"import bokeh.io.notebook as ion; ion.destroy_server('\" + server_id + \"')\";\n",
              "      cell.notebook.kernel.execute(cmd);\n",
              "    }\n",
              "  }\n",
              "\n",
              "  /**\n",
              "   * Handle when a new output is added\n",
              "   */\n",
              "  function handleAddOutput(event, handle) {\n",
              "    var output_area = handle.output_area;\n",
              "    var output = handle.output;\n",
              "\n",
              "    // limit handleAddOutput to display_data with EXEC_MIME_TYPE content only\n",
              "    if ((output.output_type != \"display_data\") || (!Object.prototype.hasOwnProperty.call(output.data, EXEC_MIME_TYPE))) {\n",
              "      return\n",
              "    }\n",
              "\n",
              "    var toinsert = output_area.element.find(\".\" + CLASS_NAME.split(' ')[0]);\n",
              "\n",
              "    if (output.metadata[EXEC_MIME_TYPE][\"id\"] !== undefined) {\n",
              "      toinsert[toinsert.length - 1].firstChild.textContent = output.data[JS_MIME_TYPE];\n",
              "      // store reference to embed id on output_area\n",
              "      output_area._bokeh_element_id = output.metadata[EXEC_MIME_TYPE][\"id\"];\n",
              "    }\n",
              "    if (output.metadata[EXEC_MIME_TYPE][\"server_id\"] !== undefined) {\n",
              "      var bk_div = document.createElement(\"div\");\n",
              "      bk_div.innerHTML = output.data[HTML_MIME_TYPE];\n",
              "      var script_attrs = bk_div.children[0].attributes;\n",
              "      for (var i = 0; i < script_attrs.length; i++) {\n",
              "        toinsert[toinsert.length - 1].firstChild.setAttribute(script_attrs[i].name, script_attrs[i].value);\n",
              "        toinsert[toinsert.length - 1].firstChild.textContent = bk_div.children[0].textContent\n",
              "      }\n",
              "      // store reference to server id on output_area\n",
              "      output_area._bokeh_server_id = output.metadata[EXEC_MIME_TYPE][\"server_id\"];\n",
              "    }\n",
              "  }\n",
              "\n",
              "  function register_renderer(events, OutputArea) {\n",
              "\n",
              "    function append_mime(data, metadata, element) {\n",
              "      // create a DOM node to render to\n",
              "      var toinsert = this.create_output_subarea(\n",
              "        metadata,\n",
              "        CLASS_NAME,\n",
              "        EXEC_MIME_TYPE\n",
              "      );\n",
              "      this.keyboard_manager.register_events(toinsert);\n",
              "      // Render to node\n",
              "      var props = {data: data, metadata: metadata[EXEC_MIME_TYPE]};\n",
              "      render(props, toinsert[toinsert.length - 1]);\n",
              "      element.append(toinsert);\n",
              "      return toinsert\n",
              "    }\n",
              "\n",
              "    /* Handle when an output is cleared or removed */\n",
              "    events.on('clear_output.CodeCell', handleClearOutput);\n",
              "    events.on('delete.Cell', handleClearOutput);\n",
              "\n",
              "    /* Handle when a new output is added */\n",
              "    events.on('output_added.OutputArea', handleAddOutput);\n",
              "\n",
              "    /**\n",
              "     * Register the mime type and append_mime function with output_area\n",
              "     */\n",
              "    OutputArea.prototype.register_mime_type(EXEC_MIME_TYPE, append_mime, {\n",
              "      /* Is output safe? */\n",
              "      safe: true,\n",
              "      /* Index of renderer in `output_area.display_order` */\n",
              "      index: 0\n",
              "    });\n",
              "  }\n",
              "\n",
              "  // register the mime type if in Jupyter Notebook environment and previously unregistered\n",
              "  if (root.Jupyter !== undefined) {\n",
              "    var events = require('base/js/events');\n",
              "    var OutputArea = require('notebook/js/outputarea').OutputArea;\n",
              "\n",
              "    if (OutputArea.prototype.mime_types().indexOf(EXEC_MIME_TYPE) == -1) {\n",
              "      register_renderer(events, OutputArea);\n",
              "    }\n",
              "  }\n",
              "\n",
              "  \n",
              "  if (typeof (root._bokeh_timeout) === \"undefined\" || force === true) {\n",
              "    root._bokeh_timeout = Date.now() + 5000;\n",
              "    root._bokeh_failed_load = false;\n",
              "  }\n",
              "\n",
              "  var NB_LOAD_WARNING = {'data': {'text/html':\n",
              "     \"<div style='background-color: #fdd'>\\n\"+\n",
              "     \"<p>\\n\"+\n",
              "     \"BokehJS does not appear to have successfully loaded. If loading BokehJS from CDN, this \\n\"+\n",
              "     \"may be due to a slow or bad network connection. Possible fixes:\\n\"+\n",
              "     \"</p>\\n\"+\n",
              "     \"<ul>\\n\"+\n",
              "     \"<li>re-rerun `output_notebook()` to attempt to load from CDN again, or</li>\\n\"+\n",
              "     \"<li>use INLINE resources instead, as so:</li>\\n\"+\n",
              "     \"</ul>\\n\"+\n",
              "     \"<code>\\n\"+\n",
              "     \"from bokeh.resources import INLINE\\n\"+\n",
              "     \"output_notebook(resources=INLINE)\\n\"+\n",
              "     \"</code>\\n\"+\n",
              "     \"</div>\"}};\n",
              "\n",
              "  function display_loaded() {\n",
              "    var el = document.getElementById(null);\n",
              "    if (el != null) {\n",
              "      el.textContent = \"BokehJS is loading...\";\n",
              "    }\n",
              "    if (root.Bokeh !== undefined) {\n",
              "      if (el != null) {\n",
              "        el.textContent = \"BokehJS \" + root.Bokeh.version + \" successfully loaded.\";\n",
              "      }\n",
              "    } else if (Date.now() < root._bokeh_timeout) {\n",
              "      setTimeout(display_loaded, 100)\n",
              "    }\n",
              "  }\n",
              "\n",
              "\n",
              "  function run_callbacks() {\n",
              "    try {\n",
              "      root._bokeh_onload_callbacks.forEach(function(callback) {\n",
              "        if (callback != null)\n",
              "          callback();\n",
              "      });\n",
              "    } finally {\n",
              "      delete root._bokeh_onload_callbacks\n",
              "    }\n",
              "    console.debug(\"Bokeh: all callbacks have finished\");\n",
              "  }\n",
              "\n",
              "  function load_libs(css_urls, js_urls, callback) {\n",
              "    if (css_urls == null) css_urls = [];\n",
              "    if (js_urls == null) js_urls = [];\n",
              "\n",
              "    root._bokeh_onload_callbacks.push(callback);\n",
              "    if (root._bokeh_is_loading > 0) {\n",
              "      console.debug(\"Bokeh: BokehJS is being loaded, scheduling callback at\", now());\n",
              "      return null;\n",
              "    }\n",
              "    if (js_urls == null || js_urls.length === 0) {\n",
              "      run_callbacks();\n",
              "      return null;\n",
              "    }\n",
              "    console.debug(\"Bokeh: BokehJS not loaded, scheduling load and callback at\", now());\n",
              "    root._bokeh_is_loading = css_urls.length + js_urls.length;\n",
              "\n",
              "    function on_load() {\n",
              "      root._bokeh_is_loading--;\n",
              "      if (root._bokeh_is_loading === 0) {\n",
              "        console.debug(\"Bokeh: all BokehJS libraries/stylesheets loaded\");\n",
              "        run_callbacks()\n",
              "      }\n",
              "    }\n",
              "\n",
              "    function on_error(url) {\n",
              "      console.error(\"failed to load \" + url);\n",
              "    }\n",
              "\n",
              "    for (let i = 0; i < css_urls.length; i++) {\n",
              "      const url = css_urls[i];\n",
              "      const element = document.createElement(\"link\");\n",
              "      element.onload = on_load;\n",
              "      element.onerror = on_error.bind(null, url);\n",
              "      element.rel = \"stylesheet\";\n",
              "      element.type = \"text/css\";\n",
              "      element.href = url;\n",
              "      console.debug(\"Bokeh: injecting link tag for BokehJS stylesheet: \", url);\n",
              "      document.body.appendChild(element);\n",
              "    }\n",
              "\n",
              "    const hashes = {\"https://cdn.bokeh.org/bokeh/release/bokeh-2.3.3.min.js\": \"dM3QQsP+wXdHg42wTqW85BjZQdLNNIXqlPw/BgKoExPmTG7ZLML4EGqLMfqHT6ON\", \"https://cdn.bokeh.org/bokeh/release/bokeh-tables-2.3.3.min.js\": \"8x57I4YuIfu8XyZfFo0XVr2WAT8EK4rh/uDe3wF7YuW2FNUSNEpJbsPaB1nJ2fz2\", \"https://cdn.bokeh.org/bokeh/release/bokeh-widgets-2.3.3.min.js\": \"3QTqdz9LyAm2i0sG5XTePsHec3UHWwVsrOL68SYRoAXsafvfAyqtQ+h440+qIBhS\"};\n",
              "\n",
              "    for (let i = 0; i < js_urls.length; i++) {\n",
              "      const url = js_urls[i];\n",
              "      const element = document.createElement('script');\n",
              "      element.onload = on_load;\n",
              "      element.onerror = on_error.bind(null, url);\n",
              "      element.async = false;\n",
              "      element.src = url;\n",
              "      if (url in hashes) {\n",
              "        element.crossOrigin = \"anonymous\";\n",
              "        element.integrity = \"sha384-\" + hashes[url];\n",
              "      }\n",
              "      console.debug(\"Bokeh: injecting script tag for BokehJS library: \", url);\n",
              "      document.head.appendChild(element);\n",
              "    }\n",
              "  };\n",
              "\n",
              "  function inject_raw_css(css) {\n",
              "    const element = document.createElement(\"style\");\n",
              "    element.appendChild(document.createTextNode(css));\n",
              "    document.body.appendChild(element);\n",
              "  }\n",
              "\n",
              "  \n",
              "  var js_urls = [\"https://cdn.bokeh.org/bokeh/release/bokeh-2.3.3.min.js\", \"https://cdn.bokeh.org/bokeh/release/bokeh-widgets-2.3.3.min.js\", \"https://cdn.bokeh.org/bokeh/release/bokeh-tables-2.3.3.min.js\"];\n",
              "  var css_urls = [];\n",
              "  \n",
              "\n",
              "  var inline_js = [\n",
              "    function(Bokeh) {\n",
              "      Bokeh.set_log_level(\"info\");\n",
              "    },\n",
              "    function(Bokeh) {\n",
              "    \n",
              "    \n",
              "    }\n",
              "  ];\n",
              "\n",
              "  function run_inline_js() {\n",
              "    \n",
              "    if (root.Bokeh !== undefined || force === true) {\n",
              "      \n",
              "    for (var i = 0; i < inline_js.length; i++) {\n",
              "      inline_js[i].call(root, root.Bokeh);\n",
              "    }\n",
              "    } else if (Date.now() < root._bokeh_timeout) {\n",
              "      setTimeout(run_inline_js, 100);\n",
              "    } else if (!root._bokeh_failed_load) {\n",
              "      console.log(\"Bokeh: BokehJS failed to load within specified timeout.\");\n",
              "      root._bokeh_failed_load = true;\n",
              "    } else if (force !== true) {\n",
              "      var cell = $(document.getElementById(null)).parents('.cell').data().cell;\n",
              "      cell.output_area.append_execute_result(NB_LOAD_WARNING)\n",
              "    }\n",
              "\n",
              "  }\n",
              "\n",
              "  if (root._bokeh_is_loading === 0) {\n",
              "    console.debug(\"Bokeh: BokehJS loaded, going straight to plotting\");\n",
              "    run_inline_js();\n",
              "  } else {\n",
              "    load_libs(css_urls, js_urls, function() {\n",
              "      console.debug(\"Bokeh: BokehJS plotting callback run at\", now());\n",
              "      run_inline_js();\n",
              "    });\n",
              "  }\n",
              "}(window));"
            ],
            "application/vnd.bokehjs_load.v0+json": "\n(function(root) {\n  function now() {\n    return new Date();\n  }\n\n  var force = true;\n\n  if (typeof root._bokeh_onload_callbacks === \"undefined\" || force === true) {\n    root._bokeh_onload_callbacks = [];\n    root._bokeh_is_loading = undefined;\n  }\n\n  \n\n  \n  if (typeof (root._bokeh_timeout) === \"undefined\" || force === true) {\n    root._bokeh_timeout = Date.now() + 5000;\n    root._bokeh_failed_load = false;\n  }\n\n  var NB_LOAD_WARNING = {'data': {'text/html':\n     \"<div style='background-color: #fdd'>\\n\"+\n     \"<p>\\n\"+\n     \"BokehJS does not appear to have successfully loaded. If loading BokehJS from CDN, this \\n\"+\n     \"may be due to a slow or bad network connection. Possible fixes:\\n\"+\n     \"</p>\\n\"+\n     \"<ul>\\n\"+\n     \"<li>re-rerun `output_notebook()` to attempt to load from CDN again, or</li>\\n\"+\n     \"<li>use INLINE resources instead, as so:</li>\\n\"+\n     \"</ul>\\n\"+\n     \"<code>\\n\"+\n     \"from bokeh.resources import INLINE\\n\"+\n     \"output_notebook(resources=INLINE)\\n\"+\n     \"</code>\\n\"+\n     \"</div>\"}};\n\n  function display_loaded() {\n    var el = document.getElementById(null);\n    if (el != null) {\n      el.textContent = \"BokehJS is loading...\";\n    }\n    if (root.Bokeh !== undefined) {\n      if (el != null) {\n        el.textContent = \"BokehJS \" + root.Bokeh.version + \" successfully loaded.\";\n      }\n    } else if (Date.now() < root._bokeh_timeout) {\n      setTimeout(display_loaded, 100)\n    }\n  }\n\n\n  function run_callbacks() {\n    try {\n      root._bokeh_onload_callbacks.forEach(function(callback) {\n        if (callback != null)\n          callback();\n      });\n    } finally {\n      delete root._bokeh_onload_callbacks\n    }\n    console.debug(\"Bokeh: all callbacks have finished\");\n  }\n\n  function load_libs(css_urls, js_urls, callback) {\n    if (css_urls == null) css_urls = [];\n    if (js_urls == null) js_urls = [];\n\n    root._bokeh_onload_callbacks.push(callback);\n    if (root._bokeh_is_loading > 0) {\n      console.debug(\"Bokeh: BokehJS is being loaded, scheduling callback at\", now());\n      return null;\n    }\n    if (js_urls == null || js_urls.length === 0) {\n      run_callbacks();\n      return null;\n    }\n    console.debug(\"Bokeh: BokehJS not loaded, scheduling load and callback at\", now());\n    root._bokeh_is_loading = css_urls.length + js_urls.length;\n\n    function on_load() {\n      root._bokeh_is_loading--;\n      if (root._bokeh_is_loading === 0) {\n        console.debug(\"Bokeh: all BokehJS libraries/stylesheets loaded\");\n        run_callbacks()\n      }\n    }\n\n    function on_error(url) {\n      console.error(\"failed to load \" + url);\n    }\n\n    for (let i = 0; i < css_urls.length; i++) {\n      const url = css_urls[i];\n      const element = document.createElement(\"link\");\n      element.onload = on_load;\n      element.onerror = on_error.bind(null, url);\n      element.rel = \"stylesheet\";\n      element.type = \"text/css\";\n      element.href = url;\n      console.debug(\"Bokeh: injecting link tag for BokehJS stylesheet: \", url);\n      document.body.appendChild(element);\n    }\n\n    const hashes = {\"https://cdn.bokeh.org/bokeh/release/bokeh-2.3.3.min.js\": \"dM3QQsP+wXdHg42wTqW85BjZQdLNNIXqlPw/BgKoExPmTG7ZLML4EGqLMfqHT6ON\", \"https://cdn.bokeh.org/bokeh/release/bokeh-tables-2.3.3.min.js\": \"8x57I4YuIfu8XyZfFo0XVr2WAT8EK4rh/uDe3wF7YuW2FNUSNEpJbsPaB1nJ2fz2\", \"https://cdn.bokeh.org/bokeh/release/bokeh-widgets-2.3.3.min.js\": \"3QTqdz9LyAm2i0sG5XTePsHec3UHWwVsrOL68SYRoAXsafvfAyqtQ+h440+qIBhS\"};\n\n    for (let i = 0; i < js_urls.length; i++) {\n      const url = js_urls[i];\n      const element = document.createElement('script');\n      element.onload = on_load;\n      element.onerror = on_error.bind(null, url);\n      element.async = false;\n      element.src = url;\n      if (url in hashes) {\n        element.crossOrigin = \"anonymous\";\n        element.integrity = \"sha384-\" + hashes[url];\n      }\n      console.debug(\"Bokeh: injecting script tag for BokehJS library: \", url);\n      document.head.appendChild(element);\n    }\n  };\n\n  function inject_raw_css(css) {\n    const element = document.createElement(\"style\");\n    element.appendChild(document.createTextNode(css));\n    document.body.appendChild(element);\n  }\n\n  \n  var js_urls = [\"https://cdn.bokeh.org/bokeh/release/bokeh-2.3.3.min.js\", \"https://cdn.bokeh.org/bokeh/release/bokeh-widgets-2.3.3.min.js\", \"https://cdn.bokeh.org/bokeh/release/bokeh-tables-2.3.3.min.js\"];\n  var css_urls = [];\n  \n\n  var inline_js = [\n    function(Bokeh) {\n      Bokeh.set_log_level(\"info\");\n    },\n    function(Bokeh) {\n    \n    \n    }\n  ];\n\n  function run_inline_js() {\n    \n    if (root.Bokeh !== undefined || force === true) {\n      \n    for (var i = 0; i < inline_js.length; i++) {\n      inline_js[i].call(root, root.Bokeh);\n    }\n    } else if (Date.now() < root._bokeh_timeout) {\n      setTimeout(run_inline_js, 100);\n    } else if (!root._bokeh_failed_load) {\n      console.log(\"Bokeh: BokehJS failed to load within specified timeout.\");\n      root._bokeh_failed_load = true;\n    } else if (force !== true) {\n      var cell = $(document.getElementById(null)).parents('.cell').data().cell;\n      cell.output_area.append_execute_result(NB_LOAD_WARNING)\n    }\n\n  }\n\n  if (root._bokeh_is_loading === 0) {\n    console.debug(\"Bokeh: BokehJS loaded, going straight to plotting\");\n    run_inline_js();\n  } else {\n    load_libs(css_urls, js_urls, function() {\n      console.debug(\"Bokeh: BokehJS plotting callback run at\", now());\n      run_inline_js();\n    });\n  }\n}(window));"
          },
          "metadata": {}
        },
        {
          "output_type": "display_data",
          "data": {
            "text/html": [
              "\n",
              "\n",
              "\n",
              "\n",
              "\n",
              "\n",
              "  <div class=\"bk-root\" id=\"a7bf5a9c-cdc7-4512-b0c7-1087d06d84d5\" data-root-id=\"1153\"></div>\n"
            ]
          },
          "metadata": {}
        },
        {
          "output_type": "display_data",
          "data": {
            "application/javascript": [
              "(function(root) {\n",
              "  function embed_document(root) {\n",
              "    \n",
              "  var docs_json = {\"a4b59bbf-8ac2-42cf-a764-90caa6fc5dfc\":{\"defs\":[],\"roots\":{\"references\":[{\"attributes\":{\"children\":[{\"id\":\"1152\"},{\"id\":\"1150\"}]},\"id\":\"1153\",\"type\":\"Column\"},{\"attributes\":{\"bottom\":{\"field\":\"bottom\"},\"fill_color\":{\"value\":\"blue\"},\"line_color\":{\"value\":\"blue\"},\"top\":{\"field\":\"top\"},\"width\":{\"value\":0.8},\"x\":{\"field\":\"x\"}},\"id\":\"1051\",\"type\":\"VBar\"},{\"attributes\":{\"data\":{\"top\":[12748997,14731699,11661063,11492756,8491595,11029256,9964356,17998914,16215017,13832454,12689196,11125044,11299738,10554643,8183728,6741395,8694009,6895772,12926539,10612405,10202544,7729069,8108343,16814163,8188876,7609563,12535911,8699728,9568081,6821306,7362129,8546339,8507909,6878761,7668936,7730881,5513658,8479710,6006957,10868965,9739982,8777517,8625126,6562916,10398754,14579512,7635079,7670185,13357951,11033339,8066669,14930618,11766018,11365999,9913497,11683682,8792182,6664872,9322873,7994928,7147785,6085066,11383522,8463073,6365573,7646421,5245804,4717226,5216602,5143554,8756522,8408838,7873886,6856846,5551014,7811181,10002533,9685147,8466169,7276979,6014218,6571717,5017381,5758333,9899073,7185537,9896562,9434157,9231792,15550926,7006280,15460210,7568553,8494756,8048041,6206035,7047273,7783275,6058105,6701380,4406531,8663880,7879897,6431522,8467846,10581034,9257116,8185952,6576148,6225196,9703360,7746554,8478310,7546261,6833885,12059812,10449715,8470627,6882771,18120261,11512405,15558208,14180520,12095519,9839252,9645034,8356767,10278951,10009778,16000170,11359139,14300928,12528855,11142693,14916555,16446102,19749457,21800192,19278165,14727159,13107121,11071231,13276067,8740596,12951496,13777393,23885408,23209541,30330295,24765728,21698990,18716656,33339821,40152623,49730008,41701626,42185129,39896178,26797395,27259532,21621076,25010314,22628058,17839111,14431800,14206216,21866354,18613864,15618347,14049471,15604533,18070225,13884411,20223277,19305974,18463118,14896899,14337913,27596961,16949183,14247933,40220334,22743629,23998831,16742493,26976019,21808375,15982926,13801350,18541624,17776925,16706143,14142583,11887868,19664652,17054850,13714746,12240188,16779127,10096174,12885057,10994535,36476611,19285354,21158940,19419694,17739706,18751717,17774291,18573934,15672548,16930719,21142288,15055896,14021705,16196568,14619888,19363117,16905723,22139109,18685880,30597399,29923293,16017098,17877075,17041444,18884571,15140387,20111398,17564020,11444683,14463826,16145837,16086716,16554190,14474985,15703443,14294095,9322232,14428882,20489076,14950919,20639475,16910230,15892961,19800573,30204089,22963790,16590290,15068682,19023323,14063434,22327173,23677989,25000338,24077996,18486672,20863671,17512081,17613029,16304910,30339449,29417421,35335669,32644642,48682416,36068848,26393970,39895044,25211127,27258534,26423070,28046832,26302077,22112205,18036835,15338765,20483100,18307735,25419886,20587314,33498180,19882132,20508971,17641256,20038422,13530573,12293537,11625146,15869700,12670506,14758826,12845778,13121698,16255990,17885538,18193707,12915282,13794652,15429522,15287311,13934746,15489938,12941533,18673197,15710336,12532550,14154882,31490096,16450920,17494407,16541828,13398666,11984359,12360199,18112259,16496197,12781226,14087962,10550078,10075685,14007385,11773365,13481405,11578529,13288643,8753097,8330969,9768108,10859399,12456646,12355296,9098910,13823411,11739124,18485469,13342623,30944847,29192631,22166298,19384648,16671494,15172748,12686999,16114775,15347486,12096419,11798147,10103212,12829128,12247274,11699798,19919361,15803395,18956962,13683532,24172015,19520641,18051612,13486391,9507991,8395448,10295316,17016151,11503729,12770428,11818987,11121981,9422009,10087450,10919239,10144957,22029195,15652305,12559258,21954856,18330240,16391250,9155219,10976660,9584939,11264375],\"x\":[3,6,7,9,10,12,14,18,19,22,24,25,27,29,30,31,33,34,39,40,41,43,46,48,49,50,53,54,56,57,59,63,64,65,68,70,71,73,74,77,78,79,81,82,84,86,87,89,91,94,97,99,100,101,103,105,106,107,110,112,114,116,121,122,124,127,130,131,133,134,138,139,140,141,142,144,148,150,151,152,155,157,159,162,164,165,169,170,171,173,174,177,178,181,182,184,187,190,192,194,196,198,200,201,205,207,209,211,212,213,215,216,220,223,224,227,229,231,232,235,236,238,239,240,241,243,245,248,249,252,253,255,258,259,261,263,265,267,268,269,271,272,275,276,278,280,282,284,287,288,289,290,296,298,300,301,304,305,306,308,309,313,314,315,316,317,320,322,324,325,327,329,330,334,335,336,339,342,346,347,348,350,351,353,354,356,358,360,362,365,367,369,370,371,374,375,376,377,380,381,384,386,389,390,392,393,394,396,397,399,401,403,405,406,407,409,410,412,413,415,416,418,419,420,422,423,425,426,428,429,430,434,437,439,441,442,444,445,446,449,452,453,455,456,457,460,463,464,465,466,470,471,473,475,478,479,481,483,484,486,488,492,493,495,497,500,501,502,505,506,509,511,514,515,516,518,519,523,524,527,528,532,533,535,536,538,540,542,543,545,546,549,550,552,556,558,560,561,563,565,566,569,571,572,575,576,577,579,583,584,586,587,589,591,593,598,599,600,603,604,605,607,610,613,614,616,618,619,624,628,630,631,633,638,639,642,643,649,650,651,653,656,657,658,660,661,662,665,667,670,674,675,678,679,681,682,685,686,687,688,689,692,695,697,698,700,701,703,705,707,709,711,714,715,716,720,722,723,727,729,730,733]},\"selected\":{\"id\":\"1147\"},\"selection_policy\":{\"id\":\"1148\"}},\"id\":\"1107\",\"type\":\"ColumnDataSource\"},{\"attributes\":{\"data\":{\"bottom\":[38750,37600,39800,40050,42150,46150,46350,46200,44800,46200,46050,46200,47350,46750,46750,45100,44850,44250,43800,43650,43850,43700,46550,45250,44850,45050,46600,46850,46650,46650,46250,47050,47250,47050,45600,45300,45350,44750,45850,45300,44850,44250,42450,42550,41550,41200,43500,43850,42700,41800,42500,43900,44600,43750,45350,45700,45700,46600,45400,45650,44400,46200,46300,46050,46100,47300,46400,46100,45350,43950,43200,42650,43150,43700,43000,43700,43600,44050,43400,43800,43250,46300,47000,47150,46900,49200,48900,48850,47600,47750,49900,51200,50700,51100,50400,50400,52900,52100,51600,53500,52000,51000,51800,51800,51300,50300,50400,49450,49500,56300,56000,56000,55500,55000,55800,55200,55500,60000,59000,61300,61400,60800,58800,57200,56400,59500,60400,60700,61500,59800,60000,56800,55900,54200,55400,54200,52100,50800,48900,45600,42950,42500,48650,47800,48300,47750,45800,47000,49600,48600,49100,48300,49000,50100,49250,49850,49350,48500,48800,48800,48400,47900,47850,49950,48750,50400,54600,54900,55500,54300,49900,51400,51900,52400,52800,52600,53400,53000,52800,52700,53800,54200,54700,54100,59000,59000,57900,56800,56900,57500,58700,58400,57800,55400,55900,55600,55400,54000,54400,59200,59000,61000,59500,59300,58200,58200,58200,59000,59700,60900,60900,60000,59500,60900,60100,60200,59800,59000,58100,56600,58500,60100,60200,60200,65700,64800,67700,66600,66700,69700,71700,73400,73800,73300,73000,73000,72300,78700,78300,82200,89700,88000,85000,87200,86800,86700,85600,82000,84600,82500,83000,82700,81600,83200,82100,82200,82500,83600,82400,82000,80900,82800,81800,82300,81900,81800,81600,81400,85400,86000,85600,84700,83600,83200,83900,83300,82600,82400,82900,82100,81700,81500,81200,80000,78500,79600,79700,79900,79800,79600,82200,81900,81900,81100,81000,81000,80500,80900,80500,80000,80100,81000,80700,80100,80800,79900,79400,79700,79800,79800,79000,78500,79300,78800,78500,78500,82100,81500,80200,78500,77000,74400,73100,72700,75700,74600,74600,76000,76100,75300,76600,77000,76100,77400,77300,76300,74100,74100,73200,72200,71300,71500,69000,70100,70600,70300,70200,70100,69800,69900,70400,70600,70200,70200,71400,71300,70700,70200,75300,74800,73700,72300,71300,77400,76900,76800,77800,77100],\"top\":[39400,38300,40000,40450,42750,46650,46650,46800,45700,46400,46750,46500,47400,47350,47000,46400,46000,44600,44450,44400,44250,43950,46850,45500,44950,45200,46750,46950,47250,46700,46700,47150,47400,47300,47200,45750,45400,45400,46000,45900,45250,44300,43900,42700,42350,41950,43700,43900,43800,41850,42600,44050,44800,44200,45450,45750,45800,47350,45750,45950,44750,46350,46350,46150,46450,47350,47100,46800,46200,44350,43600,43250,43250,44000,43500,43900,44350,44500,44200,44850,43550,46500,47100,47300,47000,49400,49200,48900,48350,48350,50300,51300,52500,51400,50700,51000,53400,53200,52200,53600,53400,51600,52200,51900,51900,51200,50900,49600,50200,56700,57000,56100,56100,55600,56200,55500,56000,60400,59500,61900,62000,61800,59400,58800,57800,60000,61100,61200,61600,60800,60700,57400,56300,55000,56700,54700,54300,51000,50100,47750,46400,42600,48950,49000,49600,48000,47450,47400,49650,49600,49750,48650,49350,51400,49400,50200,49650,48900,49200,49100,48900,48400,48400,50300,49600,51100,55800,56400,55800,54500,51400,52500,52100,52500,53900,53400,55800,53600,53200,53100,54800,54800,55300,54700,60300,59700,59500,57800,57300,57900,59400,58900,59000,57600,56200,56300,56100,56000,54600,59900,59300,61100,60700,59800,59100,58300,58300,59400,60500,61000,61000,60700,60000,61200,60300,60400,60300,59400,58200,58000,58900,60700,60700,60500,67000,65700,67900,67900,68400,70100,72200,73500,74100,73400,73300,73100,72500,79000,78800,83300,89800,89800,86600,89000,89000,88800,86600,84500,84800,83500,83800,84000,82600,83900,83200,83800,82800,85100,82600,82900,82400,83100,82800,82800,82100,82600,81700,82400,85800,86200,86100,85700,84700,84100,84700,83800,83300,82900,83200,83200,82400,81900,82500,80800,78900,80800,80100,80000,80400,80000,82700,82700,82300,81500,81300,81200,80800,81100,81100,80200,80500,81900,81100,80500,81200,81100,79600,79900,80000,80100,79100,79000,79700,79400,79200,78900,83300,81900,82300,79600,77100,75800,73500,73500,76200,76100,75400,76800,77100,76400,77100,77400,77300,77500,77600,77700,74800,74300,73900,73000,72600,72300,70700,70200,70800,70700,70300,71000,71200,70200,71700,71200,71600,70300,71700,71500,71300,70700,76000,76000,75100,73500,73200,78300,77400,77200,78500,77600],\"x\":[0,1,6,8,14,21,22,23,24,27,29,30,35,36,37,38,39,40,43,44,46,49,53,55,57,59,61,63,64,65,67,69,70,71,72,73,74,76,80,82,83,84,85,89,90,91,94,95,96,99,101,104,108,109,113,115,118,121,123,125,126,129,130,133,134,137,138,141,143,146,148,149,150,151,152,153,155,158,163,165,166,169,171,172,174,177,180,184,185,187,195,198,199,202,203,204,209,210,211,216,218,219,221,222,224,225,226,228,229,238,239,240,241,242,245,246,247,254,255,257,259,261,262,264,265,268,270,274,276,277,279,281,284,285,287,291,293,294,296,298,299,301,303,304,305,307,308,310,312,313,314,316,318,320,321,323,324,328,330,331,332,333,336,340,341,345,350,352,353,355,357,363,365,367,368,369,373,374,375,376,380,382,384,385,389,390,391,392,394,396,400,402,403,404,405,409,410,411,413,419,420,423,424,425,427,431,432,434,436,438,439,440,441,444,445,446,448,449,450,451,454,456,457,458,463,464,468,469,472,475,478,481,484,485,486,487,488,491,492,496,501,503,504,506,508,510,511,513,516,517,519,520,521,524,525,527,531,532,534,536,538,540,541,543,545,547,551,553,556,557,558,559,560,561,565,566,568,569,572,573,574,575,581,582,583,585,589,590,591,592,598,599,600,601,602,603,604,607,608,610,611,615,616,617,621,622,623,624,625,628,629,631,633,634,635,638,642,643,645,646,647,648,651,652,655,656,658,661,664,666,669,670,671,673,674,676,677,678,679,680,681,683,684,687,689,690,691,695,697,698,700,701,702,705,708,709,710,711,714,715,716,717,719,725,727,728,731,733]},\"selected\":{\"id\":\"1129\"},\"selection_policy\":{\"id\":\"1130\"}},\"id\":\"1050\",\"type\":\"ColumnDataSource\"},{\"attributes\":{},\"id\":\"1130\",\"type\":\"UnionRenderers\"},{\"attributes\":{},\"id\":\"1131\",\"type\":\"Selection\"},{\"attributes\":{\"data_source\":{\"id\":\"1050\"},\"glyph\":{\"id\":\"1051\"},\"hover_glyph\":null,\"muted_glyph\":null,\"nonselection_glyph\":{\"id\":\"1052\"},\"view\":{\"id\":\"1054\"}},\"id\":\"1053\",\"type\":\"GlyphRenderer\"},{\"attributes\":{},\"id\":\"1112\",\"type\":\"NumeralTickFormatter\"},{\"attributes\":{\"axis\":{\"id\":\"1017\"},\"dimension\":1,\"ticker\":null},\"id\":\"1020\",\"type\":\"Grid\"},{\"attributes\":{\"source\":{\"id\":\"1107\"}},\"id\":\"1111\",\"type\":\"CDSView\"},{\"attributes\":{},\"id\":\"1132\",\"type\":\"UnionRenderers\"},{\"attributes\":{\"data_source\":{\"id\":\"1107\"},\"glyph\":{\"id\":\"1108\"},\"hover_glyph\":null,\"muted_glyph\":null,\"nonselection_glyph\":{\"id\":\"1109\"},\"view\":{\"id\":\"1111\"}},\"id\":\"1110\",\"type\":\"GlyphRenderer\"},{\"attributes\":{},\"id\":\"1055\",\"type\":\"NumeralTickFormatter\"},{\"attributes\":{},\"id\":\"1133\",\"type\":\"Selection\"},{\"attributes\":{\"fill_alpha\":{\"value\":0.1},\"fill_color\":{\"value\":\"blue\"},\"line_alpha\":{\"value\":0.1},\"top\":{\"field\":\"top\"},\"width\":{\"value\":0.8},\"x\":{\"field\":\"x\"}},\"id\":\"1109\",\"type\":\"VBar\"},{\"attributes\":{\"bottom\":{\"field\":\"bottom\"},\"fill_alpha\":{\"value\":0.1},\"fill_color\":{\"value\":\"blue\"},\"line_alpha\":{\"value\":0.1},\"line_color\":{\"value\":\"blue\"},\"top\":{\"field\":\"top\"},\"width\":{\"value\":0.8},\"x\":{\"field\":\"x\"}},\"id\":\"1052\",\"type\":\"VBar\"},{\"attributes\":{},\"id\":\"1134\",\"type\":\"UnionRenderers\"},{\"attributes\":{},\"id\":\"1009\",\"type\":\"LinearScale\"},{\"attributes\":{\"source\":{\"id\":\"1050\"}},\"id\":\"1054\",\"type\":\"CDSView\"},{\"attributes\":{},\"id\":\"1135\",\"type\":\"Selection\"},{\"attributes\":{\"data\":{\"x\":[0,1,2,3,4,5,6,7,8,9,10,11,12,13,14,15,16,17,18,19,20,21,22,23,24,25,26,27,28,29,30,31,32,33,34,35,36,37,38,39,40,41,42,43,44,45,46,47,48,49,50,51,52,53,54,55,56,57,58,59,60,61,62,63,64,65,66,67,68,69,70,71,72,73,74,75,76,77,78,79,80,81,82,83,84,85,86,87,88,89,90,91,92,93,94,95,96,97,98,99,100,101,102,103,104,105,106,107,108,109,110,111,112,113,114,115,116,117,118,119,120,121,122,123,124,125,126,127,128,129,130,131,132,133,134,135,136,137,138,139,140,141,142,143,144,145,146,147,148,149,150,151,152,153,154,155,156,157,158,159,160,161,162,163,164,165,166,167,168,169,170,171,172,173,174,175,176,177,178,179,180,181,182,183,184,185,186,187,188,189,190,191,192,193,194,195,196,197,198,199,200,201,202,203,204,205,206,207,208,209,210,211,212,213,214,215,216,217,218,219,220,221,222,223,224,225,226,227,228,229,230,231,232,233,234,235,236,237,238,239,240,241,242,243,244,245,246,247,248,249,250,251,252,253,254,255,256,257,258,259,260,261,262,263,264,265,266,267,268,269,270,271,272,273,274,275,276,277,278,279,280,281,282,283,284,285,286,287,288,289,290,291,292,293,294,295,296,297,298,299,300,301,302,303,304,305,306,307,308,309,310,311,312,313,314,315,316,317,318,319,320,321,322,323,324,325,326,327,328,329,330,331,332,333,334,335,336,337,338,339,340,341,342,343,344,345,346,347,348,349,350,351,352,353,354,355,356,357,358,359,360,361,362,363,364,365,366,367,368,369,370,371,372,373,374,375,376,377,378,379,380,381,382,383,384,385,386,387,388,389,390,391,392,393,394,395,396,397,398,399,400,401,402,403,404,405,406,407,408,409,410,411,412,413,414,415,416,417,418,419,420,421,422,423,424,425,426,427,428,429,430,431,432,433,434,435,436,437,438,439,440,441,442,443,444,445,446,447,448,449,450,451,452,453,454,455,456,457,458,459,460,461,462,463,464,465,466,467,468,469,470,471,472,473,474,475,476,477,478,479,480,481,482,483,484,485,486,487,488,489,490,491,492,493,494,495,496,497,498,499,500,501,502,503,504,505,506,507,508,509,510,511,512,513,514,515,516,517,518,519,520,521,522,523,524,525,526,527,528,529,530,531,532,533,534,535,536,537,538,539,540,541,542,543,544,545,546,547,548,549,550,551,552,553,554,555,556,557,558,559,560,561,562,563,564,565,566,567,568,569,570,571,572,573,574,575,576,577,578,579,580,581,582,583,584,585,586,587,588,589,590,591,592,593,594,595,596,597,598,599,600,601,602,603,604,605,606,607,608,609,610,611,612,613,614,615,616,617,618,619,620,621,622,623,624,625,626,627,628,629,630,631,632,633,634,635,636,637,638,639,640,641,642,643,644,645,646,647,648,649,650,651,652,653,654,655,656,657,658,659,660,661,662,663,664,665,666,667,668,669,670,671,672,673,674,675,676,677,678,679,680,681,682,683,684,685,686,687,688,689,690,691,692,693,694,695,696,697,698,699,700,701,702,703,704,705,706,707,708,709,710,711,712,713,714,715,716,717,718,719,720,721,722,723,724,725,726,727,728,729,730,731,732,733,734],\"y\":{\"__ndarray__\":\"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\",\"dtype\":\"float64\",\"order\":\"little\",\"shape\":[735]}},\"selected\":{\"id\":\"1131\"},\"selection_policy\":{\"id\":\"1132\"}},\"id\":\"1057\",\"type\":\"ColumnDataSource\"},{\"attributes\":{},\"id\":\"1124\",\"type\":\"UnionRenderers\"},{\"attributes\":{\"line_alpha\":0.1,\"line_color\":\"#1f77b4\",\"x\":{\"field\":\"x\"},\"y\":{\"field\":\"y\"}},\"id\":\"1059\",\"type\":\"Line\"},{\"attributes\":{},\"id\":\"1136\",\"type\":\"UnionRenderers\"},{\"attributes\":{\"line_color\":\"#1f77b4\",\"x\":{\"field\":\"x\"},\"y\":{\"field\":\"y\"}},\"id\":\"1058\",\"type\":\"Line\"},{\"attributes\":{},\"id\":\"1018\",\"type\":\"BasicTicker\"},{\"attributes\":{\"data_source\":{\"id\":\"1057\"},\"glyph\":{\"id\":\"1058\"},\"hover_glyph\":null,\"muted_glyph\":null,\"nonselection_glyph\":{\"id\":\"1059\"},\"view\":{\"id\":\"1061\"}},\"id\":\"1060\",\"type\":\"GlyphRenderer\"},{\"attributes\":{},\"id\":\"1139\",\"type\":\"Title\"},{\"attributes\":{},\"id\":\"1143\",\"type\":\"AllLabels\"},{\"attributes\":{\"below\":[{\"id\":\"1013\"}],\"center\":[{\"id\":\"1016\"},{\"id\":\"1020\"}],\"height\":420,\"left\":[{\"id\":\"1017\"}],\"renderers\":[{\"id\":\"1038\"},{\"id\":\"1043\"},{\"id\":\"1048\"},{\"id\":\"1053\"},{\"id\":\"1060\"},{\"id\":\"1065\"},{\"id\":\"1070\"}],\"title\":{\"id\":\"1003\"},\"toolbar\":{\"id\":\"1028\"},\"toolbar_location\":null,\"width\":1000,\"x_range\":{\"id\":\"1005\"},\"x_scale\":{\"id\":\"1009\"},\"y_range\":{\"id\":\"1007\"},\"y_scale\":{\"id\":\"1011\"}},\"id\":\"1002\",\"subtype\":\"Figure\",\"type\":\"Plot\"},{\"attributes\":{},\"id\":\"1141\",\"type\":\"AllLabels\"},{\"attributes\":{},\"id\":\"1145\",\"type\":\"Selection\"},{\"attributes\":{\"source\":{\"id\":\"1057\"}},\"id\":\"1061\",\"type\":\"CDSView\"},{\"attributes\":{\"line_alpha\":0.1,\"line_color\":\"#ff7f0e\",\"x\":{\"field\":\"x\"},\"y\":{\"field\":\"y\"}},\"id\":\"1064\",\"type\":\"Line\"},{\"attributes\":{},\"id\":\"1146\",\"type\":\"UnionRenderers\"},{\"attributes\":{\"source\":{\"id\":\"1035\"}},\"id\":\"1039\",\"type\":\"CDSView\"},{\"attributes\":{},\"id\":\"1147\",\"type\":\"Selection\"},{\"attributes\":{\"bottom_units\":\"screen\",\"fill_alpha\":0.5,\"fill_color\":\"lightgrey\",\"left_units\":\"screen\",\"level\":\"overlay\",\"line_alpha\":1.0,\"line_color\":\"black\",\"line_dash\":[4,4],\"line_width\":2,\"right_units\":\"screen\",\"syncable\":false,\"top_units\":\"screen\"},\"id\":\"1027\",\"type\":\"BoxAnnotation\"},{\"attributes\":{},\"id\":\"1148\",\"type\":\"UnionRenderers\"},{\"attributes\":{\"line_alpha\":{\"value\":0.1},\"line_color\":{\"value\":\"blue\"},\"x0\":{\"field\":\"x0\"},\"x1\":{\"field\":\"x1\"},\"y0\":{\"field\":\"y0\"},\"y1\":{\"field\":\"y1\"}},\"id\":\"1042\",\"type\":\"Segment\"},{\"attributes\":{\"data\":{\"x\":[0,1,2,3,4,5,6,7,8,9,10,11,12,13,14,15,16,17,18,19,20,21,22,23,24,25,26,27,28,29,30,31,32,33,34,35,36,37,38,39,40,41,42,43,44,45,46,47,48,49,50,51,52,53,54,55,56,57,58,59,60,61,62,63,64,65,66,67,68,69,70,71,72,73,74,75,76,77,78,79,80,81,82,83,84,85,86,87,88,89,90,91,92,93,94,95,96,97,98,99,100,101,102,103,104,105,106,107,108,109,110,111,112,113,114,115,116,117,118,119,120,121,122,123,124,125,126,127,128,129,130,131,132,133,134,135,136,137,138,139,140,141,142,143,144,145,146,147,148,149,150,151,152,153,154,155,156,157,158,159,160,161,162,163,164,165,166,167,168,169,170,171,172,173,174,175,176,177,178,179,180,181,182,183,184,185,186,187,188,189,190,191,192,193,194,195,196,197,198,199,200,201,202,203,204,205,206,207,208,209,210,211,212,213,214,215,216,217,218,219,220,221,222,223,224,225,226,227,228,229,230,231,232,233,234,235,236,237,238,239,240,241,242,243,244,245,246,247,248,249,250,251,252,253,254,255,256,257,258,259,260,261,262,263,264,265,266,267,268,269,270,271,272,273,274,275,276,277,278,279,280,281,282,283,284,285,286,287,288,289,290,291,292,293,294,295,296,297,298,299,300,301,302,303,304,305,306,307,308,309,310,311,312,313,314,315,316,317,318,319,320,321,322,323,324,325,326,327,328,329,330,331,332,333,334,335,336,337,338,339,340,341,342,343,344,345,346,347,348,349,350,351,352,353,354,355,356,357,358,359,360,361,362,363,364,365,366,367,368,369,370,371,372,373,374,375,376,377,378,379,380,381,382,383,384,385,386,387,388,389,390,391,392,393,394,395,396,397,398,399,400,401,402,403,404,405,406,407,408,409,410,411,412,413,414,415,416,417,418,419,420,421,422,423,424,425,426,427,428,429,430,431,432,433,434,435,436,437,438,439,440,441,442,443,444,445,446,447,448,449,450,451,452,453,454,455,456,457,458,459,460,461,462,463,464,465,466,467,468,469,470,471,472,473,474,475,476,477,478,479,480,481,482,483,484,485,486,487,488,489,490,491,492,493,494,495,496,497,498,499,500,501,502,503,504,505,506,507,508,509,510,511,512,513,514,515,516,517,518,519,520,521,522,523,524,525,526,527,528,529,530,531,532,533,534,535,536,537,538,539,540,541,542,543,544,545,546,547,548,549,550,551,552,553,554,555,556,557,558,559,560,561,562,563,564,565,566,567,568,569,570,571,572,573,574,575,576,577,578,579,580,581,582,583,584,585,586,587,588,589,590,591,592,593,594,595,596,597,598,599,600,601,602,603,604,605,606,607,608,609,610,611,612,613,614,615,616,617,618,619,620,621,622,623,624,625,626,627,628,629,630,631,632,633,634,635,636,637,638,639,640,641,642,643,644,645,646,647,648,649,650,651,652,653,654,655,656,657,658,659,660,661,662,663,664,665,666,667,668,669,670,671,672,673,674,675,676,677,678,679,680,681,682,683,684,685,686,687,688,689,690,691,692,693,694,695,696,697,698,699,700,701,702,703,704,705,706,707,708,709,710,711,712,713,714,715,716,717,718,719,720,721,722,723,724,725,726,727,728,729,730,731,732,733,734],\"y\":{\"__ndarray__\":\"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\",\"dtype\":\"float64\",\"order\":\"little\",\"shape\":[735]}},\"selected\":{\"id\":\"1133\"},\"selection_policy\":{\"id\":\"1134\"}},\"id\":\"1062\",\"type\":\"ColumnDataSource\"},{\"attributes\":{\"end\":120,\"start\":-1},\"id\":\"1005\",\"type\":\"Range1d\"},{\"attributes\":{\"line_color\":\"#ff7f0e\",\"x\":{\"field\":\"x\"},\"y\":{\"field\":\"y\"}},\"id\":\"1063\",\"type\":\"Line\"},{\"attributes\":{\"data_source\":{\"id\":\"1062\"},\"glyph\":{\"id\":\"1063\"},\"hover_glyph\":null,\"muted_glyph\":null,\"nonselection_glyph\":{\"id\":\"1064\"},\"view\":{\"id\":\"1066\"}},\"id\":\"1065\",\"type\":\"GlyphRenderer\"},{\"attributes\":{\"line_color\":{\"value\":\"blue\"},\"x0\":{\"field\":\"x0\"},\"x1\":{\"field\":\"x1\"},\"y0\":{\"field\":\"y0\"},\"y1\":{\"field\":\"y1\"}},\"id\":\"1041\",\"type\":\"Segment\"},{\"attributes\":{\"data\":{\"x\":[0,1,2,3,4,5,6,7,8,9,10,11,12,13,14,15,16,17,18,19,20,21,22,23,24,25,26,27,28,29,30,31,32,33,34,35,36,37,38,39,40,41,42,43,44,45,46,47,48,49,50,51,52,53,54,55,56,57,58,59,60,61,62,63,64,65,66,67,68,69,70,71,72,73,74,75,76,77,78,79,80,81,82,83,84,85,86,87,88,89,90,91,92,93,94,95,96,97,98,99,100,101,102,103,104,105,106,107,108,109,110,111,112,113,114,115,116,117,118,119,120,121,122,123,124,125,126,127,128,129,130,131,132,133,134,135,136,137,138,139,140,141,142,143,144,145,146,147,148,149,150,151,152,153,154,155,156,157,158,159,160,161,162,163,164,165,166,167,168,169,170,171,172,173,174,175,176,177,178,179,180,181,182,183,184,185,186,187,188,189,190,191,192,193,194,195,196,197,198,199,200,201,202,203,204,205,206,207,208,209,210,211,212,213,214,215,216,217,218,219,220,221,222,223,224,225,226,227,228,229,230,231,232,233,234,235,236,237,238,239,240,241,242,243,244,245,246,247,248,249,250,251,252,253,254,255,256,257,258,259,260,261,262,263,264,265,266,267,268,269,270,271,272,273,274,275,276,277,278,279,280,281,282,283,284,285,286,287,288,289,290,291,292,293,294,295,296,297,298,299,300,301,302,303,304,305,306,307,308,309,310,311,312,313,314,315,316,317,318,319,320,321,322,323,324,325,326,327,328,329,330,331,332,333,334,335,336,337,338,339,340,341,342,343,344,345,346,347,348,349,350,351,352,353,354,355,356,357,358,359,360,361,362,363,364,365,366,367,368,369,370,371,372,373,374,375,376,377,378,379,380,381,382,383,384,385,386,387,388,389,390,391,392,393,394,395,396,397,398,399,400,401,402,403,404,405,406,407,408,409,410,411,412,413,414,415,416,417,418,419,420,421,422,423,424,425,426,427,428,429,430,431,432,433,434,435,436,437,438,439,440,441,442,443,444,445,446,447,448,449,450,451,452,453,454,455,456,457,458,459,460,461,462,463,464,465,466,467,468,469,470,471,472,473,474,475,476,477,478,479,480,481,482,483,484,485,486,487,488,489,490,491,492,493,494,495,496,497,498,499,500,501,502,503,504,505,506,507,508,509,510,511,512,513,514,515,516,517,518,519,520,521,522,523,524,525,526,527,528,529,530,531,532,533,534,535,536,537,538,539,540,541,542,543,544,545,546,547,548,549,550,551,552,553,554,555,556,557,558,559,560,561,562,563,564,565,566,567,568,569,570,571,572,573,574,575,576,577,578,579,580,581,582,583,584,585,586,587,588,589,590,591,592,593,594,595,596,597,598,599,600,601,602,603,604,605,606,607,608,609,610,611,612,613,614,615,616,617,618,619,620,621,622,623,624,625,626,627,628,629,630,631,632,633,634,635,636,637,638,639,640,641,642,643,644,645,646,647,648,649,650,651,652,653,654,655,656,657,658,659,660,661,662,663,664,665,666,667,668,669,670,671,672,673,674,675,676,677,678,679,680,681,682,683,684,685,686,687,688,689,690,691,692,693,694,695,696,697,698,699,700,701,702,703,704,705,706,707,708,709,710,711,712,713,714,715,716,717,718,719,720,721,722,723,724,725,726,727,728,729,730,731,732,733,734],\"y\":{\"__ndarray__\":\"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\",\"dtype\":\"float64\",\"order\":\"little\",\"shape\":[735]}},\"selected\":{\"id\":\"1135\"},\"selection_policy\":{\"id\":\"1136\"}},\"id\":\"1067\",\"type\":\"ColumnDataSource\"},{\"attributes\":{\"data\":{\"x0\":[0,1,6,8,14,21,22,23,24,27,29,30,35,36,37,38,39,40,43,44,46,49,53,55,57,59,61,63,64,65,67,69,70,71,72,73,74,76,80,82,83,84,85,89,90,91,94,95,96,99,101,104,108,109,113,115,118,121,123,125,126,129,130,133,134,137,138,141,143,146,148,149,150,151,152,153,155,158,163,165,166,169,171,172,174,177,180,184,185,187,195,198,199,202,203,204,209,210,211,216,218,219,221,222,224,225,226,228,229,238,239,240,241,242,245,246,247,254,255,257,259,261,262,264,265,268,270,274,276,277,279,281,284,285,287,291,293,294,296,298,299,301,303,304,305,307,308,310,312,313,314,316,318,320,321,323,324,328,330,331,332,333,336,340,341,345,350,352,353,355,357,363,365,367,368,369,373,374,375,376,380,382,384,385,389,390,391,392,394,396,400,402,403,404,405,409,410,411,413,419,420,423,424,425,427,431,432,434,436,438,439,440,441,444,445,446,448,449,450,451,454,456,457,458,463,464,468,469,472,475,478,481,484,485,486,487,488,491,492,496,501,503,504,506,508,510,511,513,516,517,519,520,521,524,525,527,531,532,534,536,538,540,541,543,545,547,551,553,556,557,558,559,560,561,565,566,568,569,572,573,574,575,581,582,583,585,589,590,591,592,598,599,600,601,602,603,604,607,608,610,611,615,616,617,621,622,623,624,625,628,629,631,633,634,635,638,642,643,645,646,647,648,651,652,655,656,658,661,664,666,669,670,671,673,674,676,677,678,679,680,681,683,684,687,689,690,691,695,697,698,700,701,702,705,708,709,710,711,714,715,716,717,719,725,727,728,731,733],\"x1\":[0,1,6,8,14,21,22,23,24,27,29,30,35,36,37,38,39,40,43,44,46,49,53,55,57,59,61,63,64,65,67,69,70,71,72,73,74,76,80,82,83,84,85,89,90,91,94,95,96,99,101,104,108,109,113,115,118,121,123,125,126,129,130,133,134,137,138,141,143,146,148,149,150,151,152,153,155,158,163,165,166,169,171,172,174,177,180,184,185,187,195,198,199,202,203,204,209,210,211,216,218,219,221,222,224,225,226,228,229,238,239,240,241,242,245,246,247,254,255,257,259,261,262,264,265,268,270,274,276,277,279,281,284,285,287,291,293,294,296,298,299,301,303,304,305,307,308,310,312,313,314,316,318,320,321,323,324,328,330,331,332,333,336,340,341,345,350,352,353,355,357,363,365,367,368,369,373,374,375,376,380,382,384,385,389,390,391,392,394,396,400,402,403,404,405,409,410,411,413,419,420,423,424,425,427,431,432,434,436,438,439,440,441,444,445,446,448,449,450,451,454,456,457,458,463,464,468,469,472,475,478,481,484,485,486,487,488,491,492,496,501,503,504,506,508,510,511,513,516,517,519,520,521,524,525,527,531,532,534,536,538,540,541,543,545,547,551,553,556,557,558,559,560,561,565,566,568,569,572,573,574,575,581,582,583,585,589,590,591,592,598,599,600,601,602,603,604,607,608,610,611,615,616,617,621,622,623,624,625,628,629,631,633,634,635,638,642,643,645,646,647,648,651,652,655,656,658,661,664,666,669,670,671,673,674,676,677,678,679,680,681,683,684,687,689,690,691,695,697,698,700,701,702,705,708,709,710,711,714,715,716,717,719,725,727,728,731,733],\"y0\":[39400,38550,40150,40700,42850,47050,46950,47100,45700,46700,46850,46850,47550,47450,47250,46500,46100,45100,44800,44450,44450,44150,47000,45700,45200,45450,46750,47550,47250,46950,46800,47500,47400,47600,47250,46000,45900,45650,46300,46050,45300,44850,44250,43050,42400,42050,43800,44000,43800,42100,42800,44200,45050,44400,45450,45800,46000,47400,46350,45950,44800,46550,46400,46350,46450,47550,47150,47050,46600,44600,43900,43500,43350,44000,43500,44250,44350,44700,44200,44850,43650,46500,47200,47400,47100,49600,49350,49100,48400,48700,50900,51500,52500,51700,50800,51400,53400,53300,52200,53800,53400,52100,52600,52900,52100,51400,51300,49850,50400,57200,57300,56500,56400,55700,56600,56000,56600,61000,59600,62000,62400,61800,59400,58800,58400,60200,61200,61600,62000,60900,61300,58100,56900,55500,56900,55000,54400,51900,50900,48350,46650,43550,49600,49300,49700,48500,47900,47600,50200,49750,49800,48900,49350,51400,49700,50300,49750,49100,49300,49350,49250,48500,48450,50400,49800,51200,57000,56500,56500,55100,52000,52800,53000,53200,53900,53600,55900,53900,53600,53200,54800,54800,55500,54700,60400,60100,59600,57900,57500,58400,59600,59900,59200,57600,56900,56300,56300,56100,55100,60000,59400,61300,60800,59900,59700,58800,59000,59900,60700,61400,61100,60800,60400,61500,60500,60400,60300,59400,58500,58000,59000,60800,60900,60500,67000,66200,69500,68300,68600,70500,72900,73800,74500,73700,73700,73400,73200,80100,78900,84500,91200,91800,87300,89000,89700,89200,87700,85000,85400,83800,84200,84800,82600,84200,83600,84200,83400,85300,83200,83000,82500,83500,82900,82900,82500,82900,81700,82700,86000,86200,86200,85700,84900,84100,84700,84000,83500,83000,83300,83200,82500,82100,82600,81200,79600,80900,80400,80400,80500,80000,82700,82800,82600,82000,81400,81700,80900,81300,81100,80300,80600,82100,81400,80600,81300,81200,79800,80000,80200,80100,79200,79100,79900,79500,79400,78900,83300,82500,82400,79800,78200,76000,74400,73900,76600,76200,75500,76800,77100,76600,77700,77400,77400,77600,77700,77800,75300,74800,74000,73000,72800,72400,70900,71000,71000,71000,70600,71000,71600,70600,71700,71600,71600,70900,71900,72000,71600,71000,76000,76200,75100,74100,73900,78600,77600,78300,78500,77800],\"y1\":[38550,37450,39600,39850,41850,46150,46250,46200,44650,46000,45650,45850,47050,46500,46750,45100,44800,44150,43800,43650,43700,43450,46250,44900,44300,44850,45800,46600,46150,46200,46150,47000,46800,47000,45500,45250,45100,44150,45350,45300,44400,44200,42450,42550,41350,40850,42400,43250,42400,41300,42150,43700,44300,43400,45000,45200,45600,46250,45200,45250,44350,46150,45800,45950,45650,47050,46250,46000,45000,43600,43100,42650,43050,43550,42950,43500,43500,43850,43050,43650,43100,45850,46550,46800,46800,49100,48800,48650,47600,47650,49650,50800,50500,50800,50200,50300,52400,52000,51400,53200,52000,50600,51700,51800,51300,50200,50400,49000,49500,56000,55500,55600,55100,54800,55700,55000,54900,59900,58900,61000,61200,60700,58300,56800,56400,58900,59700,60500,61200,59700,59600,56800,55500,54200,55100,53600,52000,49300,48800,45600,42300,42400,47150,47700,46850,47150,45800,46550,49000,48600,48700,48300,48550,50000,48700,49500,49000,48500,48700,48800,48300,47550,47700,49850,48600,49900,54600,54700,54400,53200,49900,51100,51900,52000,52800,52400,53400,52900,52800,52300,53800,54000,54700,53800,58600,59000,57700,56700,56300,57100,58000,58000,57800,55300,55800,55600,55400,54000,54100,59100,58200,60600,59300,59100,57800,57900,58200,58700,59500,60400,60500,59700,59000,60600,59800,59800,59500,58800,57500,56600,57800,59600,60100,59500,65600,64700,67000,66500,66700,69300,71600,73100,73400,72600,73000,72000,72100,78200,77300,82100,89100,88000,84100,86500,86800,86500,85600,82000,83400,82100,83000,82700,81600,83000,82100,82200,82000,83000,82200,81600,80700,82400,81800,82000,81800,81800,81000,81400,84800,85100,85400,84100,83400,83100,83600,83300,82500,82400,82500,82100,81500,81500,81100,79800,78400,79200,79500,79800,79700,79100,81500,81600,81800,81100,80900,80700,80500,80700,80500,79900,79900,80800,80700,80000,80300,79900,79000,79500,79800,79500,78800,78500,79200,78800,78500,78500,82000,81300,80100,78500,76900,74100,73100,72500,74900,74600,74200,75700,75900,75000,76600,76400,76100,76800,77100,76200,73800,73700,72900,71400,71200,71500,68700,70000,70400,70200,70000,70000,69700,69900,70100,70500,70200,70200,70900,71300,70600,70200,74500,74100,73600,72000,70500,77100,76800,76500,77400,76800]},\"selected\":{\"id\":\"1125\"},\"selection_policy\":{\"id\":\"1126\"}},\"id\":\"1040\",\"type\":\"ColumnDataSource\"},{\"attributes\":{\"line_alpha\":0.1,\"line_color\":\"#2ca02c\",\"x\":{\"field\":\"x\"},\"y\":{\"field\":\"y\"}},\"id\":\"1069\",\"type\":\"Line\"},{\"attributes\":{\"axis\":{\"id\":\"1013\"},\"ticker\":null},\"id\":\"1016\",\"type\":\"Grid\"},{\"attributes\":{\"data_source\":{\"id\":\"1040\"},\"glyph\":{\"id\":\"1041\"},\"hover_glyph\":null,\"muted_glyph\":null,\"nonselection_glyph\":{\"id\":\"1042\"},\"view\":{\"id\":\"1044\"}},\"id\":\"1043\",\"type\":\"GlyphRenderer\"},{\"attributes\":{\"source\":{\"id\":\"1062\"}},\"id\":\"1066\",\"type\":\"CDSView\"},{\"attributes\":{\"source\":{\"id\":\"1040\"}},\"id\":\"1044\",\"type\":\"CDSView\"},{\"attributes\":{\"line_color\":\"#2ca02c\",\"x\":{\"field\":\"x\"},\"y\":{\"field\":\"y\"}},\"id\":\"1068\",\"type\":\"Line\"},{\"attributes\":{\"text\":\"\\uc0bc\\uc131\\uc804\\uc790 \\uc8fc\\uac00(2019.1.1~\\ud604\\uc7ac)\"},\"id\":\"1003\",\"type\":\"Title\"},{\"attributes\":{\"data_source\":{\"id\":\"1067\"},\"glyph\":{\"id\":\"1068\"},\"hover_glyph\":null,\"muted_glyph\":null,\"nonselection_glyph\":{\"id\":\"1069\"},\"view\":{\"id\":\"1071\"}},\"id\":\"1070\",\"type\":\"GlyphRenderer\"},{\"attributes\":{},\"id\":\"1014\",\"type\":\"BasicTicker\"},{\"attributes\":{\"bottom\":{\"field\":\"bottom\"},\"fill_color\":{\"value\":\"red\"},\"line_color\":{\"value\":\"red\"},\"top\":{\"field\":\"top\"},\"width\":{\"value\":0.8},\"x\":{\"field\":\"x\"}},\"id\":\"1046\",\"type\":\"VBar\"},{\"attributes\":{\"end\":96800,\"start\":36850},\"id\":\"1007\",\"type\":\"Range1d\"},{\"attributes\":{\"line_alpha\":{\"value\":0.1},\"line_color\":{\"value\":\"red\"},\"x0\":{\"field\":\"x0\"},\"x1\":{\"field\":\"x1\"},\"y0\":{\"field\":\"y0\"},\"y1\":{\"field\":\"y1\"}},\"id\":\"1037\",\"type\":\"Segment\"},{\"attributes\":{\"data\":{\"bottom\":[38750,38100,39600,40500,41100,41450,41950,42300,42750,42000,44750,45050,45500,46400,45000,46050,47500,45950,46900,46950,47150,44450,44650,43850,44200,43900,44050,45850,45500,45350,44650,45750,46950,46700,46850,45200,44650,44850,46150,45900,42900,42650,42650,42000,43150,42650,42550,43800,43450,44200,44800,44850,44000,43900,44350,45500,45500,45600,46500,46250,46000,45100,46450,46850,46800,47200,47200,47150,46550,45200,44950,43500,43900,44450,44500,43950,43600,44050,44150,44000,44100,45700,46900,47100,47700,49150,49300,49500,49200,48400,49050,48000,48900,48550,49150,50100,50300,51200,50900,51300,51200,52300,52700,53300,52600,52800,53700,53500,51600,52200,49900,50400,51200,51500,51900,53300,54700,54700,56700,55400,56500,55500,55800,56800,58600,59500,60000,60700,62400,62300,57200,58900,61100,59700,59900,60500,61800,60200,59200,57900,56500,55000,57400,57800,54600,49950,47300,45400,46950,47850,46800,48700,49250,49000,51400,49850,49850,50100,50000,49200,48550,48000,48800,50300,48850,49250,49900,50700,51200,51400,54500,55500,55400,52300,52100,52200,52300,52900,52900,53300,52900,53600,55000,53400,53800,54700,54400,55300,54200,55600,58600,57300,58000,57800,58200,59000,56100,54200,56400,55600,56500,58700,58400,60400,61000,59200,58600,57800,57900,58700,59900,60400,60000,60900,57400,58800,60300,61300,63200,66300,64600,64700,67500,68000,68200,67800,69500,71500,72900,73900,72900,73800,73900,77800,81000,83000,83900,82900,88800,91000,90600,89700,87000,88100,89400,83700,83000,84400,83500,84200,84900,82600,82000,82000,85300,84000,82100,82000,82800,82900,81200,81500,82200,82900,84800,84000,84100,83900,82800,83500,81700,82600,82300,81900,83200,80100,79500,80100,80500,80600,80800,82800,81800,79900,81200,81600,81900,80400,81200,79500,80600,79000,79700,79200,79000,79300,81400,82900,74200,75600,76700,76800,76600,77300,76300,76300,77200,77700,68800,69400,70400,70200,71100,70700,71500,70600,70500,70600,71200,74900,72300,74400,75800,76300,77400,78200,77000,77600,78000,78100],\"top\":[38000,38000,38650,40350,40050,41150,41700,42000,42700,41350,44300,45000,45050,44800,44500,44650,46600,45850,46750,46500,46500,43400,44300,43700,43800,43750,43800,44600,45300,44750,44500,45550,46150,46400,46050,45050,44250,44200,45150,45500,42600,42500,41300,41650,42600,42500,42200,42950,43400,43600,44300,44800,43750,43750,43750,44850,45200,45200,46000,46200,45250,44850,45950,46450,46650,46800,47150,46650,46300,44900,44550,42500,43800,43950,44350,43800,43050,43650,44100,43750,43250,44800,46450,47000,46900,48050,49250,49050,49000,48000,48050,47400,47900,48200,49000,49900,49900,50800,50800,50700,50600,51700,52400,52900,51800,51900,52900,53200,51000,51800,49800,50100,50900,51000,51500,53000,54500,54500,55800,54700,55700,54900,55700,56200,58400,58800,59600,59100,62000,60500,55500,57100,60100,59200,59800,60300,60900,59800,58800,56200,56000,54300,54800,57600,53800,47450,46900,44150,43850,47050,46200,47500,48950,48800,50800,48700,49350,49850,49900,49000,47250,47750,47950,50100,48750,48700,48950,50000,50800,51000,51800,54400,55100,52100,51200,52100,52200,52600,51900,52800,52100,53000,54000,53300,53700,54400,54200,55200,54000,54300,57000,57200,57100,57600,58000,58200,55800,54100,55600,55200,56100,57400,58200,60200,60900,59100,58400,57700,57700,57500,58700,60000,59600,60300,56400,57900,59000,60700,61300,64000,64100,63900,64800,66100,68000,67100,68400,70400,72400,72100,72700,73600,72400,74100,77400,81000,81600,82800,83300,90000,90300,88700,84500,87500,87000,83200,81700,84100,83100,83800,84500,82300,81200,81800,84000,83500,81100,81000,82200,82800,81000,81400,81600,82500,84000,83000,83700,83300,81900,82900,81000,81900,81700,81800,82300,79000,79400,79800,80300,80500,80400,81300,81500,79700,80400,81500,81700,80100,80600,79400,79800,78500,79000,78300,78800,79200,79400,82200,74000,73900,74900,76700,76400,76800,76000,75200,76300,77300,68700,69000,70000,69900,70600,69500,70800,70400,70300,70200,70400,73300,71700,72000,73900,75100,76100,77400,76500,76400,76800,77900],\"x\":[3,4,5,7,9,10,11,12,13,15,17,18,19,20,25,26,28,31,32,33,34,42,45,47,48,50,51,52,54,56,58,60,62,66,68,75,77,78,79,81,86,87,88,92,93,97,100,102,103,105,106,107,110,111,112,114,116,117,119,122,124,127,131,132,135,136,139,140,142,144,145,147,154,156,157,159,160,161,162,164,167,168,170,173,175,176,178,179,181,182,183,186,188,189,190,192,196,197,200,201,205,206,207,208,212,214,215,217,220,223,227,230,231,232,233,234,235,236,237,243,244,248,249,250,251,252,253,256,258,260,266,267,269,271,272,273,275,278,280,282,283,286,288,289,292,295,297,300,302,306,309,311,315,317,319,322,325,326,327,329,334,335,337,338,342,343,344,346,347,348,349,351,354,356,358,359,360,361,364,366,370,371,372,377,378,379,381,383,386,387,388,393,395,397,398,399,406,412,414,415,416,417,418,421,422,426,428,429,430,433,435,437,442,443,452,453,455,459,461,462,465,466,467,470,471,473,474,476,477,479,480,482,489,490,493,494,495,497,498,499,500,502,505,507,509,512,514,515,518,522,523,526,528,529,530,533,535,539,542,544,549,550,552,554,555,562,564,567,570,571,576,577,578,579,580,584,587,593,594,595,596,597,606,609,612,613,614,619,620,626,627,630,632,636,637,639,640,641,649,654,659,660,662,663,665,668,672,675,685,686,692,693,694,696,699,703,704,707,712,713,718,720,721,723,724,726,729,730,732,734]},\"selected\":{\"id\":\"1127\"},\"selection_policy\":{\"id\":\"1128\"}},\"id\":\"1045\",\"type\":\"ColumnDataSource\"},{\"attributes\":{\"source\":{\"id\":\"1067\"}},\"id\":\"1071\",\"type\":\"CDSView\"},{\"attributes\":{\"data_source\":{\"id\":\"1045\"},\"glyph\":{\"id\":\"1046\"},\"hover_glyph\":null,\"muted_glyph\":null,\"nonselection_glyph\":{\"id\":\"1047\"},\"view\":{\"id\":\"1049\"}},\"id\":\"1048\",\"type\":\"GlyphRenderer\"},{\"attributes\":{\"children\":[[{\"id\":\"1002\"},0,0],[{\"id\":\"1072\"},1,0]]},\"id\":\"1150\",\"type\":\"GridBox\"},{\"attributes\":{\"active_multi\":null,\"tools\":[{\"id\":\"1021\"},{\"id\":\"1022\"},{\"id\":\"1023\"},{\"id\":\"1024\"},{\"id\":\"1025\"},{\"id\":\"1026\"}]},\"id\":\"1028\",\"type\":\"Toolbar\"},{\"attributes\":{},\"id\":\"1011\",\"type\":\"LinearScale\"},{\"attributes\":{\"range_padding\":0},\"id\":\"1074\",\"type\":\"DataRange1d\"},{\"attributes\":{\"bottom\":{\"field\":\"bottom\"},\"fill_alpha\":{\"value\":0.1},\"fill_color\":{\"value\":\"red\"},\"line_alpha\":{\"value\":0.1},\"line_color\":{\"value\":\"red\"},\"top\":{\"field\":\"top\"},\"width\":{\"value\":0.8},\"x\":{\"field\":\"x\"}},\"id\":\"1047\",\"type\":\"VBar\"},{\"attributes\":{},\"id\":\"1022\",\"type\":\"WheelZoomTool\"},{\"attributes\":{\"source\":{\"id\":\"1045\"}},\"id\":\"1049\",\"type\":\"CDSView\"},{\"attributes\":{},\"id\":\"1021\",\"type\":\"PanTool\"},{\"attributes\":{},\"id\":\"1076\",\"type\":\"LinearScale\"},{\"attributes\":{\"data_source\":{\"id\":\"1035\"},\"glyph\":{\"id\":\"1036\"},\"hover_glyph\":null,\"muted_glyph\":null,\"nonselection_glyph\":{\"id\":\"1037\"},\"view\":{\"id\":\"1039\"}},\"id\":\"1038\",\"type\":\"GlyphRenderer\"},{\"attributes\":{\"formatter\":{\"id\":\"1114\"},\"major_label_orientation\":0.6283185307179586,\"major_label_overrides\":{\"0\":\"2019-01-02\",\"1\":\"2019-01-03\",\"10\":\"2019-01-16\",\"100\":\"2019-05-30\",\"101\":\"2019-05-31\",\"102\":\"2019-06-03\",\"103\":\"2019-06-04\",\"104\":\"2019-06-05\",\"105\":\"2019-06-07\",\"106\":\"2019-06-10\",\"107\":\"2019-06-11\",\"108\":\"2019-06-12\",\"109\":\"2019-06-13\",\"11\":\"2019-01-17\",\"110\":\"2019-06-14\",\"111\":\"2019-06-17\",\"112\":\"2019-06-18\",\"113\":\"2019-06-19\",\"114\":\"2019-06-20\",\"115\":\"2019-06-21\",\"116\":\"2019-06-24\",\"117\":\"2019-06-25\",\"118\":\"2019-06-26\",\"119\":\"2019-06-27\",\"12\":\"2019-01-18\",\"120\":\"2019-06-28\",\"121\":\"2019-07-01\",\"122\":\"2019-07-02\",\"123\":\"2019-07-03\",\"124\":\"2019-07-04\",\"125\":\"2019-07-05\",\"126\":\"2019-07-08\",\"127\":\"2019-07-09\",\"128\":\"2019-07-10\",\"129\":\"2019-07-11\",\"13\":\"2019-01-21\",\"130\":\"2019-07-12\",\"131\":\"2019-07-15\",\"132\":\"2019-07-16\",\"133\":\"2019-07-17\",\"134\":\"2019-07-18\",\"135\":\"2019-07-19\",\"136\":\"2019-07-22\",\"137\":\"2019-07-23\",\"138\":\"2019-07-24\",\"139\":\"2019-07-25\",\"14\":\"2019-01-22\",\"140\":\"2019-07-26\",\"141\":\"2019-07-29\",\"142\":\"2019-07-30\",\"143\":\"2019-07-31\",\"144\":\"2019-08-01\",\"145\":\"2019-08-02\",\"146\":\"2019-08-05\",\"147\":\"2019-08-06\",\"148\":\"2019-08-07\",\"149\":\"2019-08-08\",\"15\":\"2019-01-23\",\"150\":\"2019-08-09\",\"151\":\"2019-08-12\",\"152\":\"2019-08-13\",\"153\":\"2019-08-14\",\"154\":\"2019-08-16\",\"155\":\"2019-08-19\",\"156\":\"2019-08-20\",\"157\":\"2019-08-21\",\"158\":\"2019-08-22\",\"159\":\"2019-08-23\",\"16\":\"2019-01-24\",\"160\":\"2019-08-26\",\"161\":\"2019-08-27\",\"162\":\"2019-08-28\",\"163\":\"2019-08-29\",\"164\":\"2019-08-30\",\"165\":\"2019-09-02\",\"166\":\"2019-09-03\",\"167\":\"2019-09-04\",\"168\":\"2019-09-05\",\"169\":\"2019-09-06\",\"17\":\"2019-01-25\",\"170\":\"2019-09-09\",\"171\":\"2019-09-10\",\"172\":\"2019-09-11\",\"173\":\"2019-09-16\",\"174\":\"2019-09-17\",\"175\":\"2019-09-18\",\"176\":\"2019-09-19\",\"177\":\"2019-09-20\",\"178\":\"2019-09-23\",\"179\":\"2019-09-24\",\"18\":\"2019-01-28\",\"180\":\"2019-09-25\",\"181\":\"2019-09-26\",\"182\":\"2019-09-27\",\"183\":\"2019-09-30\",\"184\":\"2019-10-01\",\"185\":\"2019-10-02\",\"186\":\"2019-10-04\",\"187\":\"2019-10-07\",\"188\":\"2019-10-08\",\"189\":\"2019-10-10\",\"19\":\"2019-01-29\",\"190\":\"2019-10-11\",\"191\":\"2019-10-14\",\"192\":\"2019-10-15\",\"193\":\"2019-10-16\",\"194\":\"2019-10-17\",\"195\":\"2019-10-18\",\"196\":\"2019-10-21\",\"197\":\"2019-10-22\",\"198\":\"2019-10-23\",\"199\":\"2019-10-24\",\"2\":\"2019-01-04\",\"20\":\"2019-01-30\",\"200\":\"2019-10-25\",\"201\":\"2019-10-28\",\"202\":\"2019-10-29\",\"203\":\"2019-10-30\",\"204\":\"2019-10-31\",\"205\":\"2019-11-01\",\"206\":\"2019-11-04\",\"207\":\"2019-11-05\",\"208\":\"2019-11-06\",\"209\":\"2019-11-07\",\"21\":\"2019-01-31\",\"210\":\"2019-11-08\",\"211\":\"2019-11-11\",\"212\":\"2019-11-12\",\"213\":\"2019-11-13\",\"214\":\"2019-11-14\",\"215\":\"2019-11-15\",\"216\":\"2019-11-18\",\"217\":\"2019-11-19\",\"218\":\"2019-11-20\",\"219\":\"2019-11-21\",\"22\":\"2019-02-01\",\"220\":\"2019-11-22\",\"221\":\"2019-11-25\",\"222\":\"2019-11-26\",\"223\":\"2019-11-27\",\"224\":\"2019-11-28\",\"225\":\"2019-11-29\",\"226\":\"2019-12-02\",\"227\":\"2019-12-03\",\"228\":\"2019-12-04\",\"229\":\"2019-12-05\",\"23\":\"2019-02-07\",\"230\":\"2019-12-06\",\"231\":\"2019-12-09\",\"232\":\"2019-12-10\",\"233\":\"2019-12-11\",\"234\":\"2019-12-12\",\"235\":\"2019-12-13\",\"236\":\"2019-12-16\",\"237\":\"2019-12-17\",\"238\":\"2019-12-18\",\"239\":\"2019-12-19\",\"24\":\"2019-02-08\",\"240\":\"2019-12-20\",\"241\":\"2019-12-23\",\"242\":\"2019-12-24\",\"243\":\"2019-12-26\",\"244\":\"2019-12-27\",\"245\":\"2019-12-30\",\"246\":\"2020-01-02\",\"247\":\"2020-01-03\",\"248\":\"2020-01-06\",\"249\":\"2020-01-07\",\"25\":\"2019-02-11\",\"250\":\"2020-01-08\",\"251\":\"2020-01-09\",\"252\":\"2020-01-10\",\"253\":\"2020-01-13\",\"254\":\"2020-01-14\",\"255\":\"2020-01-15\",\"256\":\"2020-01-16\",\"257\":\"2020-01-17\",\"258\":\"2020-01-20\",\"259\":\"2020-01-21\",\"26\":\"2019-02-12\",\"260\":\"2020-01-22\",\"261\":\"2020-01-23\",\"262\":\"2020-01-28\",\"263\":\"2020-01-29\",\"264\":\"2020-01-30\",\"265\":\"2020-01-31\",\"266\":\"2020-02-03\",\"267\":\"2020-02-04\",\"268\":\"2020-02-05\",\"269\":\"2020-02-06\",\"27\":\"2019-02-13\",\"270\":\"2020-02-07\",\"271\":\"2020-02-10\",\"272\":\"2020-02-11\",\"273\":\"2020-02-12\",\"274\":\"2020-02-13\",\"275\":\"2020-02-14\",\"276\":\"2020-02-17\",\"277\":\"2020-02-18\",\"278\":\"2020-02-19\",\"279\":\"2020-02-20\",\"28\":\"2019-02-14\",\"280\":\"2020-02-21\",\"281\":\"2020-02-24\",\"282\":\"2020-02-25\",\"283\":\"2020-02-26\",\"284\":\"2020-02-27\",\"285\":\"2020-02-28\",\"286\":\"2020-03-02\",\"287\":\"2020-03-03\",\"288\":\"2020-03-04\",\"289\":\"2020-03-05\",\"29\":\"2019-02-15\",\"290\":\"2020-03-06\",\"291\":\"2020-03-09\",\"292\":\"2020-03-10\",\"293\":\"2020-03-11\",\"294\":\"2020-03-12\",\"295\":\"2020-03-13\",\"296\":\"2020-03-16\",\"297\":\"2020-03-17\",\"298\":\"2020-03-18\",\"299\":\"2020-03-19\",\"3\":\"2019-01-07\",\"30\":\"2019-02-18\",\"300\":\"2020-03-20\",\"301\":\"2020-03-23\",\"302\":\"2020-03-24\",\"303\":\"2020-03-25\",\"304\":\"2020-03-26\",\"305\":\"2020-03-27\",\"306\":\"2020-03-30\",\"307\":\"2020-03-31\",\"308\":\"2020-04-01\",\"309\":\"2020-04-02\",\"31\":\"2019-02-19\",\"310\":\"2020-04-03\",\"311\":\"2020-04-06\",\"312\":\"2020-04-07\",\"313\":\"2020-04-08\",\"314\":\"2020-04-09\",\"315\":\"2020-04-10\",\"316\":\"2020-04-13\",\"317\":\"2020-04-14\",\"318\":\"2020-04-16\",\"319\":\"2020-04-17\",\"32\":\"2019-02-20\",\"320\":\"2020-04-20\",\"321\":\"2020-04-21\",\"322\":\"2020-04-22\",\"323\":\"2020-04-23\",\"324\":\"2020-04-24\",\"325\":\"2020-04-27\",\"326\":\"2020-04-28\",\"327\":\"2020-04-29\",\"328\":\"2020-05-04\",\"329\":\"2020-05-06\",\"33\":\"2019-02-21\",\"330\":\"2020-05-07\",\"331\":\"2020-05-08\",\"332\":\"2020-05-11\",\"333\":\"2020-05-12\",\"334\":\"2020-05-13\",\"335\":\"2020-05-14\",\"336\":\"2020-05-15\",\"337\":\"2020-05-18\",\"338\":\"2020-05-19\",\"339\":\"2020-05-20\",\"34\":\"2019-02-22\",\"340\":\"2020-05-21\",\"341\":\"2020-05-22\",\"342\":\"2020-05-25\",\"343\":\"2020-05-26\",\"344\":\"2020-05-27\",\"345\":\"2020-05-28\",\"346\":\"2020-05-29\",\"347\":\"2020-06-01\",\"348\":\"2020-06-02\",\"349\":\"2020-06-03\",\"35\":\"2019-02-25\",\"350\":\"2020-06-04\",\"351\":\"2020-06-05\",\"352\":\"2020-06-08\",\"353\":\"2020-06-09\",\"354\":\"2020-06-10\",\"355\":\"2020-06-11\",\"356\":\"2020-06-12\",\"357\":\"2020-06-15\",\"358\":\"2020-06-16\",\"359\":\"2020-06-17\",\"36\":\"2019-02-26\",\"360\":\"2020-06-18\",\"361\":\"2020-06-19\",\"362\":\"2020-06-22\",\"363\":\"2020-06-23\",\"364\":\"2020-06-24\",\"365\":\"2020-06-25\",\"366\":\"2020-06-26\",\"367\":\"2020-06-29\",\"368\":\"2020-06-30\",\"369\":\"2020-07-01\",\"37\":\"2019-02-27\",\"370\":\"2020-07-02\",\"371\":\"2020-07-03\",\"372\":\"2020-07-06\",\"373\":\"2020-07-07\",\"374\":\"2020-07-08\",\"375\":\"2020-07-09\",\"376\":\"2020-07-10\",\"377\":\"2020-07-13\",\"378\":\"2020-07-14\",\"379\":\"2020-07-15\",\"38\":\"2019-02-28\",\"380\":\"2020-07-16\",\"381\":\"2020-07-17\",\"382\":\"2020-07-20\",\"383\":\"2020-07-21\",\"384\":\"2020-07-22\",\"385\":\"2020-07-23\",\"386\":\"2020-07-24\",\"387\":\"2020-07-27\",\"388\":\"2020-07-28\",\"389\":\"2020-07-29\",\"39\":\"2019-03-04\",\"390\":\"2020-07-30\",\"391\":\"2020-07-31\",\"392\":\"2020-08-03\",\"393\":\"2020-08-04\",\"394\":\"2020-08-05\",\"395\":\"2020-08-06\",\"396\":\"2020-08-07\",\"397\":\"2020-08-10\",\"398\":\"2020-08-11\",\"399\":\"2020-08-12\",\"4\":\"2019-01-08\",\"40\":\"2019-03-05\",\"400\":\"2020-08-13\",\"401\":\"2020-08-14\",\"402\":\"2020-08-18\",\"403\":\"2020-08-19\",\"404\":\"2020-08-20\",\"405\":\"2020-08-21\",\"406\":\"2020-08-24\",\"407\":\"2020-08-25\",\"408\":\"2020-08-26\",\"409\":\"2020-08-27\",\"41\":\"2019-03-06\",\"410\":\"2020-08-28\",\"411\":\"2020-08-31\",\"412\":\"2020-09-01\",\"413\":\"2020-09-02\",\"414\":\"2020-09-03\",\"415\":\"2020-09-04\",\"416\":\"2020-09-07\",\"417\":\"2020-09-08\",\"418\":\"2020-09-09\",\"419\":\"2020-09-10\",\"42\":\"2019-03-07\",\"420\":\"2020-09-11\",\"421\":\"2020-09-14\",\"422\":\"2020-09-15\",\"423\":\"2020-09-16\",\"424\":\"2020-09-17\",\"425\":\"2020-09-18\",\"426\":\"2020-09-21\",\"427\":\"2020-09-22\",\"428\":\"2020-09-23\",\"429\":\"2020-09-24\",\"43\":\"2019-03-08\",\"430\":\"2020-09-25\",\"431\":\"2020-09-28\",\"432\":\"2020-09-29\",\"433\":\"2020-10-05\",\"434\":\"2020-10-06\",\"435\":\"2020-10-07\",\"436\":\"2020-10-08\",\"437\":\"2020-10-12\",\"438\":\"2020-10-13\",\"439\":\"2020-10-14\",\"44\":\"2019-03-11\",\"440\":\"2020-10-15\",\"441\":\"2020-10-16\",\"442\":\"2020-10-19\",\"443\":\"2020-10-20\",\"444\":\"2020-10-21\",\"445\":\"2020-10-22\",\"446\":\"2020-10-23\",\"447\":\"2020-10-26\",\"448\":\"2020-10-27\",\"449\":\"2020-10-28\",\"45\":\"2019-03-12\",\"450\":\"2020-10-29\",\"451\":\"2020-10-30\",\"452\":\"2020-11-02\",\"453\":\"2020-11-03\",\"454\":\"2020-11-04\",\"455\":\"2020-11-05\",\"456\":\"2020-11-06\",\"457\":\"2020-11-09\",\"458\":\"2020-11-10\",\"459\":\"2020-11-11\",\"46\":\"2019-03-13\",\"460\":\"2020-11-12\",\"461\":\"2020-11-13\",\"462\":\"2020-11-16\",\"463\":\"2020-11-17\",\"464\":\"2020-11-18\",\"465\":\"2020-11-19\",\"466\":\"2020-11-20\",\"467\":\"2020-11-23\",\"468\":\"2020-11-24\",\"469\":\"2020-11-25\",\"47\":\"2019-03-14\",\"470\":\"2020-11-26\",\"471\":\"2020-11-27\",\"472\":\"2020-11-30\",\"473\":\"2020-12-01\",\"474\":\"2020-12-02\",\"475\":\"2020-12-03\",\"476\":\"2020-12-04\",\"477\":\"2020-12-07\",\"478\":\"2020-12-08\",\"479\":\"2020-12-09\",\"48\":\"2019-03-15\",\"480\":\"2020-12-10\",\"481\":\"2020-12-11\",\"482\":\"2020-12-14\",\"483\":\"2020-12-15\",\"484\":\"2020-12-16\",\"485\":\"2020-12-17\",\"486\":\"2020-12-18\",\"487\":\"2020-12-21\",\"488\":\"2020-12-22\",\"489\":\"2020-12-23\",\"49\":\"2019-03-18\",\"490\":\"2020-12-24\",\"491\":\"2020-12-28\",\"492\":\"2020-12-29\",\"493\":\"2020-12-30\",\"494\":\"2021-01-04\",\"495\":\"2021-01-05\",\"496\":\"2021-01-06\",\"497\":\"2021-01-07\",\"498\":\"2021-01-08\",\"499\":\"2021-01-11\",\"5\":\"2019-01-09\",\"50\":\"2019-03-19\",\"500\":\"2021-01-12\",\"501\":\"2021-01-13\",\"502\":\"2021-01-14\",\"503\":\"2021-01-15\",\"504\":\"2021-01-18\",\"505\":\"2021-01-19\",\"506\":\"2021-01-20\",\"507\":\"2021-01-21\",\"508\":\"2021-01-22\",\"509\":\"2021-01-25\",\"51\":\"2019-03-20\",\"510\":\"2021-01-26\",\"511\":\"2021-01-27\",\"512\":\"2021-01-28\",\"513\":\"2021-01-29\",\"514\":\"2021-02-01\",\"515\":\"2021-02-02\",\"516\":\"2021-02-03\",\"517\":\"2021-02-04\",\"518\":\"2021-02-05\",\"519\":\"2021-02-08\",\"52\":\"2019-03-21\",\"520\":\"2021-02-09\",\"521\":\"2021-02-10\",\"522\":\"2021-02-15\",\"523\":\"2021-02-16\",\"524\":\"2021-02-17\",\"525\":\"2021-02-18\",\"526\":\"2021-02-19\",\"527\":\"2021-02-22\",\"528\":\"2021-02-23\",\"529\":\"2021-02-24\",\"53\":\"2019-03-22\",\"530\":\"2021-02-25\",\"531\":\"2021-02-26\",\"532\":\"2021-03-02\",\"533\":\"2021-03-03\",\"534\":\"2021-03-04\",\"535\":\"2021-03-05\",\"536\":\"2021-03-08\",\"537\":\"2021-03-09\",\"538\":\"2021-03-10\",\"539\":\"2021-03-11\",\"54\":\"2019-03-25\",\"540\":\"2021-03-12\",\"541\":\"2021-03-15\",\"542\":\"2021-03-16\",\"543\":\"2021-03-17\",\"544\":\"2021-03-18\",\"545\":\"2021-03-19\",\"546\":\"2021-03-22\",\"547\":\"2021-03-23\",\"548\":\"2021-03-24\",\"549\":\"2021-03-25\",\"55\":\"2019-03-26\",\"550\":\"2021-03-26\",\"551\":\"2021-03-29\",\"552\":\"2021-03-30\",\"553\":\"2021-03-31\",\"554\":\"2021-04-01\",\"555\":\"2021-04-02\",\"556\":\"2021-04-05\",\"557\":\"2021-04-06\",\"558\":\"2021-04-07\",\"559\":\"2021-04-08\",\"56\":\"2019-03-27\",\"560\":\"2021-04-09\",\"561\":\"2021-04-12\",\"562\":\"2021-04-13\",\"563\":\"2021-04-14\",\"564\":\"2021-04-15\",\"565\":\"2021-04-16\",\"566\":\"2021-04-19\",\"567\":\"2021-04-20\",\"568\":\"2021-04-21\",\"569\":\"2021-04-22\",\"57\":\"2019-03-28\",\"570\":\"2021-04-23\",\"571\":\"2021-04-26\",\"572\":\"2021-04-27\",\"573\":\"2021-04-28\",\"574\":\"2021-04-29\",\"575\":\"2021-04-30\",\"576\":\"2021-05-03\",\"577\":\"2021-05-04\",\"578\":\"2021-05-06\",\"579\":\"2021-05-07\",\"58\":\"2019-03-29\",\"580\":\"2021-05-10\",\"581\":\"2021-05-11\",\"582\":\"2021-05-12\",\"583\":\"2021-05-13\",\"584\":\"2021-05-14\",\"585\":\"2021-05-17\",\"586\":\"2021-05-18\",\"587\":\"2021-05-20\",\"588\":\"2021-05-21\",\"589\":\"2021-05-24\",\"59\":\"2019-04-01\",\"590\":\"2021-05-25\",\"591\":\"2021-05-26\",\"592\":\"2021-05-27\",\"593\":\"2021-05-28\",\"594\":\"2021-05-31\",\"595\":\"2021-06-01\",\"596\":\"2021-06-02\",\"597\":\"2021-06-03\",\"598\":\"2021-06-04\",\"599\":\"2021-06-07\",\"6\":\"2019-01-10\",\"60\":\"2019-04-02\",\"600\":\"2021-06-08\",\"601\":\"2021-06-09\",\"602\":\"2021-06-10\",\"603\":\"2021-06-11\",\"604\":\"2021-06-14\",\"605\":\"2021-06-15\",\"606\":\"2021-06-16\",\"607\":\"2021-06-17\",\"608\":\"2021-06-18\",\"609\":\"2021-06-21\",\"61\":\"2019-04-03\",\"610\":\"2021-06-22\",\"611\":\"2021-06-23\",\"612\":\"2021-06-24\",\"613\":\"2021-06-25\",\"614\":\"2021-06-28\",\"615\":\"2021-06-29\",\"616\":\"2021-06-30\",\"617\":\"2021-07-01\",\"618\":\"2021-07-02\",\"619\":\"2021-07-05\",\"62\":\"2019-04-04\",\"620\":\"2021-07-06\",\"621\":\"2021-07-07\",\"622\":\"2021-07-08\",\"623\":\"2021-07-09\",\"624\":\"2021-07-12\",\"625\":\"2021-07-13\",\"626\":\"2021-07-14\",\"627\":\"2021-07-15\",\"628\":\"2021-07-16\",\"629\":\"2021-07-19\",\"63\":\"2019-04-05\",\"630\":\"2021-07-20\",\"631\":\"2021-07-21\",\"632\":\"2021-07-22\",\"633\":\"2021-07-23\",\"634\":\"2021-07-26\",\"635\":\"2021-07-27\",\"636\":\"2021-07-28\",\"637\":\"2021-07-29\",\"638\":\"2021-07-30\",\"639\":\"2021-08-02\",\"64\":\"2019-04-08\",\"640\":\"2021-08-03\",\"641\":\"2021-08-04\",\"642\":\"2021-08-05\",\"643\":\"2021-08-06\",\"644\":\"2021-08-09\",\"645\":\"2021-08-10\",\"646\":\"2021-08-11\",\"647\":\"2021-08-12\",\"648\":\"2021-08-13\",\"649\":\"2021-08-17\",\"65\":\"2019-04-09\",\"650\":\"2021-08-18\",\"651\":\"2021-08-19\",\"652\":\"2021-08-20\",\"653\":\"2021-08-23\",\"654\":\"2021-08-24\",\"655\":\"2021-08-25\",\"656\":\"2021-08-26\",\"657\":\"2021-08-27\",\"658\":\"2021-08-30\",\"659\":\"2021-08-31\",\"66\":\"2019-04-10\",\"660\":\"2021-09-01\",\"661\":\"2021-09-02\",\"662\":\"2021-09-03\",\"663\":\"2021-09-06\",\"664\":\"2021-09-07\",\"665\":\"2021-09-08\",\"666\":\"2021-09-09\",\"667\":\"2021-09-10\",\"668\":\"2021-09-13\",\"669\":\"2021-09-14\",\"67\":\"2019-04-11\",\"670\":\"2021-09-15\",\"671\":\"2021-09-16\",\"672\":\"2021-09-17\",\"673\":\"2021-09-23\",\"674\":\"2021-09-24\",\"675\":\"2021-09-27\",\"676\":\"2021-09-28\",\"677\":\"2021-09-29\",\"678\":\"2021-09-30\",\"679\":\"2021-10-01\",\"68\":\"2019-04-12\",\"680\":\"2021-10-05\",\"681\":\"2021-10-06\",\"682\":\"2021-10-07\",\"683\":\"2021-10-08\",\"684\":\"2021-10-12\",\"685\":\"2021-10-13\",\"686\":\"2021-10-14\",\"687\":\"2021-10-15\",\"688\":\"2021-10-18\",\"689\":\"2021-10-19\",\"69\":\"2019-04-15\",\"690\":\"2021-10-20\",\"691\":\"2021-10-21\",\"692\":\"2021-10-22\",\"693\":\"2021-10-25\",\"694\":\"2021-10-26\",\"695\":\"2021-10-27\",\"696\":\"2021-10-28\",\"697\":\"2021-10-29\",\"698\":\"2021-11-01\",\"699\":\"2021-11-02\",\"7\":\"2019-01-11\",\"70\":\"2019-04-16\",\"700\":\"2021-11-03\",\"701\":\"2021-11-04\",\"702\":\"2021-11-05\",\"703\":\"2021-11-08\",\"704\":\"2021-11-09\",\"705\":\"2021-11-10\",\"706\":\"2021-11-11\",\"707\":\"2021-11-12\",\"708\":\"2021-11-15\",\"709\":\"2021-11-16\",\"71\":\"2019-04-17\",\"710\":\"2021-11-17\",\"711\":\"2021-11-18\",\"712\":\"2021-11-19\",\"713\":\"2021-11-22\",\"714\":\"2021-11-23\",\"715\":\"2021-11-24\",\"716\":\"2021-11-25\",\"717\":\"2021-11-26\",\"718\":\"2021-11-29\",\"719\":\"2021-11-30\",\"72\":\"2019-04-18\",\"720\":\"2021-12-01\",\"721\":\"2021-12-02\",\"722\":\"2021-12-03\",\"723\":\"2021-12-06\",\"724\":\"2021-12-07\",\"725\":\"2021-12-08\",\"726\":\"2021-12-09\",\"727\":\"2021-12-10\",\"728\":\"2021-12-13\",\"729\":\"2021-12-14\",\"73\":\"2019-04-19\",\"730\":\"2021-12-15\",\"731\":\"2021-12-16\",\"732\":\"2021-12-17\",\"733\":\"2021-12-20\",\"734\":\"2021-12-21\",\"735\":\"\",\"74\":\"2019-04-22\",\"75\":\"2019-04-23\",\"76\":\"2019-04-24\",\"77\":\"2019-04-25\",\"78\":\"2019-04-26\",\"79\":\"2019-04-29\",\"8\":\"2019-01-14\",\"80\":\"2019-04-30\",\"81\":\"2019-05-02\",\"82\":\"2019-05-03\",\"83\":\"2019-05-07\",\"84\":\"2019-05-08\",\"85\":\"2019-05-09\",\"86\":\"2019-05-10\",\"87\":\"2019-05-13\",\"88\":\"2019-05-14\",\"89\":\"2019-05-15\",\"9\":\"2019-01-15\",\"90\":\"2019-05-16\",\"91\":\"2019-05-17\",\"92\":\"2019-05-20\",\"93\":\"2019-05-21\",\"94\":\"2019-05-22\",\"95\":\"2019-05-23\",\"96\":\"2019-05-24\",\"97\":\"2019-05-27\",\"98\":\"2019-05-28\",\"99\":\"2019-05-29\"},\"major_label_policy\":{\"id\":\"1141\"},\"ticker\":{\"id\":\"1081\"}},\"id\":\"1080\",\"type\":\"LinearAxis\"},{\"attributes\":{\"data\":{\"x0\":[3,4,5,7,9,10,11,12,13,15,17,18,19,20,25,26,28,31,32,33,34,42,45,47,48,50,51,52,54,56,58,60,62,66,68,75,77,78,79,81,86,87,88,92,93,97,100,102,103,105,106,107,110,111,112,114,116,117,119,122,124,127,131,132,135,136,139,140,142,144,145,147,154,156,157,159,160,161,162,164,167,168,170,173,175,176,178,179,181,182,183,186,188,189,190,192,196,197,200,201,205,206,207,208,212,214,215,217,220,223,227,230,231,232,233,234,235,236,237,243,244,248,249,250,251,252,253,256,258,260,266,267,269,271,272,273,275,278,280,282,283,286,288,289,292,295,297,300,302,306,309,311,315,317,319,322,325,326,327,329,334,335,337,338,342,343,344,346,347,348,349,351,354,356,358,359,360,361,364,366,370,371,372,377,378,379,381,383,386,387,388,393,395,397,398,399,406,412,414,415,416,417,418,421,422,426,428,429,430,433,435,437,442,443,452,453,455,459,461,462,465,466,467,470,471,473,474,476,477,479,480,482,489,490,493,494,495,497,498,499,500,502,505,507,509,512,514,515,518,522,523,526,528,529,530,533,535,539,542,544,549,550,552,554,555,562,564,567,570,571,576,577,578,579,580,584,587,593,594,595,596,597,606,609,612,613,614,619,620,626,627,630,632,636,637,639,640,641,649,654,659,660,662,663,665,668,672,675,685,686,692,693,694,696,699,703,704,707,712,713,718,720,721,723,724,726,729,730,732,734],\"x1\":[3,4,5,7,9,10,11,12,13,15,17,18,19,20,25,26,28,31,32,33,34,42,45,47,48,50,51,52,54,56,58,60,62,66,68,75,77,78,79,81,86,87,88,92,93,97,100,102,103,105,106,107,110,111,112,114,116,117,119,122,124,127,131,132,135,136,139,140,142,144,145,147,154,156,157,159,160,161,162,164,167,168,170,173,175,176,178,179,181,182,183,186,188,189,190,192,196,197,200,201,205,206,207,208,212,214,215,217,220,223,227,230,231,232,233,234,235,236,237,243,244,248,249,250,251,252,253,256,258,260,266,267,269,271,272,273,275,278,280,282,283,286,288,289,292,295,297,300,302,306,309,311,315,317,319,322,325,326,327,329,334,335,337,338,342,343,344,346,347,348,349,351,354,356,358,359,360,361,364,366,370,371,372,377,378,379,381,383,386,387,388,393,395,397,398,399,406,412,414,415,416,417,418,421,422,426,428,429,430,433,435,437,442,443,452,453,455,459,461,462,465,466,467,470,471,473,474,476,477,479,480,482,489,490,493,494,495,497,498,499,500,502,505,507,509,512,514,515,518,522,523,526,528,529,530,533,535,539,542,544,549,550,552,554,555,562,564,567,570,571,576,577,578,579,580,584,587,593,594,595,596,597,606,609,612,613,614,619,620,626,627,630,632,636,637,639,640,641,649,654,659,660,662,663,665,668,672,675,685,686,692,693,694,696,699,703,704,707,712,713,718,720,721,723,724,726,729,730,732,734],\"y0\":[38900,39200,39600,40550,41100,41450,42100,42400,42750,42250,44750,45500,45500,46400,45000,46250,47500,46150,47100,47200,47150,44950,44950,44300,44250,43900,44200,46250,45650,45600,44900,46100,47100,46700,46900,45500,45000,45000,46150,46150,43450,43200,43100,42100,43950,43000,42700,43900,43700,44350,44850,45000,44150,44050,44500,45500,45800,45800,46600,46900,46200,45450,46650,46850,46950,47300,47200,47150,46850,45500,45500,43800,43900,44600,44800,44200,43800,44200,44400,44300,44100,46100,47000,47100,47700,49200,49300,49650,49250,48700,49250,48650,49000,49200,49450,50200,50400,51500,51200,51500,51200,52300,52700,53500,52600,52800,53700,53500,51600,52300,50300,50900,51400,51600,52200,53300,54800,54900,56700,55400,56900,55600,56400,57400,58600,59700,60000,60700,62800,62600,57400,59000,61100,59800,60700,60700,61900,60400,59800,58000,57000,55500,57600,58000,54900,51600,49650,45500,46950,48350,46850,48800,49250,49200,52000,50000,50000,50100,50500,49200,48550,48100,49100,50500,48900,49450,50000,50700,51200,51500,55000,55900,55900,52800,52100,52900,52300,52900,53900,53900,52900,53600,55000,53800,53800,55000,54700,55400,54400,55700,58800,58100,58400,58300,59500,59000,56600,54800,56700,55800,57300,58700,59300,60800,61000,60000,58800,58600,58200,59200,59900,60400,60200,60900,57500,58900,60300,61400,63200,66700,64800,65200,67800,68000,68400,68300,69900,72100,73500,73900,73800,74500,74000,78800,81300,84400,83900,84200,90000,96800,91400,90000,88000,88600,89900,85600,83400,86400,84000,84500,86000,82800,82900,83600,85400,84000,82600,82500,83000,83800,82100,81600,82300,83000,85200,84500,84500,84000,82900,83500,82400,82600,82300,82100,83500,80300,79700,80400,80600,81300,81400,83000,81900,80000,81400,81900,82000,80800,81200,79600,80600,79000,79800,79200,79400,79500,81400,83100,75100,75700,76700,77100,76700,77600,76400,76300,77200,77700,69600,69800,70700,70600,71500,72200,72200,70600,71000,70900,71400,75200,73000,74800,75800,76700,77700,78200,77200,77600,78000,78300],\"y1\":[37800,37950,38300,39950,39850,40700,41450,41950,41900,41350,43750,44600,44350,44800,44250,44650,46150,45450,46500,46200,46450,43400,44150,43550,43700,43550,43100,44050,44800,44250,44200,45350,46150,46050,46000,45000,44100,43800,45100,45400,42450,42350,41300,41550,42350,42350,42150,42500,43000,43450,44050,44550,43300,43400,43650,44850,45200,45200,45750,45850,45250,44700,45750,46300,46600,46600,46600,46550,46300,44850,44300,42500,43300,43550,44150,43650,42950,43600,43750,43750,43150,44450,46300,46400,46800,47850,49000,48850,48900,48000,47900,47350,47600,48000,48800,49900,49800,50700,50500,50700,50400,51400,52100,52700,51600,51900,52600,52700,50900,51600,49500,49950,50700,50700,51400,52700,53900,54300,55400,54400,55500,54600,55600,55900,57400,58300,59100,59000,61700,60400,55200,56800,59700,59100,59700,59700,60200,59400,58500,56200,56000,53600,54600,56700,53700,46850,46700,43550,43050,46550,45350,47250,48650,48300,50300,48350,49100,49300,49600,48500,47200,47650,47600,49700,48450,48600,48800,49700,50600,50800,51700,54000,54900,51500,50600,51300,51600,51600,51600,52200,52100,52700,53800,53100,53200,54300,54100,54800,53700,54300,56400,57000,57100,57500,57800,57700,55400,54100,55500,55100,55800,57200,57800,59900,60500,59000,57400,57600,57700,57500,58500,59900,59500,60100,56000,57600,58800,60400,61000,63900,63900,63900,64700,66000,67600,67100,68300,70100,71900,72000,72500,73200,72300,74000,77300,80200,81600,82700,83000,89500,87800,88700,83600,86500,86300,83200,81000,83700,82500,83300,84200,81000,81100,81300,83000,82800,81100,81000,82100,82600,80800,81000,81300,82000,83900,82800,83400,83100,81600,82600,81000,81800,81700,81500,81800,78900,79100,79400,79600,80100,80300,81100,81100,79600,80100,81200,81600,80000,80500,79100,79500,78400,78900,78100,78800,78700,79300,81800,74000,73900,74300,75900,76000,76600,75600,75100,75900,77000,68300,68800,70000,69500,70400,69500,70700,69800,70100,69900,70100,73000,71400,71600,73800,74900,75600,77000,76200,76300,76800,77500]},\"selected\":{\"id\":\"1123\"},\"selection_policy\":{\"id\":\"1124\"}},\"id\":\"1035\",\"type\":\"ColumnDataSource\"},{\"attributes\":{},\"id\":\"1078\",\"type\":\"LinearScale\"},{\"attributes\":{},\"id\":\"1024\",\"type\":\"SaveTool\"},{\"attributes\":{},\"id\":\"1085\",\"type\":\"BasicTicker\"},{\"attributes\":{\"overlay\":{\"id\":\"1027\"}},\"id\":\"1023\",\"type\":\"BoxZoomTool\"},{\"attributes\":{},\"id\":\"1081\",\"type\":\"BasicTicker\"},{\"attributes\":{\"axis\":{\"id\":\"1080\"},\"ticker\":null},\"id\":\"1083\",\"type\":\"Grid\"},{\"attributes\":{\"axis\":{\"id\":\"1084\"},\"dimension\":1,\"ticker\":null},\"id\":\"1087\",\"type\":\"Grid\"},{\"attributes\":{\"formatter\":{\"id\":\"1112\"},\"major_label_policy\":{\"id\":\"1143\"},\"ticker\":{\"id\":\"1085\"}},\"id\":\"1084\",\"type\":\"LinearAxis\"},{\"attributes\":{},\"id\":\"1026\",\"type\":\"HelpTool\"},{\"attributes\":{\"fill_color\":{\"value\":\"red\"},\"top\":{\"field\":\"top\"},\"width\":{\"value\":0.8},\"x\":{\"field\":\"x\"}},\"id\":\"1103\",\"type\":\"VBar\"},{\"attributes\":{},\"id\":\"1025\",\"type\":\"ResetTool\"},{\"attributes\":{\"data\":{\"top\":[12471493,14108958,12756554,17452708,11984996,11736903,11355701,11071079,14747623,22789395,17505980,21621145,15872001,13184367,17259341,11506720,7484716,7985547,8045211,23569321,11049749,10717408,11431977,18039161,9846242,21138016,9729811,11491713,9480688,12436570,12650168,11883995,13697399,8733019,12808747,6920566,13299267,11121273,12014907,23029718,11563730,13687828,15752397,18812133,12259006,13966305,24506881,15466580,12464135,8607439,16906541,11890424,10417690,9454913,7076774,9226097,12603534,12949231,9669368,7235395,7823843,9253930,10989751,7407824,8819393,9009109,9061381,12872916,12151374,14214086,15083824,16926881,8750135,9528115,8434205,8061177,7954949,16883932,10768862,9774941,12441837,18297430,16141619,10413027,16461413,7871955,9187141,9497119,8382463,9331695,14239367,18639855,11130635,9136282,8483106,10898729,21185785,7581629,8959435,10304777,13012411,14361133,11603290,12010018,8907177,12560070,14298646,9050625,27372226,11179334,18877252,13246549,11414563,11379521,29178697,19358433,11868463,12313056,12993228,15422255,23501171,24102579,16906295,14381774,16025661,15339565,23664541,20821939,23995260,16402493,12904207,18449775,16674266,14591924,25627537,25483102,30054227,30403412,30261485,32106554,45707281,48149999,59462933,51218151,56925513,49801908,52735922,30654261,22784682,23395726,31524034,23349760,32041675,27407543,18754442,16095399,26083749,15319700,16357743,23433590,20481981,25168295,14949266,19706284,15127490,19548479,31309318,49257814,25634965,33815123,28772921,26672595,18157985,18086152,24519552,21575360,21157172,19856623,30760032,14269484,24051450,10507530,18297260,16214932,21054421,48431566,21943345,21625874,24907912,22089460,25307825,30386029,17651593,32671367,28384920,31517520,20648281,25108356,20830381,12614080,15503563,20228289,14861838,24589924,19247631,17756232,19326115,13268226,17260416,22636966,26907844,21718561,19073552,25628510,31508829,36354334,27134398,32158235,32447065,43811016,29703942,28130533,28490496,39882928,21510415,24293214,20367355,19411326,32502870,40085044,38655276,42089013,59013307,90306177,33431809,43227951,25318011,30861661,33178936,31859808,39615978,24171688,20898332,23025766,23529706,21327683,25880879,26807651,34155986,38520800,24348331,25420764,23818297,13735798,18585244,13299907,17926638,14952134,17240518,18676461,22997538,19042023,19244259,15238206,16377412,15521965,21636079,17805080,15596759,20000973,17047511,19385027,28996680,35812268,17740855,20961714,13628942,23198510,13321324,14058401,16414644,29546007,14908823,17586995,14999855,14916721,16063340,13856548,18771080,15744317,13382882,12131651,15992202,16660998,22720577,9863450,11575636,13766279,13155414,12618790,10040975,11427693,12743417,14360453,24339360,25642368,15522581,20362639,30241137,42365223,61270643,22364803,21016913,22319664,24630370,12861180,13239401,17600770,11397775,18167057,13067622,16289502,17055590,15406382,23992458,24013921,14043287,31001484,10151638,10891094,10029621,10528252,20644902,16812570,12667743,11159589,11489122,12420710,11027606,11954728,27506623,13002242,16682559,30364841,23652940,19232453,21558340,21604528,15038750,11996128,13108479,13333496],\"x\":[1,2,4,5,8,11,13,15,16,17,20,21,23,26,28,32,35,36,37,38,42,44,45,47,51,52,55,58,60,61,62,66,67,69,72,75,76,80,83,85,88,90,92,93,95,96,98,102,104,108,109,111,113,115,117,118,119,120,123,125,126,128,129,132,135,136,137,143,145,146,147,149,153,154,156,158,160,161,163,166,167,168,172,175,176,179,180,183,185,186,188,189,191,193,195,197,199,202,203,204,206,208,210,214,217,218,219,221,222,225,226,228,230,233,234,237,242,244,246,247,250,251,254,256,257,260,262,264,266,270,273,274,277,279,281,283,285,286,291,292,293,294,295,297,299,302,303,307,310,311,312,318,319,321,323,326,328,331,332,333,337,338,340,341,343,344,345,349,352,355,357,359,361,363,364,366,368,372,373,378,379,382,383,385,387,388,391,395,398,400,402,404,408,411,414,417,421,424,427,431,432,433,435,436,438,440,443,447,448,450,451,454,458,459,461,462,467,468,469,472,474,476,477,480,482,485,487,489,490,491,494,496,498,499,503,504,507,508,510,512,513,517,520,521,522,525,526,529,530,531,534,537,539,541,544,547,548,551,553,554,555,557,559,562,564,567,568,570,573,574,578,580,581,582,585,588,590,592,594,595,596,597,601,602,606,608,609,611,612,615,617,620,621,622,623,625,626,627,629,632,634,635,636,637,640,641,644,645,646,647,648,652,654,655,659,663,664,666,668,669,671,672,673,676,677,680,683,684,690,691,693,694,696,699,702,704,706,708,710,712,713,717,718,719,721,724,725,726,728,731,732,734]},\"selected\":{\"id\":\"1145\"},\"selection_policy\":{\"id\":\"1146\"}},\"id\":\"1102\",\"type\":\"ColumnDataSource\"},{\"attributes\":{\"active_multi\":null,\"tools\":[{\"id\":\"1088\"},{\"id\":\"1089\"},{\"id\":\"1090\"},{\"id\":\"1091\"},{\"id\":\"1092\"},{\"id\":\"1093\"}]},\"id\":\"1095\",\"type\":\"Toolbar\"},{\"attributes\":{},\"id\":\"1088\",\"type\":\"PanTool\"},{\"attributes\":{},\"id\":\"1089\",\"type\":\"WheelZoomTool\"},{\"attributes\":{\"overlay\":{\"id\":\"1094\"}},\"id\":\"1090\",\"type\":\"BoxZoomTool\"},{\"attributes\":{},\"id\":\"1091\",\"type\":\"SaveTool\"},{\"attributes\":{},\"id\":\"1092\",\"type\":\"ResetTool\"},{\"attributes\":{\"line_color\":{\"value\":\"red\"},\"x0\":{\"field\":\"x0\"},\"x1\":{\"field\":\"x1\"},\"y0\":{\"field\":\"y0\"},\"y1\":{\"field\":\"y1\"}},\"id\":\"1036\",\"type\":\"Segment\"},{\"attributes\":{},\"id\":\"1093\",\"type\":\"HelpTool\"},{\"attributes\":{\"below\":[{\"id\":\"1080\"}],\"center\":[{\"id\":\"1083\"},{\"id\":\"1087\"}],\"height\":180,\"left\":[{\"id\":\"1084\"}],\"renderers\":[{\"id\":\"1105\"},{\"id\":\"1110\"}],\"title\":{\"id\":\"1139\"},\"toolbar\":{\"id\":\"1095\"},\"toolbar_location\":null,\"width\":1000,\"x_range\":{\"id\":\"1005\"},\"x_scale\":{\"id\":\"1076\"},\"y_range\":{\"id\":\"1074\"},\"y_scale\":{\"id\":\"1078\"}},\"id\":\"1072\",\"subtype\":\"Figure\",\"type\":\"Plot\"},{\"attributes\":{\"toolbar\":{\"id\":\"1151\"},\"toolbar_location\":\"above\"},\"id\":\"1152\",\"type\":\"ToolbarBox\"},{\"attributes\":{\"toolbars\":[{\"id\":\"1028\"},{\"id\":\"1095\"}],\"tools\":[{\"id\":\"1021\"},{\"id\":\"1022\"},{\"id\":\"1023\"},{\"id\":\"1024\"},{\"id\":\"1025\"},{\"id\":\"1026\"},{\"id\":\"1088\"},{\"id\":\"1089\"},{\"id\":\"1090\"},{\"id\":\"1091\"},{\"id\":\"1092\"},{\"id\":\"1093\"}]},\"id\":\"1151\",\"type\":\"ProxyToolbar\"},{\"attributes\":{},\"id\":\"1117\",\"type\":\"BasicTickFormatter\"},{\"attributes\":{},\"id\":\"1119\",\"type\":\"AllLabels\"},{\"attributes\":{\"bottom_units\":\"screen\",\"fill_alpha\":0.5,\"fill_color\":\"lightgrey\",\"left_units\":\"screen\",\"level\":\"overlay\",\"line_alpha\":1.0,\"line_color\":\"black\",\"line_dash\":[4,4],\"line_width\":2,\"right_units\":\"screen\",\"syncable\":false,\"top_units\":\"screen\"},\"id\":\"1094\",\"type\":\"BoxAnnotation\"},{\"attributes\":{},\"id\":\"1121\",\"type\":\"AllLabels\"},{\"attributes\":{\"days\":[\"%Y-%m-%d\"],\"hours\":[\"%H:%M\"]},\"id\":\"1114\",\"type\":\"DatetimeTickFormatter\"},{\"attributes\":{},\"id\":\"1123\",\"type\":\"Selection\"},{\"attributes\":{\"formatter\":{\"id\":\"1117\"},\"major_label_policy\":{\"id\":\"1119\"},\"ticker\":{\"id\":\"1014\"},\"visible\":false},\"id\":\"1013\",\"type\":\"LinearAxis\"},{\"attributes\":{\"source\":{\"id\":\"1102\"}},\"id\":\"1106\",\"type\":\"CDSView\"},{\"attributes\":{\"fill_alpha\":{\"value\":0.1},\"fill_color\":{\"value\":\"red\"},\"line_alpha\":{\"value\":0.1},\"top\":{\"field\":\"top\"},\"width\":{\"value\":0.8},\"x\":{\"field\":\"x\"}},\"id\":\"1104\",\"type\":\"VBar\"},{\"attributes\":{},\"id\":\"1125\",\"type\":\"Selection\"},{\"attributes\":{\"data_source\":{\"id\":\"1102\"},\"glyph\":{\"id\":\"1103\"},\"hover_glyph\":null,\"muted_glyph\":null,\"nonselection_glyph\":{\"id\":\"1104\"},\"view\":{\"id\":\"1106\"}},\"id\":\"1105\",\"type\":\"GlyphRenderer\"},{\"attributes\":{},\"id\":\"1126\",\"type\":\"UnionRenderers\"},{\"attributes\":{\"fill_color\":{\"value\":\"blue\"},\"top\":{\"field\":\"top\"},\"width\":{\"value\":0.8},\"x\":{\"field\":\"x\"}},\"id\":\"1108\",\"type\":\"VBar\"},{\"attributes\":{},\"id\":\"1127\",\"type\":\"Selection\"},{\"attributes\":{\"axis_label\":\"\\ub2e8\\uc704:KRW\",\"formatter\":{\"id\":\"1055\"},\"major_label_policy\":{\"id\":\"1121\"},\"ticker\":{\"id\":\"1018\"}},\"id\":\"1017\",\"type\":\"LinearAxis\"},{\"attributes\":{},\"id\":\"1128\",\"type\":\"UnionRenderers\"},{\"attributes\":{},\"id\":\"1129\",\"type\":\"Selection\"}],\"root_ids\":[\"1153\"]},\"title\":\"Bokeh Application\",\"version\":\"2.3.3\"}};\n",
              "  var render_items = [{\"docid\":\"a4b59bbf-8ac2-42cf-a764-90caa6fc5dfc\",\"root_ids\":[\"1153\"],\"roots\":{\"1153\":\"a7bf5a9c-cdc7-4512-b0c7-1087d06d84d5\"}}];\n",
              "  root.Bokeh.embed.embed_items_notebook(docs_json, render_items);\n",
              "\n",
              "  }\n",
              "  if (root.Bokeh !== undefined) {\n",
              "    embed_document(root);\n",
              "  } else {\n",
              "    var attempts = 0;\n",
              "    var timer = setInterval(function(root) {\n",
              "      if (root.Bokeh !== undefined) {\n",
              "        clearInterval(timer);\n",
              "        embed_document(root);\n",
              "      } else {\n",
              "        attempts++;\n",
              "        if (attempts > 100) {\n",
              "          clearInterval(timer);\n",
              "          console.log(\"Bokeh: ERROR: Unable to run BokehJS code because BokehJS library is missing\");\n",
              "        }\n",
              "      }\n",
              "    }, 10, root)\n",
              "  }\n",
              "})(window);"
            ],
            "application/vnd.bokehjs_exec.v0+json": ""
          },
          "metadata": {
            "application/vnd.bokehjs_exec.v0+json": {
              "id": "1153"
            }
          }
        }
      ]
    }
  ]
}