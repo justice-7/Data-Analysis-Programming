{
  "nbformat": 4,
  "nbformat_minor": 0,
  "metadata": {
    "colab": {
      "name": "DAP 프로젝트.ipynb",
      "private_outputs": true,
      "provenance": [],
      "collapsed_sections": [],
      "authorship_tag": "ABX9TyPIP/7grQEOKX7aK3DkiRRS",
      "include_colab_link": true
    },
    "kernelspec": {
      "name": "python3",
      "display_name": "Python 3"
    },
    "language_info": {
      "name": "python"
    }
  },
  "cells": [
    {
      "cell_type": "markdown",
      "metadata": {
        "id": "view-in-github",
        "colab_type": "text"
      },
      "source": [
        "<a href=\"https://colab.research.google.com/github/justice-7/Data-Analysis-Programming/blob/main/DAP_%ED%94%84%EB%A1%9C%EC%A0%9D%ED%8A%B8.ipynb\" target=\"_parent\"><img src=\"https://colab.research.google.com/assets/colab-badge.svg\" alt=\"Open In Colab\"/></a>"
      ]
    },
    {
      "cell_type": "markdown",
      "metadata": {
        "id": "qCSIsfYuy8aD"
      },
      "source": [
        "# 주식 정보 크롤링\n",
        "참고:\n",
        "https://blog.naver.com/PostView.nhn?isHttpsRedirect=true&blogId=ym7596&logNo=222056342589&categoryNo=0&parentCategoryNo=0&viewDate=&currentPage=1&postListTopCurrentPage=1&from=postView"
      ]
    },
    {
      "cell_type": "code",
      "metadata": {
        "id": "yKBKHNwRncuu"
      },
      "source": [
        "!pip install selenium\n",
        "!pip install html_table_parse\n",
        "!pip install pandas\n",
        "!pip install beutifulsoup4 \n",
        "!pip install --upgrade beautifulsoup4\n",
        "!apt install chromium-chromedriver\n",
        "!cp /usr/lib/chromium-browser/chromedriver /usr/bin"
      ],
      "execution_count": null,
      "outputs": []
    },
    {
      "cell_type": "code",
      "metadata": {
        "id": "BmoaDYY4nCTL"
      },
      "source": [
        "from bs4 import BeautifulSoup\n",
        "from selenium import webdriver\n",
        "\n",
        "import pandas as pd\n",
        "import time\n",
        "import xlwt\n",
        "\n",
        "import numpy as np  \n",
        "import glob  \n",
        "import sys\n",
        "import os\n",
        "\n",
        "from selenium.webdriver.support.ui import Select\n",
        "\n",
        "options = webdriver.ChromeOptions()\n",
        "options.add_argument('--headless')       \n",
        "options.add_argument('--no-sandbox')\n",
        "options.add_argument('--disable-dev-shm-usage')\n",
        "driver = webdriver.Chrome('chromedriver', options=options)\n",
        "\n",
        "def get_items(prod_items):\n",
        "    prod_data = []\n",
        "    for prod_item in prod_items:\n",
        "        if len(prod_item) <= 1:\n",
        "            continue\n",
        "    \n",
        "        try:\n",
        "            name = prod_item.select('td')[1].text.strip()\n",
        "        except:\n",
        "            name = ''\n",
        "        try:\n",
        "            price = prod_item.select('td')[2].text.strip()\n",
        "        except:\n",
        "            price = '0'\n",
        "        try:\n",
        "             georae= prod_item.select('td')[6].text.strip()\n",
        "        except:\n",
        "            georae = '0'\n",
        "        try:\n",
        "            stockCnt = prod_item.select('td')[7].text.strip()\n",
        "        except:\n",
        "            stockCnt = '0'\n",
        "        try:\n",
        "            eps = prod_item.select('td')[8].text.strip()\n",
        "        except:\n",
        "            eps = '0'\n",
        "        try:\n",
        "            per = prod_item.select('td')[9].text.strip()\n",
        "        except:\n",
        "            per = '0'\n",
        "        try:\n",
        "            roe = prod_item.select('td')[10].text.strip()\n",
        "        except:\n",
        "            roe = '0'\n",
        "        try:\n",
        "            pbr = prod_item.select('td')[11].text.strip()\n",
        "        except:\n",
        "            pbr = '0'\n",
        "        \n",
        "   \n",
        "        prod_data.append([name,price,georae,stockCnt,eps,per,roe,pbr])\n",
        "    return prod_data\n",
        "\n",
        "[os.remove(f) for f in glob.glob(\"./stock*.csv\")] # 만들어진 파일 삭제(stock*.csv)\n",
        "\n",
        "for i in range(1,7):\n",
        "    url='https://finance.naver.com/sise/sise_market_sum.naver?&page='+str(i)\n",
        "    driver.get(url)\n",
        "    time.sleep(2)\n",
        "\n",
        "    if(i==1):\n",
        "        driver.find_element_by_id('option4').click()\n",
        "        driver.find_element_by_id('option15').click()\n",
        "        driver.find_element_by_id('option23').click()\n",
        "        driver.find_element_by_id('option24').click()\n",
        "\n",
        "        #원하는 항목을 체크 후 적용하기 클릭\n",
        "        driver.find_element_by_xpath('/html/body/div[3]/div[2]/div[2]/div[1]/div[2]/form/div/div/div/a[1]/img').click()\n",
        "\n",
        "    time.sleep(2)\n",
        "\n",
        "    html = driver.page_source\n",
        "    soup = BeautifulSoup(html,'html.parser')\n",
        "\n",
        "    prod_items = soup.select('table.type_2 > tbody > tr')\n",
        "\n",
        "    prod_data_fin = get_items(prod_items)\n",
        "\n",
        "    data = pd.DataFrame(prod_data_fin)\n",
        "\n",
        "    data.columns = ['이름','현재가','거래량','상장주식수','주당순이익','PER','ROE','PBR']\n",
        "\n",
        "    data.to_csv('./stock'+str(i)+'.csv')\n",
        "\n",
        "    time.sleep(2)\n",
        "\n",
        "all_data = []  \n",
        "for f in glob.glob('./stock*.csv'): # stock으로 시작하는 파일  \n",
        "    df = pd.read_csv(f)  \n",
        "    all_data.append(df)\n",
        "\n",
        "dataCombine = pd.concat(all_data, axis=0, ignore_index=True)\n",
        "# 파일저장 \n",
        "dataCombine.to_csv(\"./stock.csv\", index=False)\n",
        "\n"
      ],
      "execution_count": null,
      "outputs": []
    },
    {
      "cell_type": "code",
      "metadata": {
        "id": "enRCA45wnbrs"
      },
      "source": [
        "df=pd.read_csv('./stock.csv')\n",
        "df=df[['이름','현재가','거래량','상장주식수','주당순이익','PER','ROE','PBR']]\n",
        "df"
      ],
      "execution_count": null,
      "outputs": []
    },
    {
      "cell_type": "code",
      "metadata": {
        "id": "O8Vf8UA4pEWd"
      },
      "source": [
        ""
      ],
      "execution_count": null,
      "outputs": []
    }
  ]
}